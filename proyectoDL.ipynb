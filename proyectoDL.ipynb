{
  "cells": [
    {
      "cell_type": "markdown",
      "metadata": {
        "colab_type": "text",
        "id": "view-in-github"
      },
      "source": [
        "<a href=\"https://colab.research.google.com/github/MaJu502/proyectoDL/blob/main/proyectoDL.ipynb\" target=\"_parent\"><img src=\"https://colab.research.google.com/assets/colab-badge.svg\" alt=\"Open In Colab\"/></a>"
      ]
    },
    {
      "cell_type": "markdown",
      "metadata": {
        "id": "dgU-QqmJU3ZV"
      },
      "source": [
        "#Proyecto Deep Learning\n",
        "- Diego Cordova 20212\n",
        "- Marco Jurado 20308\n",
        "- Cristian Aguirre 20231\n",
        "- Paola Contreras 20213\n",
        "- Paola de Leon 20361"
      ]
    },
    {
      "cell_type": "code",
      "execution_count": 1,
      "metadata": {
        "colab": {
          "base_uri": "https://localhost:8080/"
        },
        "id": "gT95QfnIUwXF",
        "outputId": "fd3e8487-01d1-40f8-c539-d329daf48322"
      },
      "outputs": [
        {
          "name": "stdout",
          "output_type": "stream",
          "text": [
            "Defaulting to user installation because normal site-packages is not writeable\n",
            "Collecting kaggle\n",
            "  Downloading kaggle-1.5.16.tar.gz (83 kB)\n",
            "                                              0.0/83.6 kB ? eta -:--:--\n",
            "     ---------------------------------------  81.9/83.6 kB 1.5 MB/s eta 0:00:01\n",
            "     ---------------------------------------- 83.6/83.6 kB 1.6 MB/s eta 0:00:00\n",
            "  Preparing metadata (setup.py): started\n",
            "  Preparing metadata (setup.py): finished with status 'done'\n",
            "Requirement already satisfied: six>=1.10 in c:\\users\\marco\\appdata\\roaming\\python\\python310\\site-packages (from kaggle) (1.16.0)\n",
            "Requirement already satisfied: certifi in c:\\users\\marco\\appdata\\roaming\\python\\python310\\site-packages (from kaggle) (2022.12.7)\n",
            "Requirement already satisfied: python-dateutil in c:\\users\\marco\\appdata\\roaming\\python\\python310\\site-packages (from kaggle) (2.8.2)\n",
            "Requirement already satisfied: requests in c:\\users\\marco\\appdata\\roaming\\python\\python310\\site-packages (from kaggle) (2.30.0)\n",
            "Requirement already satisfied: tqdm in c:\\users\\marco\\appdata\\roaming\\python\\python310\\site-packages (from kaggle) (4.65.0)\n",
            "Collecting python-slugify (from kaggle)\n",
            "  Downloading python_slugify-8.0.1-py2.py3-none-any.whl (9.7 kB)\n",
            "Requirement already satisfied: urllib3 in c:\\users\\marco\\appdata\\roaming\\python\\python310\\site-packages (from kaggle) (1.26.15)\n",
            "Requirement already satisfied: bleach in c:\\users\\marco\\appdata\\roaming\\python\\python310\\site-packages (from kaggle) (6.0.0)\n",
            "Requirement already satisfied: webencodings in c:\\users\\marco\\appdata\\roaming\\python\\python310\\site-packages (from bleach->kaggle) (0.5.1)\n",
            "Collecting text-unidecode>=1.3 (from python-slugify->kaggle)\n",
            "  Downloading text_unidecode-1.3-py2.py3-none-any.whl (78 kB)\n",
            "                                              0.0/78.2 kB ? eta -:--:--\n",
            "     ---------------------------------------- 78.2/78.2 kB ? eta 0:00:00\n",
            "Requirement already satisfied: charset-normalizer<4,>=2 in c:\\users\\marco\\appdata\\roaming\\python\\python310\\site-packages (from requests->kaggle) (3.1.0)\n",
            "Requirement already satisfied: idna<4,>=2.5 in c:\\users\\marco\\appdata\\roaming\\python\\python310\\site-packages (from requests->kaggle) (3.4)\n",
            "Requirement already satisfied: colorama in c:\\users\\marco\\appdata\\roaming\\python\\python310\\site-packages (from tqdm->kaggle) (0.4.6)\n",
            "Building wheels for collected packages: kaggle\n",
            "  Building wheel for kaggle (setup.py): started\n",
            "  Building wheel for kaggle (setup.py): finished with status 'done'\n",
            "  Created wheel for kaggle: filename=kaggle-1.5.16-py3-none-any.whl size=110713 sha256=a23eeec37a85a306056fb5a4beb7222bddcf601d20a4dffc67ddb72b924c4280\n",
            "  Stored in directory: c:\\users\\marco\\appdata\\local\\pip\\cache\\wheels\\43\\4b\\fb\\736478af5e8004810081a06259f9aa2f7c3329fc5d03c2c412\n",
            "Successfully built kaggle\n",
            "Installing collected packages: text-unidecode, python-slugify, kaggle\n",
            "Successfully installed kaggle-1.5.16 python-slugify-8.0.1 text-unidecode-1.3\n"
          ]
        },
        {
          "name": "stderr",
          "output_type": "stream",
          "text": [
            "\n",
            "[notice] A new release of pip is available: 23.1.2 -> 23.3.1\n",
            "[notice] To update, run: python.exe -m pip install --upgrade pip\n"
          ]
        }
      ],
      "source": [
        "! pip install kaggle"
      ]
    },
    {
      "cell_type": "code",
      "execution_count": 2,
      "metadata": {
        "colab": {
          "base_uri": "https://localhost:8080/"
        },
        "id": "DGDK03s94jb4",
        "outputId": "dce7b334-b878-4a66-c0c4-d1c1c0492c3e"
      },
      "outputs": [
        {
          "name": "stderr",
          "output_type": "stream",
          "text": [
            "\"ls\" no se reconoce como un comando interno o externo,\n",
            "programa o archivo por lotes ejecutable.\n"
          ]
        }
      ],
      "source": [
        "!ls -a /root/"
      ]
    },
    {
      "cell_type": "code",
      "execution_count": 3,
      "metadata": {
        "colab": {
          "base_uri": "https://localhost:8080/"
        },
        "id": "7vR3i-e72KwA",
        "outputId": "12edd082-9d10-405d-a35b-7ddea03222fe"
      },
      "outputs": [
        {
          "name": "stderr",
          "output_type": "stream",
          "text": [
            "La sintaxis del comando no es correcta.\n"
          ]
        }
      ],
      "source": [
        "!mkdir /root/.kaggle/"
      ]
    },
    {
      "cell_type": "code",
      "execution_count": 4,
      "metadata": {
        "id": "maN5xtpp2aXZ"
      },
      "outputs": [
        {
          "name": "stderr",
          "output_type": "stream",
          "text": [
            "\"mv\" no se reconoce como un comando interno o externo,\n",
            "programa o archivo por lotes ejecutable.\n"
          ]
        }
      ],
      "source": [
        "!mv /content/kaggle.json /root/.kaggle/\n"
      ]
    },
    {
      "cell_type": "code",
      "execution_count": 5,
      "metadata": {
        "colab": {
          "base_uri": "https://localhost:8080/"
        },
        "id": "hGjouUlh2R15",
        "outputId": "4d6864e6-b9bf-417f-c0c8-e5f649ef5067"
      },
      "outputs": [
        {
          "name": "stderr",
          "output_type": "stream",
          "text": [
            "El formato del par�metro no es correcto: \"root\".\n"
          ]
        }
      ],
      "source": [
        "ls /root/.kaggle/\n"
      ]
    },
    {
      "cell_type": "code",
      "execution_count": 6,
      "metadata": {
        "id": "c7fOtUl25da6"
      },
      "outputs": [
        {
          "name": "stderr",
          "output_type": "stream",
          "text": [
            "\"chmod\" no se reconoce como un comando interno o externo,\n",
            "programa o archivo por lotes ejecutable.\n"
          ]
        }
      ],
      "source": [
        "!chmod 600 /root/.kaggle/kaggle.json"
      ]
    },
    {
      "cell_type": "code",
      "execution_count": 7,
      "metadata": {
        "colab": {
          "base_uri": "https://localhost:8080/"
        },
        "id": "zNYGBDhq5Rpb",
        "outputId": "65b15cc1-03c0-4424-8f1e-0529621ab6c2"
      },
      "outputs": [
        {
          "name": "stderr",
          "output_type": "stream",
          "text": [
            "Traceback (most recent call last):\n",
            "  File \"C:\\Program Files\\Python310\\lib\\runpy.py\", line 196, in _run_module_as_main\n",
            "    return _run_code(code, main_globals, None,\n",
            "  File \"C:\\Program Files\\Python310\\lib\\runpy.py\", line 86, in _run_code\n",
            "    exec(code, run_globals)\n",
            "  File \"c:\\Users\\marco\\AppData\\Roaming\\Python\\Python310\\Scripts\\kaggle.exe\\__main__.py\", line 4, in <module>\n",
            "  File \"C:\\Users\\marco\\AppData\\Roaming\\Python\\Python310\\site-packages\\kaggle\\__init__.py\", line 23, in <module>\n",
            "    api.authenticate()\n",
            "  File \"C:\\Users\\marco\\AppData\\Roaming\\Python\\Python310\\site-packages\\kaggle\\api\\kaggle_api_extended.py\", line 403, in authenticate\n",
            "    raise IOError('Could not find {}. Make sure it\\'s located in'\n",
            "OSError: Could not find kaggle.json. Make sure it's located in C:\\Users\\marco\\.kaggle. Or use the environment method.\n"
          ]
        }
      ],
      "source": [
        "!kaggle datasets download -d jonathanoheix/face-expression-recognition-dataset"
      ]
    },
    {
      "cell_type": "code",
      "execution_count": 8,
      "metadata": {
        "colab": {
          "base_uri": "https://localhost:8080/"
        },
        "id": "E_hBnXDQANGJ",
        "outputId": "5ceaa74a-e3ff-41c3-fe80-bf6cd878f5e4"
      },
      "outputs": [
        {
          "name": "stdout",
          "output_type": "stream",
          "text": [
            "[WinError 2] El sistema no puede encontrar el archivo especificado: '/content'\n",
            "c:\\Users\\marco\\OneDrive\\Desktop\\mercaditos\\proyectoDL\n"
          ]
        },
        {
          "name": "stderr",
          "output_type": "stream",
          "text": [
            "\"unzip\" no se reconoce como un comando interno o externo,\n",
            "programa o archivo por lotes ejecutable.\n"
          ]
        }
      ],
      "source": [
        "%cd /content\n",
        "!unzip face-expression-recognition-dataset.zip"
      ]
    },
    {
      "cell_type": "markdown",
      "metadata": {
        "id": "7_bFOZFgYAd6"
      },
      "source": [
        "## Dividir los videos en frames"
      ]
    },
    {
      "cell_type": "code",
      "execution_count": 9,
      "metadata": {
        "id": "hM_kvSPBYC04"
      },
      "outputs": [
        {
          "name": "stdout",
          "output_type": "stream",
          "text": [
            "Defaulting to user installation because normal site-packages is not writeable\n",
            "Collecting opencv-python\n",
            "  Downloading opencv_python-4.8.1.78-cp37-abi3-win_amd64.whl (38.1 MB)\n",
            "                                              0.0/38.1 MB ? eta -:--:--\n",
            "                                              0.1/38.1 MB 2.0 MB/s eta 0:00:20\n",
            "                                              0.2/38.1 MB 2.9 MB/s eta 0:00:14\n",
            "                                              0.4/38.1 MB 3.0 MB/s eta 0:00:13\n",
            "                                              0.5/38.1 MB 3.0 MB/s eta 0:00:13\n",
            "                                              0.7/38.1 MB 3.3 MB/s eta 0:00:12\n",
            "                                              0.9/38.1 MB 3.3 MB/s eta 0:00:12\n",
            "     -                                        1.0/38.1 MB 3.3 MB/s eta 0:00:12\n",
            "     -                                        1.2/38.1 MB 3.3 MB/s eta 0:00:12\n",
            "     -                                        1.3/38.1 MB 3.3 MB/s eta 0:00:12\n",
            "     -                                        1.5/38.1 MB 3.3 MB/s eta 0:00:11\n",
            "     -                                        1.7/38.1 MB 3.4 MB/s eta 0:00:11\n",
            "     -                                        1.8/38.1 MB 3.3 MB/s eta 0:00:11\n",
            "     --                                       2.0/38.1 MB 3.4 MB/s eta 0:00:11\n",
            "     --                                       2.1/38.1 MB 3.3 MB/s eta 0:00:11\n",
            "     --                                       2.3/38.1 MB 3.3 MB/s eta 0:00:11\n",
            "     --                                       2.5/38.1 MB 3.4 MB/s eta 0:00:11\n",
            "     --                                       2.7/38.1 MB 3.4 MB/s eta 0:00:11\n",
            "     --                                       2.8/38.1 MB 3.4 MB/s eta 0:00:11\n",
            "     ---                                      3.0/38.1 MB 3.3 MB/s eta 0:00:11\n",
            "     ---                                      3.1/38.1 MB 3.3 MB/s eta 0:00:11\n",
            "     ---                                      3.2/38.1 MB 3.3 MB/s eta 0:00:11\n",
            "     ---                                      3.3/38.1 MB 3.3 MB/s eta 0:00:11\n",
            "     ---                                      3.5/38.1 MB 3.3 MB/s eta 0:00:11\n",
            "     ---                                      3.6/38.1 MB 3.3 MB/s eta 0:00:11\n",
            "     ---                                      3.8/38.1 MB 3.3 MB/s eta 0:00:11\n",
            "     ----                                     3.9/38.1 MB 3.3 MB/s eta 0:00:11\n",
            "     ----                                     4.1/38.1 MB 3.3 MB/s eta 0:00:11\n",
            "     ----                                     4.2/38.1 MB 3.3 MB/s eta 0:00:11\n",
            "     ----                                     4.4/38.1 MB 3.3 MB/s eta 0:00:11\n",
            "     ----                                     4.5/38.1 MB 3.3 MB/s eta 0:00:11\n",
            "     ----                                     4.6/38.1 MB 3.3 MB/s eta 0:00:11\n",
            "     -----                                    4.8/38.1 MB 3.3 MB/s eta 0:00:11\n",
            "     -----                                    4.9/38.1 MB 3.3 MB/s eta 0:00:11\n",
            "     -----                                    5.0/38.1 MB 3.3 MB/s eta 0:00:10\n",
            "     -----                                    5.2/38.1 MB 3.2 MB/s eta 0:00:11\n",
            "     -----                                    5.3/38.1 MB 3.2 MB/s eta 0:00:11\n",
            "     -----                                    5.4/38.1 MB 3.2 MB/s eta 0:00:11\n",
            "     -----                                    5.5/38.1 MB 3.1 MB/s eta 0:00:11\n",
            "     -----                                    5.6/38.1 MB 3.1 MB/s eta 0:00:11\n",
            "     -----                                    5.6/38.1 MB 3.1 MB/s eta 0:00:11\n",
            "     ------                                   5.8/38.1 MB 3.1 MB/s eta 0:00:11\n",
            "     ------                                   5.8/38.1 MB 3.0 MB/s eta 0:00:11\n",
            "     ------                                   6.0/38.1 MB 3.0 MB/s eta 0:00:11\n",
            "     ------                                   6.1/38.1 MB 3.0 MB/s eta 0:00:11\n",
            "     ------                                   6.1/38.1 MB 3.0 MB/s eta 0:00:11\n",
            "     ------                                   6.2/38.1 MB 2.9 MB/s eta 0:00:11\n",
            "     ------                                   6.3/38.1 MB 2.9 MB/s eta 0:00:11\n",
            "     ------                                   6.4/38.1 MB 2.9 MB/s eta 0:00:11\n",
            "     ------                                   6.5/38.1 MB 2.9 MB/s eta 0:00:12\n",
            "     ------                                   6.6/38.1 MB 2.9 MB/s eta 0:00:11\n",
            "     -------                                  6.7/38.1 MB 2.9 MB/s eta 0:00:11\n",
            "     -------                                  6.8/38.1 MB 2.8 MB/s eta 0:00:12\n",
            "     -------                                  6.9/38.1 MB 2.8 MB/s eta 0:00:12\n",
            "     -------                                  7.0/38.1 MB 2.8 MB/s eta 0:00:12\n",
            "     -------                                  7.1/38.1 MB 2.8 MB/s eta 0:00:12\n",
            "     -------                                  7.2/38.1 MB 2.8 MB/s eta 0:00:12\n",
            "     -------                                  7.3/38.1 MB 2.8 MB/s eta 0:00:12\n",
            "     -------                                  7.3/38.1 MB 2.7 MB/s eta 0:00:12\n",
            "     -------                                  7.4/38.1 MB 2.7 MB/s eta 0:00:12\n",
            "     -------                                  7.5/38.1 MB 2.7 MB/s eta 0:00:12\n",
            "     -------                                  7.6/38.1 MB 2.7 MB/s eta 0:00:12\n",
            "     --------                                 7.7/38.1 MB 2.7 MB/s eta 0:00:12\n",
            "     --------                                 7.8/38.1 MB 2.7 MB/s eta 0:00:12\n",
            "     --------                                 7.8/38.1 MB 2.7 MB/s eta 0:00:12\n",
            "     --------                                 7.9/38.1 MB 2.6 MB/s eta 0:00:12\n",
            "     --------                                 8.0/38.1 MB 2.7 MB/s eta 0:00:12\n",
            "     --------                                 8.2/38.1 MB 2.6 MB/s eta 0:00:12\n",
            "     --------                                 8.2/38.1 MB 2.6 MB/s eta 0:00:12\n",
            "     --------                                 8.3/38.1 MB 2.6 MB/s eta 0:00:12\n",
            "     --------                                 8.4/38.1 MB 2.6 MB/s eta 0:00:12\n",
            "     --------                                 8.5/38.1 MB 2.6 MB/s eta 0:00:12\n",
            "     ---------                                8.6/38.1 MB 2.6 MB/s eta 0:00:12\n",
            "     ---------                                8.7/38.1 MB 2.6 MB/s eta 0:00:12\n",
            "     ---------                                8.8/38.1 MB 2.6 MB/s eta 0:00:12\n",
            "     ---------                                8.9/38.1 MB 2.6 MB/s eta 0:00:12\n",
            "     ---------                                9.0/38.1 MB 2.6 MB/s eta 0:00:12\n",
            "     ---------                                9.1/38.1 MB 2.6 MB/s eta 0:00:12\n",
            "     ---------                                9.2/38.1 MB 2.6 MB/s eta 0:00:12\n",
            "     ---------                                9.2/38.1 MB 2.5 MB/s eta 0:00:12\n",
            "     ---------                                9.3/38.1 MB 2.5 MB/s eta 0:00:12\n",
            "     ---------                                9.4/38.1 MB 2.5 MB/s eta 0:00:12\n",
            "     ----------                               9.5/38.1 MB 2.5 MB/s eta 0:00:12\n",
            "     ----------                               9.6/38.1 MB 2.5 MB/s eta 0:00:12\n",
            "     ----------                               9.7/38.1 MB 2.5 MB/s eta 0:00:12\n",
            "     ----------                               9.8/38.1 MB 2.5 MB/s eta 0:00:12\n",
            "     ----------                               9.9/38.1 MB 2.5 MB/s eta 0:00:12\n",
            "     ----------                               10.0/38.1 MB 2.5 MB/s eta 0:00:12\n",
            "     ----------                               10.1/38.1 MB 2.5 MB/s eta 0:00:12\n",
            "     ----------                               10.2/38.1 MB 2.5 MB/s eta 0:00:12\n",
            "     ----------                               10.3/38.1 MB 2.5 MB/s eta 0:00:12\n",
            "     ----------                               10.4/38.1 MB 2.5 MB/s eta 0:00:12\n",
            "     -----------                              10.5/38.1 MB 2.5 MB/s eta 0:00:12\n",
            "     -----------                              10.6/38.1 MB 2.5 MB/s eta 0:00:12\n",
            "     -----------                              10.6/38.1 MB 2.4 MB/s eta 0:00:12\n",
            "     -----------                              10.7/38.1 MB 2.4 MB/s eta 0:00:12\n",
            "     -----------                              10.8/38.1 MB 2.4 MB/s eta 0:00:12\n",
            "     -----------                              10.9/38.1 MB 2.4 MB/s eta 0:00:12\n",
            "     -----------                              11.0/38.1 MB 2.4 MB/s eta 0:00:12\n",
            "     -----------                              11.1/38.1 MB 2.4 MB/s eta 0:00:12\n",
            "     -----------                              11.2/38.1 MB 2.4 MB/s eta 0:00:12\n",
            "     -----------                              11.3/38.1 MB 2.4 MB/s eta 0:00:12\n",
            "     -----------                              11.3/38.1 MB 2.4 MB/s eta 0:00:12\n",
            "     ------------                             11.4/38.1 MB 2.3 MB/s eta 0:00:12\n",
            "     ------------                             11.5/38.1 MB 2.3 MB/s eta 0:00:12\n",
            "     ------------                             11.6/38.1 MB 2.3 MB/s eta 0:00:12\n",
            "     ------------                             11.7/38.1 MB 2.3 MB/s eta 0:00:12\n",
            "     ------------                             11.8/38.1 MB 2.3 MB/s eta 0:00:12\n",
            "     ------------                             11.9/38.1 MB 2.3 MB/s eta 0:00:12\n",
            "     ------------                             11.9/38.1 MB 2.3 MB/s eta 0:00:12\n",
            "     ------------                             12.0/38.1 MB 2.3 MB/s eta 0:00:12\n",
            "     ------------                             12.1/38.1 MB 2.3 MB/s eta 0:00:12\n",
            "     ------------                             12.2/38.1 MB 2.3 MB/s eta 0:00:12\n",
            "     ------------                             12.3/38.1 MB 2.3 MB/s eta 0:00:12\n",
            "     ------------                             12.3/38.1 MB 2.2 MB/s eta 0:00:12\n",
            "     -------------                            12.4/38.1 MB 2.2 MB/s eta 0:00:12\n",
            "     -------------                            12.5/38.1 MB 2.2 MB/s eta 0:00:12\n",
            "     -------------                            12.6/38.1 MB 2.2 MB/s eta 0:00:12\n",
            "     -------------                            12.7/38.1 MB 2.2 MB/s eta 0:00:12\n",
            "     -------------                            12.8/38.1 MB 2.2 MB/s eta 0:00:12\n",
            "     -------------                            12.9/38.1 MB 2.2 MB/s eta 0:00:12\n",
            "     -------------                            12.9/38.1 MB 2.2 MB/s eta 0:00:12\n",
            "     -------------                            13.0/38.1 MB 2.2 MB/s eta 0:00:12\n",
            "     -------------                            13.1/38.1 MB 2.2 MB/s eta 0:00:12\n",
            "     -------------                            13.2/38.1 MB 2.2 MB/s eta 0:00:12\n",
            "     -------------                            13.3/38.1 MB 2.2 MB/s eta 0:00:12\n",
            "     --------------                           13.3/38.1 MB 2.2 MB/s eta 0:00:12\n",
            "     --------------                           13.4/38.1 MB 2.1 MB/s eta 0:00:12\n",
            "     --------------                           13.5/38.1 MB 2.1 MB/s eta 0:00:12\n",
            "     --------------                           13.6/38.1 MB 2.1 MB/s eta 0:00:12\n",
            "     --------------                           13.7/38.1 MB 2.1 MB/s eta 0:00:12\n",
            "     --------------                           13.8/38.1 MB 2.1 MB/s eta 0:00:12\n",
            "     --------------                           13.8/38.1 MB 2.1 MB/s eta 0:00:12\n",
            "     --------------                           13.9/38.1 MB 2.1 MB/s eta 0:00:12\n",
            "     --------------                           14.0/38.1 MB 2.1 MB/s eta 0:00:12\n",
            "     --------------                           14.1/38.1 MB 2.1 MB/s eta 0:00:12\n",
            "     --------------                           14.2/38.1 MB 2.1 MB/s eta 0:00:12\n",
            "     ---------------                          14.3/38.1 MB 2.1 MB/s eta 0:00:12\n",
            "     ---------------                          14.4/38.1 MB 2.1 MB/s eta 0:00:12\n",
            "     ---------------                          14.5/38.1 MB 2.1 MB/s eta 0:00:12\n",
            "     ---------------                          14.6/38.1 MB 2.1 MB/s eta 0:00:12\n",
            "     ---------------                          14.6/38.1 MB 2.1 MB/s eta 0:00:12\n",
            "     ---------------                          14.7/38.1 MB 2.0 MB/s eta 0:00:12\n",
            "     ---------------                          14.8/38.1 MB 2.0 MB/s eta 0:00:12\n",
            "     ---------------                          14.9/38.1 MB 2.0 MB/s eta 0:00:12\n",
            "     ---------------                          15.0/38.1 MB 2.0 MB/s eta 0:00:12\n",
            "     ---------------                          15.1/38.1 MB 2.0 MB/s eta 0:00:12\n",
            "     ---------------                          15.2/38.1 MB 2.0 MB/s eta 0:00:12\n",
            "     ----------------                         15.2/38.1 MB 2.0 MB/s eta 0:00:12\n",
            "     ----------------                         15.3/38.1 MB 2.0 MB/s eta 0:00:12\n",
            "     ----------------                         15.4/38.1 MB 2.0 MB/s eta 0:00:12\n",
            "     ----------------                         15.5/38.1 MB 2.0 MB/s eta 0:00:12\n",
            "     ----------------                         15.6/38.1 MB 2.0 MB/s eta 0:00:12\n",
            "     ----------------                         15.7/38.1 MB 2.0 MB/s eta 0:00:12\n",
            "     ----------------                         15.8/38.1 MB 2.0 MB/s eta 0:00:12\n",
            "     ----------------                         15.8/38.1 MB 2.0 MB/s eta 0:00:12\n",
            "     ----------------                         15.9/38.1 MB 2.0 MB/s eta 0:00:12\n",
            "     ----------------                         16.0/38.1 MB 2.0 MB/s eta 0:00:12\n",
            "     ----------------                         16.1/38.1 MB 2.0 MB/s eta 0:00:12\n",
            "     -----------------                        16.2/38.1 MB 2.0 MB/s eta 0:00:11\n",
            "     -----------------                        16.3/38.1 MB 2.0 MB/s eta 0:00:11\n",
            "     -----------------                        16.4/38.1 MB 2.0 MB/s eta 0:00:11\n",
            "     -----------------                        16.5/38.1 MB 2.0 MB/s eta 0:00:11\n",
            "     -----------------                        16.5/38.1 MB 2.0 MB/s eta 0:00:11\n",
            "     -----------------                        16.6/38.1 MB 2.0 MB/s eta 0:00:11\n",
            "     -----------------                        16.7/38.1 MB 2.0 MB/s eta 0:00:11\n",
            "     -----------------                        16.8/38.1 MB 2.0 MB/s eta 0:00:11\n",
            "     -----------------                        16.9/38.1 MB 2.0 MB/s eta 0:00:11\n",
            "     -----------------                        17.0/38.1 MB 2.0 MB/s eta 0:00:11\n",
            "     -----------------                        17.0/38.1 MB 2.0 MB/s eta 0:00:11\n",
            "     -----------------                        17.1/38.1 MB 2.0 MB/s eta 0:00:11\n",
            "     ------------------                       17.2/38.1 MB 2.0 MB/s eta 0:00:11\n",
            "     ------------------                       17.3/38.1 MB 2.0 MB/s eta 0:00:11\n",
            "     ------------------                       17.4/38.1 MB 2.0 MB/s eta 0:00:11\n",
            "     ------------------                       17.5/38.1 MB 2.0 MB/s eta 0:00:11\n",
            "     ------------------                       17.6/38.1 MB 2.0 MB/s eta 0:00:11\n",
            "     ------------------                       17.6/38.1 MB 2.0 MB/s eta 0:00:11\n",
            "     ------------------                       17.7/38.1 MB 2.0 MB/s eta 0:00:11\n",
            "     ------------------                       17.8/38.1 MB 2.0 MB/s eta 0:00:11\n",
            "     ------------------                       17.9/38.1 MB 2.0 MB/s eta 0:00:11\n",
            "     ------------------                       18.0/38.1 MB 2.0 MB/s eta 0:00:11\n",
            "     ------------------                       18.1/38.1 MB 2.0 MB/s eta 0:00:11\n",
            "     -------------------                      18.1/38.1 MB 2.0 MB/s eta 0:00:10\n",
            "     -------------------                      18.2/38.1 MB 2.0 MB/s eta 0:00:10\n",
            "     -------------------                      18.4/38.1 MB 2.0 MB/s eta 0:00:10\n",
            "     -------------------                      18.4/38.1 MB 2.0 MB/s eta 0:00:10\n",
            "     -------------------                      18.5/38.1 MB 2.0 MB/s eta 0:00:10\n",
            "     -------------------                      18.6/38.1 MB 2.0 MB/s eta 0:00:10\n",
            "     -------------------                      18.7/38.1 MB 2.0 MB/s eta 0:00:10\n",
            "     -------------------                      18.8/38.1 MB 2.0 MB/s eta 0:00:10\n",
            "     -------------------                      18.9/38.1 MB 2.0 MB/s eta 0:00:10\n",
            "     -------------------                      19.0/38.1 MB 2.0 MB/s eta 0:00:10\n",
            "     --------------------                     19.0/38.1 MB 2.0 MB/s eta 0:00:10\n",
            "     --------------------                     19.1/38.1 MB 2.0 MB/s eta 0:00:10\n",
            "     --------------------                     19.2/38.1 MB 2.0 MB/s eta 0:00:10\n",
            "     --------------------                     19.3/38.1 MB 2.0 MB/s eta 0:00:10\n",
            "     --------------------                     19.4/38.1 MB 2.0 MB/s eta 0:00:10\n",
            "     --------------------                     19.5/38.1 MB 2.0 MB/s eta 0:00:10\n",
            "     --------------------                     19.6/38.1 MB 2.0 MB/s eta 0:00:10\n",
            "     --------------------                     19.7/38.1 MB 2.0 MB/s eta 0:00:10\n",
            "     --------------------                     19.8/38.1 MB 2.0 MB/s eta 0:00:10\n",
            "     --------------------                     19.8/38.1 MB 2.0 MB/s eta 0:00:10\n",
            "     --------------------                     19.9/38.1 MB 2.0 MB/s eta 0:00:10\n",
            "     ---------------------                    20.0/38.1 MB 2.0 MB/s eta 0:00:10\n",
            "     ---------------------                    20.1/38.1 MB 2.0 MB/s eta 0:00:10\n",
            "     ---------------------                    20.2/38.1 MB 2.0 MB/s eta 0:00:09\n",
            "     ---------------------                    20.2/38.1 MB 2.0 MB/s eta 0:00:09\n",
            "     ---------------------                    20.3/38.1 MB 2.0 MB/s eta 0:00:09\n",
            "     ---------------------                    20.4/38.1 MB 2.0 MB/s eta 0:00:09\n",
            "     ---------------------                    20.5/38.1 MB 2.0 MB/s eta 0:00:09\n",
            "     ---------------------                    20.6/38.1 MB 2.0 MB/s eta 0:00:09\n",
            "     ---------------------                    20.7/38.1 MB 2.0 MB/s eta 0:00:09\n",
            "     ---------------------                    20.8/38.1 MB 2.0 MB/s eta 0:00:09\n",
            "     ---------------------                    20.8/38.1 MB 2.0 MB/s eta 0:00:09\n",
            "     ----------------------                   20.9/38.1 MB 2.0 MB/s eta 0:00:09\n",
            "     ----------------------                   21.0/38.1 MB 2.0 MB/s eta 0:00:09\n",
            "     ----------------------                   21.1/38.1 MB 2.0 MB/s eta 0:00:09\n",
            "     ----------------------                   21.2/38.1 MB 2.0 MB/s eta 0:00:09\n",
            "     ----------------------                   21.3/38.1 MB 2.0 MB/s eta 0:00:09\n",
            "     ----------------------                   21.4/38.1 MB 2.0 MB/s eta 0:00:09\n",
            "     ----------------------                   21.4/38.1 MB 2.0 MB/s eta 0:00:09\n",
            "     ----------------------                   21.5/38.1 MB 2.0 MB/s eta 0:00:09\n",
            "     ----------------------                   21.6/38.1 MB 2.0 MB/s eta 0:00:09\n",
            "     ----------------------                   21.7/38.1 MB 2.0 MB/s eta 0:00:09\n",
            "     ----------------------                   21.8/38.1 MB 2.0 MB/s eta 0:00:09\n",
            "     ----------------------                   21.9/38.1 MB 2.0 MB/s eta 0:00:09\n",
            "     -----------------------                  21.9/38.1 MB 2.0 MB/s eta 0:00:09\n",
            "     -----------------------                  22.0/38.1 MB 2.0 MB/s eta 0:00:09\n",
            "     -----------------------                  22.1/38.1 MB 2.0 MB/s eta 0:00:09\n",
            "     -----------------------                  22.2/38.1 MB 2.0 MB/s eta 0:00:09\n",
            "     -----------------------                  22.2/38.1 MB 2.0 MB/s eta 0:00:08\n",
            "     -----------------------                  22.3/38.1 MB 2.0 MB/s eta 0:00:08\n",
            "     -----------------------                  22.4/38.1 MB 2.0 MB/s eta 0:00:08\n",
            "     -----------------------                  22.5/38.1 MB 2.0 MB/s eta 0:00:08\n",
            "     -----------------------                  22.6/38.1 MB 2.0 MB/s eta 0:00:08\n",
            "     -----------------------                  22.7/38.1 MB 2.0 MB/s eta 0:00:08\n",
            "     -----------------------                  22.8/38.1 MB 2.0 MB/s eta 0:00:08\n",
            "     ------------------------                 22.9/38.1 MB 2.0 MB/s eta 0:00:08\n",
            "     ------------------------                 22.9/38.1 MB 2.0 MB/s eta 0:00:08\n",
            "     ------------------------                 23.0/38.1 MB 2.0 MB/s eta 0:00:08\n",
            "     ------------------------                 23.1/38.1 MB 2.0 MB/s eta 0:00:08\n",
            "     ------------------------                 23.2/38.1 MB 2.0 MB/s eta 0:00:08\n",
            "     ------------------------                 23.3/38.1 MB 2.0 MB/s eta 0:00:08\n",
            "     ------------------------                 23.4/38.1 MB 2.0 MB/s eta 0:00:08\n",
            "     ------------------------                 23.4/38.1 MB 2.0 MB/s eta 0:00:08\n",
            "     ------------------------                 23.6/38.1 MB 2.0 MB/s eta 0:00:08\n",
            "     ------------------------                 23.6/38.1 MB 2.0 MB/s eta 0:00:08\n",
            "     ------------------------                 23.7/38.1 MB 2.0 MB/s eta 0:00:08\n",
            "     ------------------------                 23.8/38.1 MB 2.0 MB/s eta 0:00:08\n",
            "     -------------------------                23.8/38.1 MB 2.0 MB/s eta 0:00:08\n",
            "     -------------------------                23.9/38.1 MB 2.0 MB/s eta 0:00:08\n",
            "     -------------------------                24.0/38.1 MB 2.0 MB/s eta 0:00:08\n",
            "     -------------------------                24.1/38.1 MB 2.0 MB/s eta 0:00:08\n",
            "     -------------------------                24.2/38.1 MB 2.0 MB/s eta 0:00:08\n",
            "     -------------------------                24.3/38.1 MB 2.0 MB/s eta 0:00:07\n",
            "     -------------------------                24.4/38.1 MB 2.0 MB/s eta 0:00:07\n",
            "     -------------------------                24.4/38.1 MB 2.0 MB/s eta 0:00:07\n",
            "     -------------------------                24.5/38.1 MB 2.0 MB/s eta 0:00:07\n",
            "     -------------------------                24.6/38.1 MB 2.0 MB/s eta 0:00:07\n",
            "     -------------------------                24.7/38.1 MB 2.0 MB/s eta 0:00:07\n",
            "     --------------------------               24.8/38.1 MB 2.0 MB/s eta 0:00:07\n",
            "     --------------------------               24.9/38.1 MB 2.0 MB/s eta 0:00:07\n",
            "     --------------------------               25.0/38.1 MB 2.0 MB/s eta 0:00:07\n",
            "     --------------------------               25.1/38.1 MB 2.0 MB/s eta 0:00:07\n",
            "     --------------------------               25.2/38.1 MB 2.0 MB/s eta 0:00:07\n",
            "     --------------------------               25.3/38.1 MB 2.0 MB/s eta 0:00:07\n",
            "     --------------------------               25.4/38.1 MB 2.0 MB/s eta 0:00:07\n",
            "     --------------------------               25.5/38.1 MB 2.0 MB/s eta 0:00:07\n",
            "     --------------------------               25.5/38.1 MB 2.0 MB/s eta 0:00:07\n",
            "     --------------------------               25.6/38.1 MB 2.0 MB/s eta 0:00:07\n",
            "     ---------------------------              25.7/38.1 MB 2.0 MB/s eta 0:00:07\n",
            "     ---------------------------              25.8/38.1 MB 2.0 MB/s eta 0:00:07\n",
            "     ---------------------------              25.9/38.1 MB 2.0 MB/s eta 0:00:07\n",
            "     ---------------------------              26.0/38.1 MB 2.0 MB/s eta 0:00:07\n",
            "     ---------------------------              26.0/38.1 MB 2.0 MB/s eta 0:00:07\n",
            "     ---------------------------              26.1/38.1 MB 2.0 MB/s eta 0:00:07\n",
            "     ---------------------------              26.2/38.1 MB 2.0 MB/s eta 0:00:06\n",
            "     ---------------------------              26.3/38.1 MB 2.0 MB/s eta 0:00:06\n",
            "     ---------------------------              26.4/38.1 MB 2.0 MB/s eta 0:00:06\n",
            "     ---------------------------              26.4/38.1 MB 2.0 MB/s eta 0:00:06\n",
            "     ---------------------------              26.6/38.1 MB 2.0 MB/s eta 0:00:06\n",
            "     ---------------------------              26.6/38.1 MB 2.0 MB/s eta 0:00:06\n",
            "     ----------------------------             26.7/38.1 MB 2.0 MB/s eta 0:00:06\n",
            "     ----------------------------             26.8/38.1 MB 2.0 MB/s eta 0:00:06\n",
            "     ----------------------------             26.8/38.1 MB 2.0 MB/s eta 0:00:06\n",
            "     ----------------------------             26.9/38.1 MB 2.0 MB/s eta 0:00:06\n",
            "     ----------------------------             27.0/38.1 MB 2.0 MB/s eta 0:00:06\n",
            "     ----------------------------             27.1/38.1 MB 2.0 MB/s eta 0:00:06\n",
            "     ----------------------------             27.2/38.1 MB 2.0 MB/s eta 0:00:06\n",
            "     ----------------------------             27.3/38.1 MB 2.0 MB/s eta 0:00:06\n",
            "     ----------------------------             27.4/38.1 MB 2.0 MB/s eta 0:00:06\n",
            "     ----------------------------             27.4/38.1 MB 2.0 MB/s eta 0:00:06\n",
            "     ----------------------------             27.6/38.1 MB 2.0 MB/s eta 0:00:06\n",
            "     -----------------------------            27.6/38.1 MB 2.0 MB/s eta 0:00:06\n",
            "     -----------------------------            27.8/38.1 MB 2.0 MB/s eta 0:00:06\n",
            "     -----------------------------            27.9/38.1 MB 2.0 MB/s eta 0:00:06\n",
            "     -----------------------------            27.9/38.1 MB 2.0 MB/s eta 0:00:06\n",
            "     -----------------------------            28.0/38.1 MB 2.0 MB/s eta 0:00:06\n",
            "     -----------------------------            28.1/38.1 MB 2.0 MB/s eta 0:00:06\n",
            "     -----------------------------            28.2/38.1 MB 2.0 MB/s eta 0:00:06\n",
            "     -----------------------------            28.3/38.1 MB 2.0 MB/s eta 0:00:05\n",
            "     -----------------------------            28.4/38.1 MB 2.0 MB/s eta 0:00:05\n",
            "     -----------------------------            28.4/38.1 MB 2.0 MB/s eta 0:00:05\n",
            "     -----------------------------            28.5/38.1 MB 2.0 MB/s eta 0:00:05\n",
            "     ------------------------------           28.6/38.1 MB 2.0 MB/s eta 0:00:05\n",
            "     ------------------------------           28.7/38.1 MB 2.0 MB/s eta 0:00:05\n",
            "     ------------------------------           28.7/38.1 MB 2.0 MB/s eta 0:00:05\n",
            "     ------------------------------           28.8/38.1 MB 2.0 MB/s eta 0:00:05\n",
            "     ------------------------------           28.9/38.1 MB 2.0 MB/s eta 0:00:05\n",
            "     ------------------------------           29.0/38.1 MB 2.0 MB/s eta 0:00:05\n",
            "     ------------------------------           29.1/38.1 MB 2.0 MB/s eta 0:00:05\n",
            "     ------------------------------           29.2/38.1 MB 2.0 MB/s eta 0:00:05\n",
            "     ------------------------------           29.3/38.1 MB 2.0 MB/s eta 0:00:05\n",
            "     ------------------------------           29.4/38.1 MB 2.0 MB/s eta 0:00:05\n",
            "     ------------------------------           29.5/38.1 MB 2.0 MB/s eta 0:00:05\n",
            "     -------------------------------          29.5/38.1 MB 2.0 MB/s eta 0:00:05\n",
            "     -------------------------------          29.6/38.1 MB 2.0 MB/s eta 0:00:05\n",
            "     -------------------------------          29.7/38.1 MB 2.0 MB/s eta 0:00:05\n",
            "     -------------------------------          29.8/38.1 MB 2.0 MB/s eta 0:00:05\n",
            "     -------------------------------          29.8/38.1 MB 2.0 MB/s eta 0:00:05\n",
            "     -------------------------------          29.9/38.1 MB 2.0 MB/s eta 0:00:05\n",
            "     -------------------------------          30.0/38.1 MB 2.0 MB/s eta 0:00:05\n",
            "     -------------------------------          30.1/38.1 MB 2.0 MB/s eta 0:00:05\n",
            "     -------------------------------          30.2/38.1 MB 2.0 MB/s eta 0:00:04\n",
            "     -------------------------------          30.3/38.1 MB 2.0 MB/s eta 0:00:04\n",
            "     -------------------------------          30.4/38.1 MB 2.0 MB/s eta 0:00:04\n",
            "     --------------------------------         30.5/38.1 MB 2.0 MB/s eta 0:00:04\n",
            "     --------------------------------         30.6/38.1 MB 2.0 MB/s eta 0:00:04\n",
            "     --------------------------------         30.7/38.1 MB 2.0 MB/s eta 0:00:04\n",
            "     --------------------------------         30.8/38.1 MB 2.0 MB/s eta 0:00:04\n",
            "     --------------------------------         30.8/38.1 MB 2.0 MB/s eta 0:00:04\n",
            "     --------------------------------         30.9/38.1 MB 2.0 MB/s eta 0:00:04\n",
            "     --------------------------------         31.0/38.1 MB 2.0 MB/s eta 0:00:04\n",
            "     --------------------------------         31.1/38.1 MB 2.0 MB/s eta 0:00:04\n",
            "     --------------------------------         31.2/38.1 MB 2.0 MB/s eta 0:00:04\n",
            "     --------------------------------         31.3/38.1 MB 2.0 MB/s eta 0:00:04\n",
            "     --------------------------------         31.4/38.1 MB 2.0 MB/s eta 0:00:04\n",
            "     ---------------------------------        31.5/38.1 MB 2.0 MB/s eta 0:00:04\n",
            "     ---------------------------------        31.6/38.1 MB 2.0 MB/s eta 0:00:04\n",
            "     ---------------------------------        31.6/38.1 MB 2.0 MB/s eta 0:00:04\n",
            "     ---------------------------------        31.7/38.1 MB 2.0 MB/s eta 0:00:04\n",
            "     ---------------------------------        31.8/38.1 MB 2.0 MB/s eta 0:00:04\n",
            "     ---------------------------------        31.9/38.1 MB 2.0 MB/s eta 0:00:04\n",
            "     ---------------------------------        32.0/38.1 MB 2.0 MB/s eta 0:00:04\n",
            "     ---------------------------------        32.1/38.1 MB 2.0 MB/s eta 0:00:03\n",
            "     ---------------------------------        32.2/38.1 MB 2.0 MB/s eta 0:00:03\n",
            "     ---------------------------------        32.3/38.1 MB 2.0 MB/s eta 0:00:03\n",
            "     ----------------------------------       32.4/38.1 MB 2.0 MB/s eta 0:00:03\n",
            "     ----------------------------------       32.5/38.1 MB 2.0 MB/s eta 0:00:03\n",
            "     ----------------------------------       32.6/38.1 MB 2.0 MB/s eta 0:00:03\n",
            "     ----------------------------------       32.6/38.1 MB 2.0 MB/s eta 0:00:03\n",
            "     ----------------------------------       32.7/38.1 MB 2.0 MB/s eta 0:00:03\n",
            "     ----------------------------------       32.8/38.1 MB 2.0 MB/s eta 0:00:03\n",
            "     ----------------------------------       32.9/38.1 MB 2.0 MB/s eta 0:00:03\n",
            "     ----------------------------------       33.0/38.1 MB 2.0 MB/s eta 0:00:03\n",
            "     ----------------------------------       33.0/38.1 MB 2.0 MB/s eta 0:00:03\n",
            "     ----------------------------------       33.1/38.1 MB 2.0 MB/s eta 0:00:03\n",
            "     ----------------------------------       33.2/38.1 MB 2.0 MB/s eta 0:00:03\n",
            "     ----------------------------------       33.3/38.1 MB 2.0 MB/s eta 0:00:03\n",
            "     -----------------------------------      33.4/38.1 MB 2.0 MB/s eta 0:00:03\n",
            "     -----------------------------------      33.5/38.1 MB 2.0 MB/s eta 0:00:03\n",
            "     -----------------------------------      33.6/38.1 MB 2.0 MB/s eta 0:00:03\n",
            "     -----------------------------------      33.7/38.1 MB 2.0 MB/s eta 0:00:03\n",
            "     -----------------------------------      33.8/38.1 MB 2.0 MB/s eta 0:00:03\n",
            "     -----------------------------------      33.9/38.1 MB 2.0 MB/s eta 0:00:03\n",
            "     -----------------------------------      34.0/38.1 MB 2.0 MB/s eta 0:00:03\n",
            "     -----------------------------------      34.0/38.1 MB 2.0 MB/s eta 0:00:03\n",
            "     -----------------------------------      34.1/38.1 MB 2.0 MB/s eta 0:00:02\n",
            "     -----------------------------------      34.2/38.1 MB 2.0 MB/s eta 0:00:02\n",
            "     ------------------------------------     34.3/38.1 MB 2.0 MB/s eta 0:00:02\n",
            "     ------------------------------------     34.4/38.1 MB 2.0 MB/s eta 0:00:02\n",
            "     ------------------------------------     34.5/38.1 MB 2.0 MB/s eta 0:00:02\n",
            "     ------------------------------------     34.5/38.1 MB 2.0 MB/s eta 0:00:02\n",
            "     ------------------------------------     34.6/38.1 MB 2.0 MB/s eta 0:00:02\n",
            "     ------------------------------------     34.7/38.1 MB 2.0 MB/s eta 0:00:02\n",
            "     ------------------------------------     34.8/38.1 MB 2.0 MB/s eta 0:00:02\n",
            "     ------------------------------------     34.9/38.1 MB 2.0 MB/s eta 0:00:02\n",
            "     ------------------------------------     35.0/38.1 MB 2.0 MB/s eta 0:00:02\n",
            "     ------------------------------------     35.1/38.1 MB 2.0 MB/s eta 0:00:02\n",
            "     ------------------------------------     35.1/38.1 MB 2.0 MB/s eta 0:00:02\n",
            "     -------------------------------------    35.2/38.1 MB 2.0 MB/s eta 0:00:02\n",
            "     -------------------------------------    35.3/38.1 MB 2.0 MB/s eta 0:00:02\n",
            "     -------------------------------------    35.4/38.1 MB 2.0 MB/s eta 0:00:02\n",
            "     -------------------------------------    35.5/38.1 MB 2.0 MB/s eta 0:00:02\n",
            "     -------------------------------------    35.6/38.1 MB 2.0 MB/s eta 0:00:02\n",
            "     -------------------------------------    35.7/38.1 MB 2.0 MB/s eta 0:00:02\n",
            "     -------------------------------------    35.8/38.1 MB 2.0 MB/s eta 0:00:02\n",
            "     -------------------------------------    35.9/38.1 MB 2.0 MB/s eta 0:00:02\n",
            "     -------------------------------------    36.0/38.1 MB 2.0 MB/s eta 0:00:02\n",
            "     -------------------------------------    36.1/38.1 MB 2.0 MB/s eta 0:00:01\n",
            "     --------------------------------------   36.2/38.1 MB 2.0 MB/s eta 0:00:01\n",
            "     --------------------------------------   36.3/38.1 MB 2.0 MB/s eta 0:00:01\n",
            "     --------------------------------------   36.4/38.1 MB 2.0 MB/s eta 0:00:01\n",
            "     --------------------------------------   36.4/38.1 MB 2.0 MB/s eta 0:00:01\n",
            "     --------------------------------------   36.6/38.1 MB 2.0 MB/s eta 0:00:01\n",
            "     --------------------------------------   36.7/38.1 MB 2.0 MB/s eta 0:00:01\n",
            "     --------------------------------------   36.8/38.1 MB 2.0 MB/s eta 0:00:01\n",
            "     --------------------------------------   36.9/38.1 MB 2.0 MB/s eta 0:00:01\n",
            "     --------------------------------------   37.0/38.1 MB 2.0 MB/s eta 0:00:01\n",
            "     --------------------------------------   37.0/38.1 MB 2.0 MB/s eta 0:00:01\n",
            "     ---------------------------------------  37.1/38.1 MB 2.0 MB/s eta 0:00:01\n",
            "     ---------------------------------------  37.2/38.1 MB 2.0 MB/s eta 0:00:01\n",
            "     ---------------------------------------  37.3/38.1 MB 2.0 MB/s eta 0:00:01\n",
            "     ---------------------------------------  37.4/38.1 MB 2.0 MB/s eta 0:00:01\n",
            "     ---------------------------------------  37.6/38.1 MB 2.0 MB/s eta 0:00:01\n",
            "     ---------------------------------------  37.7/38.1 MB 2.0 MB/s eta 0:00:01\n",
            "     ---------------------------------------  37.7/38.1 MB 2.0 MB/s eta 0:00:01\n",
            "     ---------------------------------------  37.8/38.1 MB 2.0 MB/s eta 0:00:01\n",
            "     ---------------------------------------  38.0/38.1 MB 2.0 MB/s eta 0:00:01\n",
            "     ---------------------------------------  38.1/38.1 MB 2.0 MB/s eta 0:00:01\n",
            "     ---------------------------------------  38.1/38.1 MB 2.0 MB/s eta 0:00:01\n",
            "     ---------------------------------------  38.1/38.1 MB 2.0 MB/s eta 0:00:01\n",
            "     ---------------------------------------  38.1/38.1 MB 2.0 MB/s eta 0:00:01\n",
            "     ---------------------------------------- 38.1/38.1 MB 1.9 MB/s eta 0:00:00\n",
            "Requirement already satisfied: numpy>=1.21.2 in c:\\users\\marco\\appdata\\roaming\\python\\python310\\site-packages (from opencv-python) (1.23.5)\n",
            "Installing collected packages: opencv-python\n",
            "Successfully installed opencv-python-4.8.1.78\n",
            "Note: you may need to restart the kernel to use updated packages.\n"
          ]
        },
        {
          "name": "stderr",
          "output_type": "stream",
          "text": [
            "\n",
            "[notice] A new release of pip is available: 23.1.2 -> 23.3.1\n",
            "[notice] To update, run: python.exe -m pip install --upgrade pip\n"
          ]
        }
      ],
      "source": [
        "pip install opencv-python"
      ]
    },
    {
      "cell_type": "markdown",
      "metadata": {
        "id": "dSYAJuINYRAH"
      },
      "source": [
        "Podemos evaluar muchos videos al mismo tiempo y en este proceso volver a frames la cantidad de videos que sea necesaria."
      ]
    },
    {
      "cell_type": "code",
      "execution_count": 10,
      "metadata": {
        "id": "5YKtBFBlYFPA"
      },
      "outputs": [
        {
          "name": "stdout",
          "output_type": "stream",
          "text": [
            "Se han guardado 72 frames del video face_recognition_1.mp4 como imágenes.\n",
            "Se han guardado 41 frames del video face_recognition_2.mp4 como imágenes.\n",
            "Proceso completo.\n"
          ]
        }
      ],
      "source": [
        "import os\n",
        "import cv2\n",
        "\n",
        "# Carpeta que contiene los videos\n",
        "video_folder = 'validation_videos/'\n",
        "\n",
        "# Carpeta de salida para guardar los frames\n",
        "output_folder = 'validation_frames/'\n",
        "\n",
        "# Crea la carpeta de salida si no existe\n",
        "if not os.path.exists(output_folder):\n",
        "    os.makedirs(output_folder)\n",
        "\n",
        "# Lista de archivos en la carpeta de videos\n",
        "video_files = os.listdir(video_folder)\n",
        "\n",
        "for video_file in video_files:\n",
        "    if video_file.endswith('.mp4') or video_file.endswith('.avi'):\n",
        "        video_path = os.path.join(video_folder, video_file)\n",
        "\n",
        "        # Abre el video\n",
        "        cap = cv2.VideoCapture(video_path)\n",
        "\n",
        "        # Verifica si el video se abrió correctamente\n",
        "        if not cap.isOpened():\n",
        "            print(f\"No se pudo abrir el video: {video_path}\")\n",
        "            continue\n",
        "\n",
        "        frame_count = 0\n",
        "        frame_interval = 5  # Captura un frame cada 5 frames\n",
        "\n",
        "        # Lee y guarda los frames como imágenes\n",
        "        while True:\n",
        "            ret, frame = cap.read()\n",
        "\n",
        "            if not ret:\n",
        "                break\n",
        "\n",
        "            if frame_count % frame_interval == 0:\n",
        "                # Guarda el frame como una imagen\n",
        "                frame_filename = os.path.join(output_folder, f'{os.path.splitext(video_file)[0]}_frame_{frame_count:04d}.png')\n",
        "                cv2.imwrite(frame_filename, frame)\n",
        "\n",
        "            frame_count += 1\n",
        "\n",
        "        # Cierra el video\n",
        "        cap.release()\n",
        "\n",
        "        print(f'Se han guardado {frame_count // frame_interval} frames del video {video_file} como imágenes.')\n",
        "\n",
        "print('Proceso completo.')\n"
      ]
    }
  ],
  "metadata": {
    "colab": {
      "include_colab_link": true,
      "provenance": []
    },
    "kernelspec": {
      "display_name": "Python 3",
      "name": "python3"
    },
    "language_info": {
      "codemirror_mode": {
        "name": "ipython",
        "version": 3
      },
      "file_extension": ".py",
      "mimetype": "text/x-python",
      "name": "python",
      "nbconvert_exporter": "python",
      "pygments_lexer": "ipython3",
      "version": "3.10.5"
    }
  },
  "nbformat": 4,
  "nbformat_minor": 0
}

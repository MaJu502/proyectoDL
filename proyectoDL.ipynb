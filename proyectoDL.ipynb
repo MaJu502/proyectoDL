{
  "nbformat": 4,
  "nbformat_minor": 0,
  "metadata": {
    "colab": {
      "provenance": [],
      "authorship_tag": "ABX9TyP+glTJppxYCGLCtePH+r5a",
      "include_colab_link": true
    },
    "kernelspec": {
      "name": "python3",
      "display_name": "Python 3"
    },
    "language_info": {
      "name": "python"
    }
  },
  "cells": [
    {
      "cell_type": "markdown",
      "metadata": {
        "id": "view-in-github",
        "colab_type": "text"
      },
      "source": [
        "<a href=\"https://colab.research.google.com/github/MaJu502/proyectoDL/blob/main/proyectoDL.ipynb\" target=\"_parent\"><img src=\"https://colab.research.google.com/assets/colab-badge.svg\" alt=\"Open In Colab\"/></a>"
      ]
    },
    {
      "cell_type": "markdown",
      "source": [
        "#Proyecto Deep Learning\n",
        "- Diego Cordova\n",
        "- Marco Jurado\n",
        "- Cristian Aguirre\n",
        "- Paola Contreras\n",
        "- Paola de Leon"
      ],
      "metadata": {
        "id": "dgU-QqmJU3ZV"
      }
    },
    {
      "cell_type": "code",
      "execution_count": null,
      "metadata": {
        "id": "gT95QfnIUwXF"
      },
      "outputs": [],
      "source": []
    },
    {
      "cell_type": "markdown",
      "source": [
        "## Dividir los videos en frames"
      ],
      "metadata": {
        "id": "7_bFOZFgYAd6"
      }
    },
    {
      "cell_type": "code",
      "source": [
        "pip install opencv-python"
      ],
      "metadata": {
        "id": "hM_kvSPBYC04"
      },
      "execution_count": null,
      "outputs": []
    },
    {
      "cell_type": "markdown",
      "source": [
        "Podemos evaluar muchos videos al mismo tiempo y en este proceso volver a frames la cantidad de videos que sea necesaria."
      ],
      "metadata": {
        "id": "dSYAJuINYRAH"
      }
    },
    {
      "cell_type": "code",
      "source": [
        "import cv2\n",
        "import os\n",
        "\n",
        "# Carpeta que contiene los videos\n",
        "video_folder = 'videos/'\n",
        "\n",
        "# Carpeta de salida para guardar los frames\n",
        "output_folder = 'frames/'\n",
        "\n",
        "# Crea la carpeta de salida si no existe\n",
        "if not os.path.exists(output_folder):\n",
        "    os.makedirs(output_folder)\n",
        "\n",
        "# Lista de archivos en la carpeta de videos\n",
        "video_files = os.listdir(video_folder)\n",
        "\n",
        "for video_file in video_files:\n",
        "    if video_file.endswith('.mp4') or video_file.endswith('.avi'):\n",
        "        video_path = os.path.join(video_folder, video_file)\n",
        "\n",
        "        # Abre el video\n",
        "        cap = cv2.VideoCapture(video_path)\n",
        "\n",
        "        # Verifica si el video se abrió correctamente\n",
        "        if not cap.isOpened():\n",
        "            print(f\"No se pudo abrir el video: {video_path}\")\n",
        "            continue\n",
        "\n",
        "        frame_count = 0\n",
        "\n",
        "        # Lee y guarda los frames como imágenes\n",
        "        while True:\n",
        "            ret, frame = cap.read()\n",
        "\n",
        "            if not ret:\n",
        "                break\n",
        "\n",
        "            # Guarda el frame como una imagen\n",
        "            frame_filename = os.path.join(output_folder, f'{os.path.splitext(video_file)[0]}_frame_{frame_count:04d}.png')\n",
        "            cv2.imwrite(frame_filename, frame)\n",
        "\n",
        "            frame_count += 1\n",
        "\n",
        "        # Cierra el video\n",
        "        cap.release()\n",
        "\n",
        "        print(f'Se han guardado {frame_count} frames del video {video_file} como imágenes.')\n",
        "\n",
        "print('Proceso completo.')"
      ],
      "metadata": {
        "id": "5YKtBFBlYFPA"
      },
      "execution_count": null,
      "outputs": []
    }
  ]
}
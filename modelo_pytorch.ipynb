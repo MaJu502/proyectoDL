{
  "nbformat": 4,
  "nbformat_minor": 0,
  "metadata": {
    "colab": {
      "provenance": [],
      "gpuType": "T4",
      "include_colab_link": true
    },
    "kernelspec": {
      "name": "python3",
      "display_name": "Python 3"
    },
    "language_info": {
      "name": "python"
    },
    "accelerator": "GPU"
  },
  "cells": [
    {
      "cell_type": "markdown",
      "metadata": {
        "id": "view-in-github",
        "colab_type": "text"
      },
      "source": [
        "<a href=\"https://colab.research.google.com/github/MaJu502/proyectoDL/blob/main/modelo_pytorch.ipynb\" target=\"_parent\"><img src=\"https://colab.research.google.com/assets/colab-badge.svg\" alt=\"Open In Colab\"/></a>"
      ]
    },
    {
      "cell_type": "markdown",
      "source": [
        "#Proyecto Deep Learning\n",
        "- Diego Cordova 20212\n",
        "- Marco Jurado 20308\n",
        "- Cristian Aguirre 20231\n",
        "- Paola Contreras 20213\n",
        "- Paola de Leon 20361"
      ],
      "metadata": {
        "id": "dgU-QqmJU3ZV"
      }
    },
    {
      "cell_type": "markdown",
      "source": [
        "## Carga de Dataset"
      ],
      "metadata": {
        "id": "f-bUhYK_LJ5o"
      }
    },
    {
      "cell_type": "code",
      "source": [
        "!gdown 1BoNWFSXxtN74PgLcBxfGWyeKUOfevQEP"
      ],
      "metadata": {
        "id": "Lod5bJutyRzl",
        "outputId": "c5272612-c3ef-442e-d74e-53337a0a9043",
        "colab": {
          "base_uri": "https://localhost:8080/"
        }
      },
      "execution_count": 1,
      "outputs": [
        {
          "output_type": "stream",
          "name": "stdout",
          "text": [
            "Downloading...\n",
            "From: https://drive.google.com/uc?id=1BoNWFSXxtN74PgLcBxfGWyeKUOfevQEP\n",
            "To: /content/kaggle.json\n",
            "\r  0% 0.00/64.0 [00:00<?, ?B/s]\r100% 64.0/64.0 [00:00<00:00, 351kB/s]\n"
          ]
        }
      ]
    },
    {
      "cell_type": "code",
      "execution_count": 2,
      "metadata": {
        "id": "gT95QfnIUwXF",
        "outputId": "8dbd1d42-a551-40e0-f834-d53e6551a127",
        "colab": {
          "base_uri": "https://localhost:8080/"
        }
      },
      "outputs": [
        {
          "output_type": "stream",
          "name": "stdout",
          "text": [
            "Requirement already satisfied: kaggle in /usr/local/lib/python3.10/dist-packages (1.5.16)\n",
            "Requirement already satisfied: six>=1.10 in /usr/local/lib/python3.10/dist-packages (from kaggle) (1.16.0)\n",
            "Requirement already satisfied: certifi in /usr/local/lib/python3.10/dist-packages (from kaggle) (2023.7.22)\n",
            "Requirement already satisfied: python-dateutil in /usr/local/lib/python3.10/dist-packages (from kaggle) (2.8.2)\n",
            "Requirement already satisfied: requests in /usr/local/lib/python3.10/dist-packages (from kaggle) (2.31.0)\n",
            "Requirement already satisfied: tqdm in /usr/local/lib/python3.10/dist-packages (from kaggle) (4.66.1)\n",
            "Requirement already satisfied: python-slugify in /usr/local/lib/python3.10/dist-packages (from kaggle) (8.0.1)\n",
            "Requirement already satisfied: urllib3 in /usr/local/lib/python3.10/dist-packages (from kaggle) (2.0.7)\n",
            "Requirement already satisfied: bleach in /usr/local/lib/python3.10/dist-packages (from kaggle) (6.1.0)\n",
            "Requirement already satisfied: webencodings in /usr/local/lib/python3.10/dist-packages (from bleach->kaggle) (0.5.1)\n",
            "Requirement already satisfied: text-unidecode>=1.3 in /usr/local/lib/python3.10/dist-packages (from python-slugify->kaggle) (1.3)\n",
            "Requirement already satisfied: charset-normalizer<4,>=2 in /usr/local/lib/python3.10/dist-packages (from requests->kaggle) (3.3.2)\n",
            "Requirement already satisfied: idna<4,>=2.5 in /usr/local/lib/python3.10/dist-packages (from requests->kaggle) (3.4)\n"
          ]
        }
      ],
      "source": [
        "! pip install kaggle"
      ]
    },
    {
      "cell_type": "code",
      "source": [
        "!ls -a /root/"
      ],
      "metadata": {
        "id": "DGDK03s94jb4",
        "outputId": "8557c1dc-73d5-482a-f7bb-5291bef3da2c",
        "colab": {
          "base_uri": "https://localhost:8080/"
        }
      },
      "execution_count": 3,
      "outputs": [
        {
          "output_type": "stream",
          "name": "stdout",
          "text": [
            ".   .bashrc  .config   .jupyter  .keras\t\t.local\t.nv\t  .tmux.conf\n",
            "..  .cache   .ipython  .kaggle\t .launchpadlib\t.npm\t.profile  .wget-hsts\n"
          ]
        }
      ]
    },
    {
      "cell_type": "code",
      "source": [
        "!mkdir /root/.kaggle/"
      ],
      "metadata": {
        "id": "7vR3i-e72KwA",
        "outputId": "1a08796e-6964-47c4-95db-19c23ceec78d",
        "colab": {
          "base_uri": "https://localhost:8080/"
        }
      },
      "execution_count": 4,
      "outputs": [
        {
          "output_type": "stream",
          "name": "stdout",
          "text": [
            "mkdir: cannot create directory ‘/root/.kaggle/’: File exists\n"
          ]
        }
      ]
    },
    {
      "cell_type": "code",
      "source": [
        "!mv /content/kaggle.json /root/.kaggle/\n"
      ],
      "metadata": {
        "id": "maN5xtpp2aXZ"
      },
      "execution_count": 5,
      "outputs": []
    },
    {
      "cell_type": "code",
      "source": [
        "ls /root/.kaggle/\n"
      ],
      "metadata": {
        "id": "hGjouUlh2R15",
        "outputId": "b851898e-8794-4d66-ebd2-29b482603fad",
        "colab": {
          "base_uri": "https://localhost:8080/"
        }
      },
      "execution_count": 6,
      "outputs": [
        {
          "output_type": "stream",
          "name": "stdout",
          "text": [
            "kaggle.json\n"
          ]
        }
      ]
    },
    {
      "cell_type": "code",
      "source": [
        "!chmod 600 /root/.kaggle/kaggle.json"
      ],
      "metadata": {
        "id": "c7fOtUl25da6"
      },
      "execution_count": 7,
      "outputs": []
    },
    {
      "cell_type": "code",
      "source": [
        "!kaggle datasets download -d jonathanoheix/face-expression-recognition-dataset"
      ],
      "metadata": {
        "id": "zNYGBDhq5Rpb",
        "outputId": "94ca190a-6baf-4645-8b3b-db6ff389d06d",
        "colab": {
          "base_uri": "https://localhost:8080/"
        }
      },
      "execution_count": 8,
      "outputs": [
        {
          "output_type": "stream",
          "name": "stdout",
          "text": [
            "face-expression-recognition-dataset.zip: Skipping, found more recently modified local copy (use --force to force download)\n"
          ]
        }
      ]
    },
    {
      "cell_type": "code",
      "source": [
        "%cd /content\n",
        "!unzip -q face-expression-recognition-dataset.zip"
      ],
      "metadata": {
        "id": "E_hBnXDQANGJ",
        "outputId": "fe9270a7-1dff-455b-dac1-8f2aa146dead",
        "colab": {
          "base_uri": "https://localhost:8080/"
        }
      },
      "execution_count": 9,
      "outputs": [
        {
          "output_type": "stream",
          "name": "stdout",
          "text": [
            "/content\n",
            "replace images/images/train/angry/0.jpg? [y]es, [n]o, [A]ll, [N]one, [r]ename: "
          ]
        }
      ]
    },
    {
      "cell_type": "markdown",
      "source": [
        "# Modelo"
      ],
      "metadata": {
        "id": "3RjamWOoxPnL"
      }
    },
    {
      "cell_type": "code",
      "source": [
        "# import os\n",
        "# import shutil\n",
        "\n",
        "# # Ruta de la carpeta que deseas eliminar\n",
        "# folder_path = './images/train/disgust'\n",
        "\n",
        "# # Elimina todas las imágenes en la carpeta\n",
        "# for file_name in os.listdir(folder_path):\n",
        "#     file_path = os.path.join(folder_path, file_name)\n",
        "#     try:\n",
        "#         if os.path.isfile(file_path) or os.path.islink(file_path):\n",
        "#             os.unlink(file_path)\n",
        "#         elif os.path.isdir(file_path):\n",
        "#             shutil.rmtree(file_path)\n",
        "#     except Exception as e:\n",
        "#         print(f'Error al eliminar {file_path}: {e}')\n",
        "\n",
        "# # Elimina la carpeta misma\n",
        "# try:\n",
        "#     os.rmdir(folder_path)\n",
        "# except Exception as e:\n",
        "#     print(f'Error al eliminar la carpeta {folder_path}: {e}')\n"
      ],
      "metadata": {
        "id": "q0d4_grHk-m-"
      },
      "execution_count": 10,
      "outputs": []
    },
    {
      "cell_type": "code",
      "source": [
        "import cv2\n",
        "import os\n",
        "import numpy as np\n",
        "\n",
        "# Directorio raíz que contiene subdirectorios para cada emoción\n",
        "root_dir = './images/train/'\n",
        "\n",
        "# Lista de emociones\n",
        "emotions = ['angry', 'disgust', 'fear', 'happy', 'neutral', 'sad', 'surprise']\n",
        "\n",
        "# Inicializa un diccionario para almacenar shapes únicos por emoción\n",
        "unique_shapes_by_emotion = {emotion: [] for emotion in emotions}\n",
        "\n",
        "# Itera a través de las carpetas de emociones\n",
        "for emotion in emotions:\n",
        "    emotion_dir = os.path.join(root_dir, emotion)\n",
        "    image_files = os.listdir(emotion_dir)\n",
        "\n",
        "    # Itera a través de los archivos de imágenes en cada carpeta de emoción\n",
        "    for image_file in image_files:\n",
        "        image_path = os.path.join(emotion_dir, image_file)\n",
        "        image = cv2.imread(image_path)\n",
        "        shape = image.shape\n",
        "        if shape not in unique_shapes_by_emotion[emotion]:\n",
        "            unique_shapes_by_emotion[emotion].append(shape)\n",
        "\n",
        "# Imprime los shapes únicos por emoción\n",
        "for emotion, shapes in unique_shapes_by_emotion.items():\n",
        "    print(f\"Shapes únicos para la emoción '{emotion}':\")\n",
        "    for shape in shapes:\n",
        "        print(shape)\n"
      ],
      "metadata": {
        "id": "M-eAUshpzJ4c",
        "outputId": "1fc259d6-d767-464e-ef88-e59410a6a2b6",
        "colab": {
          "base_uri": "https://localhost:8080/",
          "height": 246
        }
      },
      "execution_count": 11,
      "outputs": [
        {
          "output_type": "error",
          "ename": "FileNotFoundError",
          "evalue": "ignored",
          "traceback": [
            "\u001b[0;31m---------------------------------------------------------------------------\u001b[0m",
            "\u001b[0;31mFileNotFoundError\u001b[0m                         Traceback (most recent call last)",
            "\u001b[0;32m<ipython-input-11-b1d4c73ba66e>\u001b[0m in \u001b[0;36m<cell line: 15>\u001b[0;34m()\u001b[0m\n\u001b[1;32m     15\u001b[0m \u001b[0;32mfor\u001b[0m \u001b[0memotion\u001b[0m \u001b[0;32min\u001b[0m \u001b[0memotions\u001b[0m\u001b[0;34m:\u001b[0m\u001b[0;34m\u001b[0m\u001b[0;34m\u001b[0m\u001b[0m\n\u001b[1;32m     16\u001b[0m     \u001b[0memotion_dir\u001b[0m \u001b[0;34m=\u001b[0m \u001b[0mos\u001b[0m\u001b[0;34m.\u001b[0m\u001b[0mpath\u001b[0m\u001b[0;34m.\u001b[0m\u001b[0mjoin\u001b[0m\u001b[0;34m(\u001b[0m\u001b[0mroot_dir\u001b[0m\u001b[0;34m,\u001b[0m \u001b[0memotion\u001b[0m\u001b[0;34m)\u001b[0m\u001b[0;34m\u001b[0m\u001b[0;34m\u001b[0m\u001b[0m\n\u001b[0;32m---> 17\u001b[0;31m     \u001b[0mimage_files\u001b[0m \u001b[0;34m=\u001b[0m \u001b[0mos\u001b[0m\u001b[0;34m.\u001b[0m\u001b[0mlistdir\u001b[0m\u001b[0;34m(\u001b[0m\u001b[0memotion_dir\u001b[0m\u001b[0;34m)\u001b[0m\u001b[0;34m\u001b[0m\u001b[0;34m\u001b[0m\u001b[0m\n\u001b[0m\u001b[1;32m     18\u001b[0m \u001b[0;34m\u001b[0m\u001b[0m\n\u001b[1;32m     19\u001b[0m     \u001b[0;31m# Itera a través de los archivos de imágenes en cada carpeta de emoción\u001b[0m\u001b[0;34m\u001b[0m\u001b[0;34m\u001b[0m\u001b[0m\n",
            "\u001b[0;31mFileNotFoundError\u001b[0m: [Errno 2] No such file or directory: './images/train/disgust'"
          ]
        }
      ]
    },
    {
      "cell_type": "markdown",
      "source": [
        "## Loader para el Modelo"
      ],
      "metadata": {
        "id": "xvQrlBeFa4dT"
      }
    },
    {
      "cell_type": "code",
      "source": [
        "import torch\n",
        "from torchvision import datasets, transforms\n",
        "\n",
        "batch_size = 128\n",
        "base_path = \"./images/\"\n",
        "\n",
        "# Definir transformaciones para el conjunto de entrenamiento y validación\n",
        "train_transform = transforms.Compose([\n",
        "    transforms.Resize((56, 56)),\n",
        "    transforms.Grayscale(num_output_channels=1),\n",
        "    transforms.RandomHorizontalFlip(),\n",
        "    transforms.RandomRotation(20),\n",
        "    transforms.ColorJitter(brightness=0.2, contrast=0.2, saturation=0.2, hue=0.2),\n",
        "    transforms.ToTensor(),\n",
        "    transforms.Normalize(mean=[0.5], std=[0.5])  # Normalizar imágenes\n",
        "])\n",
        "\n",
        "validation_transform = transforms.Compose([\n",
        "    transforms.Resize((56, 56)),\n",
        "    transforms.Grayscale(num_output_channels=1),\n",
        "    transforms.ToTensor(),\n",
        "    transforms.Normalize(mean=[0.5], std=[0.5])  # Normalizar imágenes\n",
        "])\n",
        "\n",
        "# Crear conjuntos de datos\n",
        "train_dataset = datasets.ImageFolder(base_path + \"train\", transform=train_transform)\n",
        "validation_dataset = datasets.ImageFolder(base_path + \"validation\", transform=validation_transform)\n",
        "\n",
        "# Crear generadores de lotes (DataLoaders)\n",
        "train_loader = torch.utils.data.DataLoader(train_dataset, batch_size=batch_size, shuffle=True)\n",
        "validation_loader = torch.utils.data.DataLoader(validation_dataset, batch_size=batch_size, shuffle=False)\n",
        "for i, data in enumerate(train_loader, 0):\n",
        "  print(np.array(data[0]).shape)\n",
        "  break"
      ],
      "metadata": {
        "id": "XVgcJVpGL4vT"
      },
      "execution_count": null,
      "outputs": []
    },
    {
      "cell_type": "code",
      "source": [
        "import torch\n",
        "import torch.nn as nn\n",
        "import torch.optim as optim\n",
        "import torchvision\n",
        "import torchvision.transforms as transforms\n",
        "from torch.nn.modules import activation\n",
        "\n",
        "device = torch.device(\"cuda:0\" if torch.cuda.is_available() else \"cpu\")\n",
        "print(device)\n",
        "\n",
        "class Sentiment(nn.Module):\n",
        "    def __init__(self, num_classes=10):\n",
        "        super(Sentiment, self).__init__()\n",
        "\n",
        "        self.convolucionales = nn.Sequential(\n",
        "            # Capa convolucional 1\n",
        "            # - 64 kernels de 3x3\n",
        "            # - activacion ReLU\n",
        "            # - MaxPooling con kernel de 2x2\n",
        "            # - Dropout de 0.25\n",
        "            nn.Conv2d(in_channels=1, out_channels=64, kernel_size=3, padding=1),\n",
        "            nn.BatchNorm2d(64),\n",
        "            nn.ReLU(),\n",
        "            nn.MaxPool2d(kernel_size=2),\n",
        "            nn.Dropout(0.25),\n",
        "\n",
        "            # Capa convolucional 2\n",
        "            # - 128 kernels de 5x5\n",
        "            # - activacion ReLU\n",
        "            # - MaxPooling con kernel de 2x2\n",
        "            # - Dropout de 0.25\n",
        "            nn.Conv2d(in_channels=64, out_channels=128, kernel_size=5, padding=1),\n",
        "            nn.BatchNorm2d(128),\n",
        "            nn.ReLU(),\n",
        "            nn.MaxPool2d(kernel_size=2),\n",
        "            nn.Dropout(0.25),\n",
        "\n",
        "            # Capa convolucional 3\n",
        "            # - 512 kernels de 3x3\n",
        "            # - activacion ReLU\n",
        "            # - MaxPooling con kernel de 2x2\n",
        "            # - Dropout de 0.25\n",
        "            nn.Conv2d(in_channels=128, out_channels=512, kernel_size=3, padding=1),\n",
        "            nn.BatchNorm2d(512),\n",
        "            nn.ReLU(),\n",
        "            nn.MaxPool2d(kernel_size=2),\n",
        "            nn.Dropout(0.25),\n",
        "\n",
        "            # Capa convolucional 4 (igual a la 3)\n",
        "            # - 512 kernels de 3x3\n",
        "            # - activacion ReLU\n",
        "            # - MaxPooling con kernel de 2x2\n",
        "            # - Dropout de 0.25\n",
        "            nn.Conv2d(in_channels=512, out_channels=512, kernel_size=3, padding=1),\n",
        "            nn.BatchNorm2d(512),\n",
        "            nn.ReLU(),\n",
        "            nn.MaxPool2d(kernel_size=2),\n",
        "            nn.Dropout(0.25),\n",
        "\n",
        "            # nn.Conv2d(in_channels=512, out_channels=512, kernel_size=3, padding=1),\n",
        "            # nn.BatchNorm2d(512),\n",
        "            # nn.ReLU(),\n",
        "            # nn.MaxPool2d(kernel_size=2),\n",
        "            # nn.Dropout(0.25),\n",
        "\n",
        "            # nn.Conv2d(in_channels=128, out_channels=512, kernel_size=3, padding=1),\n",
        "            # nn.BatchNorm2d(512),\n",
        "            # nn.ReLU(),\n",
        "            # nn.MaxPool2d(kernel_size=2),\n",
        "            # nn.Dropout(0.25),\n",
        "        )\n",
        "\n",
        "        # Fully Connected\n",
        "        self.classifier = nn.Sequential(\n",
        "          # Se aplanan las salidas convolucionales\n",
        "          nn.Flatten(),\n",
        "\n",
        "          # Fully Connected 1\n",
        "          # - activacion ReLU\n",
        "          # - Dropout de 0.25\n",
        "          # nn.Linear(64 * 28 * 28, 256),\n",
        "          nn.Linear(4608, 256),\n",
        "          nn.BatchNorm1d(256),\n",
        "          nn.ReLU(),\n",
        "          nn.Dropout(0.25),\n",
        "\n",
        "          # Fully Connected 2\n",
        "          # - activacion ReLU\n",
        "          # - Dropout de 0.25\n",
        "          nn.Linear(256, 512),\n",
        "          nn.BatchNorm1d(512),\n",
        "          nn.ReLU(),\n",
        "          nn.Dropout(0.25),\n",
        "\n",
        "          # Fully Connected 3 (salida)\n",
        "          # - activacion spftmax\n",
        "          nn.Linear(512, num_classes),\n",
        "          nn.Softmax(dim=1),\n",
        "        )\n",
        "\n",
        "    def forward(self, x):\n",
        "        x = self.convolucionales(x)\n",
        "        x = self.classifier(x)\n",
        "        return x\n",
        "\n",
        "modelo = Sentiment(len(emotions))\n",
        "print(len(emotions))\n",
        "print(modelo)"
      ],
      "metadata": {
        "id": "9KlhKJDPLzMV"
      },
      "execution_count": null,
      "outputs": []
    },
    {
      "cell_type": "markdown",
      "source": [
        "## Se preparan los datos para CUDA"
      ],
      "metadata": {
        "id": "S1PXnUjREYzE"
      }
    },
    {
      "cell_type": "code",
      "source": [
        "device = ('cuda' if torch.cuda.is_available() else 'cpu')\n",
        "print(f\"Computation device: {device}\\n\")\n",
        "modelo = modelo.to(device)\n",
        "\n",
        "device_in_model = 'cpu' if False in [i.is_cuda for i in modelo.parameters()] else 'cuda'\n",
        "print('model using', device_in_model)"
      ],
      "metadata": {
        "id": "zp6r4JOySyey"
      },
      "execution_count": null,
      "outputs": []
    },
    {
      "cell_type": "markdown",
      "source": [
        "## Entreno del Modelo"
      ],
      "metadata": {
        "id": "aBGw_p2tcf6z"
      }
    },
    {
      "cell_type": "code",
      "source": [
        "%%time\n",
        "import torch.optim as optim\n",
        "import tensorflow as tf\n",
        "from torch.optim.lr_scheduler import StepLR\n",
        "\n",
        "\n",
        "\n",
        "# Función de pérdida y optimizador\n",
        "# criterion = nn.CrossEntropyLoss()\n",
        "criterion = nn.CrossEntropyLoss()\n",
        "# criterion = tf.keras.metrics.categorical_crossentropy()\n",
        "\n",
        "# optimizer = optim.SGD(modelo.parameters(), lr=0.001, momentum=0.9)\n",
        "# optimizer = optim.Adam(modelo.parameters(), lr=0.0001)\n",
        "optimizer = optim.Adam(modelo.parameters(), lr=0.001, weight_decay=1e-5)\n",
        "\n",
        "# Define el scheduler\n",
        "scheduler = StepLR(optimizer, step_size=5, gamma=0.1)\n",
        "\n",
        "epochs = 5\n",
        "\n",
        "# Entrenamiento\n",
        "for epoch in range(epochs):\n",
        "    running_loss = 0.0\n",
        "    for i, data in enumerate(train_loader, 0):\n",
        "        inputs, labels = data\n",
        "        inputs = inputs.to(device)\n",
        "        labels = labels.to(device)\n",
        "\n",
        "        optimizer.zero_grad()\n",
        "        outputs = modelo(inputs)\n",
        "        loss = criterion(outputs, labels)\n",
        "        loss.backward()\n",
        "        optimizer.step()\n",
        "        running_loss += loss.item()\n",
        "        print(f'\\rEpoch {epoch+1} | step: {i}/{len(train_loader)-1}', end='')\n",
        "\n",
        "    scheduler.step()\n",
        "    # Evaluación en el conjunto de prueba\n",
        "    with torch.no_grad():\n",
        "        correct = 0\n",
        "        total = 0\n",
        "        predictions = []\n",
        "        ground_truth = []\n",
        "\n",
        "        for data in train_loader:\n",
        "            inputs, labels = data\n",
        "            inputs = inputs.to(device)\n",
        "            labels = labels.to(device)\n",
        "\n",
        "            outputs = modelo(inputs)\n",
        "            _, predicted = torch.max(outputs.data, 1)\n",
        "            total += labels.size(0)\n",
        "            correct += (predicted == labels).sum().item()\n",
        "\n",
        "        print(f'\\n> Training Loss: {running_loss / len(train_loader)} | Training Accuracy: {round(100 * correct / total, 2)}%')\n",
        "        correct = 0\n",
        "        total = 0\n",
        "\n",
        "        for data in validation_loader:\n",
        "            inputs, labels = data\n",
        "            inputs = inputs.to(device)\n",
        "            labels = labels.to(device)\n",
        "\n",
        "            outputs = modelo(inputs)\n",
        "            _, predicted = torch.max(outputs.data, 1)\n",
        "            total += labels.size(0)\n",
        "            correct += (predicted == labels).sum().item()\n",
        "\n",
        "            predictions.extend(predicted.cpu().numpy())\n",
        "            ground_truth.extend(labels.cpu().numpy())\n",
        "\n",
        "        print(f'> Validation Loss: {running_loss / len(train_loader)} | Validation Accuracy: {round(100 * correct / total, 2)}%')\n",
        "\n",
        "print('Finished Training')"
      ],
      "metadata": {
        "id": "-YQ_U29VL6fV"
      },
      "execution_count": null,
      "outputs": []
    },
    {
      "cell_type": "code",
      "source": [
        "!pip install scikit-learn"
      ],
      "metadata": {
        "id": "4eQiBBnMsvKA"
      },
      "execution_count": null,
      "outputs": []
    },
    {
      "cell_type": "code",
      "source": [
        "from sklearn.metrics import confusion_matrix\n",
        "import seaborn as sns\n",
        "import matplotlib.pyplot as plt\n",
        "\n",
        "cm = confusion_matrix(ground_truth, predictions)\n",
        "plt.figure(figsize=(10, 8))\n",
        "sns.heatmap(cm, annot=True, fmt=\"d\", cmap=\"Blues\", xticklabels=emotions, yticklabels=emotions)\n",
        "plt.xlabel(\"Predicted\")\n",
        "plt.ylabel(\"True\")\n",
        "plt.title(\"Confusion Matrix\")\n",
        "plt.show()\n"
      ],
      "metadata": {
        "id": "Qi3-uR2psyn-"
      },
      "execution_count": null,
      "outputs": []
    },
    {
      "cell_type": "code",
      "source": [
        "import pickle\n",
        "\n",
        "model_filename = \"model.pkl\"\n",
        "\n",
        "with open(model_filename, 'wb') as model_file:\n",
        "    pickle.dump(modelo, model_file)\n"
      ],
      "metadata": {
        "id": "hqoncgFQXC_d"
      },
      "execution_count": null,
      "outputs": []
    },
    {
      "cell_type": "code",
      "source": [
        "import matplotlib.pyplot as plt\n",
        "\n",
        "def plot_results(history):\n",
        "    acc = history.history['accuracy']\n",
        "    val_acc = history.history['val_accuracy']\n",
        "    loss = history.history['loss']\n",
        "    val_loss = history.history['val_loss']\n",
        "\n",
        "    epochs = range(1, len(acc) + 1)\n",
        "\n",
        "    plt.figure(figsize = (24, 6))\n",
        "    plt.subplot(1,2,1)\n",
        "    plt.plot(epochs, acc, 'b', label = 'Training Accuracy')\n",
        "    plt.plot(epochs, val_acc, 'r', label = 'Validation Accuracy')\n",
        "    plt.grid(True)\n",
        "    plt.legend()\n",
        "    plt.xlabel('Epoch')\n",
        "\n",
        "\n",
        "\n",
        "    plt.subplot(1,2,2)\n",
        "    plt.plot(epochs, loss, 'b', label = 'Training Loss')\n",
        "    plt.plot(epochs, val_loss, 'r', label = 'Validation Loss')\n",
        "    plt.grid(True)\n",
        "    plt.legend()\n",
        "    plt.xlabel('Epoch')\n",
        "    plt.show()\n",
        "\n",
        "def get_best_epcoh(history):\n",
        "    valid_acc = history.history['val_accuracy']\n",
        "    best_epoch = valid_acc.index(max(valid_acc)) + 1\n",
        "    best_acc =  max(valid_acc)\n",
        "    print('Best Validation Accuracy Score {:0.5f}, is for epoch {}'.format( best_acc, best_epoch))\n",
        "    return best_epoch"
      ],
      "metadata": {
        "id": "FxgZJ2mcZd2f"
      },
      "execution_count": null,
      "outputs": []
    },
    {
      "cell_type": "code",
      "source": [
        "plot_results(history)\n",
        "best_epoch =get_best_epcoh(history)"
      ],
      "metadata": {
        "id": "YK7Mo-uhZhSZ"
      },
      "execution_count": null,
      "outputs": []
    }
  ]
}
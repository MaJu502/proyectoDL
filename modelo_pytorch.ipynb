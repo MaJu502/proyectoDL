{
  "nbformat": 4,
  "nbformat_minor": 0,
  "metadata": {
    "colab": {
      "provenance": [],
      "gpuType": "T4",
      "include_colab_link": true
    },
    "kernelspec": {
      "name": "python3",
      "display_name": "Python 3"
    },
    "language_info": {
      "name": "python"
    },
    "accelerator": "GPU"
  },
  "cells": [
    {
      "cell_type": "markdown",
      "metadata": {
        "id": "view-in-github",
        "colab_type": "text"
      },
      "source": [
        "<a href=\"https://colab.research.google.com/github/MaJu502/proyectoDL/blob/main/modelo_pytorch.ipynb\" target=\"_parent\"><img src=\"https://colab.research.google.com/assets/colab-badge.svg\" alt=\"Open In Colab\"/></a>"
      ]
    },
    {
      "cell_type": "markdown",
      "source": [
        "#Proyecto Deep Learning\n",
        "- Diego Cordova 20212\n",
        "- Marco Jurado 20308\n",
        "- Cristian Aguirre 20231\n",
        "- Paola Contreras 20213\n",
        "- Paola de Leon 20361"
      ],
      "metadata": {
        "id": "dgU-QqmJU3ZV"
      }
    },
    {
      "cell_type": "markdown",
      "source": [
        "## Carga de Dataset"
      ],
      "metadata": {
        "id": "f-bUhYK_LJ5o"
      }
    },
    {
      "cell_type": "code",
      "source": [
        "!gdown 1BoNWFSXxtN74PgLcBxfGWyeKUOfevQEP"
      ],
      "metadata": {
        "id": "Lod5bJutyRzl",
        "outputId": "28712815-716f-425f-8c44-f1064bde32c3",
        "colab": {
          "base_uri": "https://localhost:8080/"
        }
      },
      "execution_count": 1,
      "outputs": [
        {
          "output_type": "stream",
          "name": "stdout",
          "text": [
            "Downloading...\n",
            "From: https://drive.google.com/uc?id=1BoNWFSXxtN74PgLcBxfGWyeKUOfevQEP\n",
            "To: /content/kaggle.json\n",
            "\r  0% 0.00/64.0 [00:00<?, ?B/s]\r100% 64.0/64.0 [00:00<00:00, 383kB/s]\n"
          ]
        }
      ]
    },
    {
      "cell_type": "code",
      "execution_count": 2,
      "metadata": {
        "id": "gT95QfnIUwXF",
        "outputId": "3bbf51ef-39b9-42c3-d45c-915d6f9e1b0f",
        "colab": {
          "base_uri": "https://localhost:8080/"
        }
      },
      "outputs": [
        {
          "output_type": "stream",
          "name": "stdout",
          "text": [
            "Requirement already satisfied: kaggle in /usr/local/lib/python3.10/dist-packages (1.5.16)\n",
            "Requirement already satisfied: six>=1.10 in /usr/local/lib/python3.10/dist-packages (from kaggle) (1.16.0)\n",
            "Requirement already satisfied: certifi in /usr/local/lib/python3.10/dist-packages (from kaggle) (2023.7.22)\n",
            "Requirement already satisfied: python-dateutil in /usr/local/lib/python3.10/dist-packages (from kaggle) (2.8.2)\n",
            "Requirement already satisfied: requests in /usr/local/lib/python3.10/dist-packages (from kaggle) (2.31.0)\n",
            "Requirement already satisfied: tqdm in /usr/local/lib/python3.10/dist-packages (from kaggle) (4.66.1)\n",
            "Requirement already satisfied: python-slugify in /usr/local/lib/python3.10/dist-packages (from kaggle) (8.0.1)\n",
            "Requirement already satisfied: urllib3 in /usr/local/lib/python3.10/dist-packages (from kaggle) (2.0.7)\n",
            "Requirement already satisfied: bleach in /usr/local/lib/python3.10/dist-packages (from kaggle) (6.1.0)\n",
            "Requirement already satisfied: webencodings in /usr/local/lib/python3.10/dist-packages (from bleach->kaggle) (0.5.1)\n",
            "Requirement already satisfied: text-unidecode>=1.3 in /usr/local/lib/python3.10/dist-packages (from python-slugify->kaggle) (1.3)\n",
            "Requirement already satisfied: charset-normalizer<4,>=2 in /usr/local/lib/python3.10/dist-packages (from requests->kaggle) (3.3.2)\n",
            "Requirement already satisfied: idna<4,>=2.5 in /usr/local/lib/python3.10/dist-packages (from requests->kaggle) (3.4)\n"
          ]
        }
      ],
      "source": [
        "! pip install kaggle"
      ]
    },
    {
      "cell_type": "code",
      "source": [
        "!ls -a /root/"
      ],
      "metadata": {
        "id": "DGDK03s94jb4",
        "outputId": "6be3c2c0-b88b-4800-e7b5-e1a208f5eafd",
        "colab": {
          "base_uri": "https://localhost:8080/"
        }
      },
      "execution_count": 3,
      "outputs": [
        {
          "output_type": "stream",
          "name": "stdout",
          "text": [
            ".   .bashrc  .config   .jupyter  .launchpadlib\t.npm\t  .tmux.conf\n",
            "..  .cache   .ipython  .keras\t .local\t\t.profile  .wget-hsts\n"
          ]
        }
      ]
    },
    {
      "cell_type": "code",
      "source": [
        "!mkdir /root/.kaggle/"
      ],
      "metadata": {
        "id": "7vR3i-e72KwA"
      },
      "execution_count": 4,
      "outputs": []
    },
    {
      "cell_type": "code",
      "source": [
        "!mv /content/kaggle.json /root/.kaggle/\n"
      ],
      "metadata": {
        "id": "maN5xtpp2aXZ"
      },
      "execution_count": 5,
      "outputs": []
    },
    {
      "cell_type": "code",
      "source": [
        "ls /root/.kaggle/\n"
      ],
      "metadata": {
        "id": "hGjouUlh2R15",
        "outputId": "adc125ea-bb28-45ba-b9c4-81bc31580a4f",
        "colab": {
          "base_uri": "https://localhost:8080/"
        }
      },
      "execution_count": 6,
      "outputs": [
        {
          "output_type": "stream",
          "name": "stdout",
          "text": [
            "kaggle.json\n"
          ]
        }
      ]
    },
    {
      "cell_type": "code",
      "source": [
        "!chmod 600 /root/.kaggle/kaggle.json"
      ],
      "metadata": {
        "id": "c7fOtUl25da6"
      },
      "execution_count": 7,
      "outputs": []
    },
    {
      "cell_type": "code",
      "source": [
        "!kaggle datasets download -d jonathanoheix/face-expression-recognition-dataset"
      ],
      "metadata": {
        "id": "zNYGBDhq5Rpb",
        "outputId": "ec236edf-acb0-4ee8-8b88-ec35f66fbc1e",
        "colab": {
          "base_uri": "https://localhost:8080/"
        }
      },
      "execution_count": 8,
      "outputs": [
        {
          "output_type": "stream",
          "name": "stdout",
          "text": [
            "Downloading face-expression-recognition-dataset.zip to /content\n",
            "100% 120M/121M [00:06<00:00, 24.8MB/s]\n",
            "100% 121M/121M [00:06<00:00, 20.6MB/s]\n"
          ]
        }
      ]
    },
    {
      "cell_type": "code",
      "source": [
        "%cd /content\n",
        "!unzip -q face-expression-recognition-dataset.zip"
      ],
      "metadata": {
        "id": "E_hBnXDQANGJ",
        "outputId": "62c58b06-57b6-4ac4-85ac-937cc73e0c3e",
        "colab": {
          "base_uri": "https://localhost:8080/"
        }
      },
      "execution_count": 9,
      "outputs": [
        {
          "output_type": "stream",
          "name": "stdout",
          "text": [
            "/content\n"
          ]
        }
      ]
    },
    {
      "cell_type": "markdown",
      "source": [
        "# Modelo"
      ],
      "metadata": {
        "id": "3RjamWOoxPnL"
      }
    },
    {
      "cell_type": "code",
      "source": [
        "import os\n",
        "import shutil\n",
        "\n",
        "# Ruta de la carpeta que deseas eliminar\n",
        "folder_path = './images/train/disgust'\n",
        "\n",
        "# Elimina todas las imágenes en la carpeta\n",
        "for file_name in os.listdir(folder_path):\n",
        "    file_path = os.path.join(folder_path, file_name)\n",
        "    try:\n",
        "        if os.path.isfile(file_path) or os.path.islink(file_path):\n",
        "            os.unlink(file_path)\n",
        "        elif os.path.isdir(file_path):\n",
        "            shutil.rmtree(file_path)\n",
        "    except Exception as e:\n",
        "        print(f'Error al eliminar {file_path}: {e}')\n",
        "\n",
        "# Elimina la carpeta misma\n",
        "try:\n",
        "    os.rmdir(folder_path)\n",
        "except Exception as e:\n",
        "    print(f'Error al eliminar la carpeta {folder_path}: {e}')\n"
      ],
      "metadata": {
        "id": "q0d4_grHk-m-"
      },
      "execution_count": 10,
      "outputs": []
    },
    {
      "cell_type": "code",
      "source": [
        "# Ruta de la carpeta que deseas eliminar\n",
        "folder_path = './images/validation/disgust'\n",
        "\n",
        "# Elimina todas las imágenes en la carpeta\n",
        "for file_name in os.listdir(folder_path):\n",
        "    file_path = os.path.join(folder_path, file_name)\n",
        "    try:\n",
        "        if os.path.isfile(file_path) or os.path.islink(file_path):\n",
        "            os.unlink(file_path)\n",
        "        elif os.path.isdir(file_path):\n",
        "            shutil.rmtree(file_path)\n",
        "    except Exception as e:\n",
        "        print(f'Error al eliminar {file_path}: {e}')\n",
        "\n",
        "# Elimina la carpeta misma\n",
        "try:\n",
        "    os.rmdir(folder_path)\n",
        "except Exception as e:\n",
        "    print(f'Error al eliminar la carpeta {folder_path}: {e}')"
      ],
      "metadata": {
        "id": "YRak5SVjsVOf"
      },
      "execution_count": 11,
      "outputs": []
    },
    {
      "cell_type": "code",
      "source": [
        "import os\n",
        "import random\n",
        "import shutil\n",
        "\n",
        "# Ruta de la carpeta que deseas modificar\n",
        "folder_path = './images/train/happy'\n",
        "\n",
        "# Lista de archivos en la carpeta\n",
        "file_list = os.listdir(folder_path)\n",
        "\n",
        "# Número de imágenes que deseas eliminar\n",
        "num_images_to_delete = 3000\n",
        "\n",
        "# Verifica si hay suficientes imágenes para eliminar\n",
        "if len(file_list) < num_images_to_delete:\n",
        "    print(f'No hay suficientes imágenes en {folder_path} para eliminar.')\n",
        "else:\n",
        "    # Selecciona aleatoriamente las imágenes que se eliminarán\n",
        "    images_to_delete = random.sample(file_list, num_images_to_delete)\n",
        "\n",
        "    # Elimina las imágenes seleccionadas\n",
        "    for file_name in images_to_delete:\n",
        "        file_path = os.path.join(folder_path, file_name)\n",
        "        try:\n",
        "            if os.path.isfile(file_path):\n",
        "                os.unlink(file_path)\n",
        "            elif os.path.isdir(file_path):\n",
        "                shutil.rmtree(file_path)\n",
        "        except Exception as e:\n",
        "            print(f'Error al eliminar {file_path}: {e}')\n",
        "\n",
        "    print(f'Se han eliminado {num_images_to_delete} imágenes de {folder_path}.')\n"
      ],
      "metadata": {
        "colab": {
          "base_uri": "https://localhost:8080/"
        },
        "id": "OeuMTV5av9QL",
        "outputId": "63e3d2eb-37ca-418a-8f05-1d0ff388ace6"
      },
      "execution_count": 23,
      "outputs": [
        {
          "output_type": "stream",
          "name": "stdout",
          "text": [
            "Se han eliminado 3000 imágenes de ./images/train/happy.\n"
          ]
        }
      ]
    },
    {
      "cell_type": "code",
      "source": [
        "import cv2\n",
        "import os\n",
        "import numpy as np\n",
        "\n",
        "# Directorio raíz que contiene subdirectorios para cada emoción\n",
        "root_dir = './images/train/'\n",
        "\n",
        "# Lista de emociones\n",
        "emotions = ['angry', 'fear', 'happy', 'neutral', 'sad', 'surprise']\n",
        "\n",
        "# Inicializa un diccionario para almacenar shapes únicos por emoción\n",
        "unique_shapes_by_emotion = {emotion: [] for emotion in emotions}\n",
        "\n",
        "# Itera a través de las carpetas de emociones\n",
        "for emotion in emotions:\n",
        "    emotion_dir = os.path.join(root_dir, emotion)\n",
        "    image_files = os.listdir(emotion_dir)\n",
        "\n",
        "    # Itera a través de los archivos de imágenes en cada carpeta de emoción\n",
        "    for image_file in image_files:\n",
        "        image_path = os.path.join(emotion_dir, image_file)\n",
        "        image = cv2.imread(image_path)\n",
        "        shape = image.shape\n",
        "        if shape not in unique_shapes_by_emotion[emotion]:\n",
        "            unique_shapes_by_emotion[emotion].append(shape)\n",
        "\n",
        "# Imprime los shapes únicos por emoción\n",
        "for emotion, shapes in unique_shapes_by_emotion.items():\n",
        "    print(f\"Shapes únicos para la emoción '{emotion}':\")\n",
        "    for shape in shapes:\n",
        "        print(shape)\n"
      ],
      "metadata": {
        "id": "M-eAUshpzJ4c",
        "colab": {
          "base_uri": "https://localhost:8080/"
        },
        "outputId": "bb0d68f5-622b-4465-fc80-cb8e96b9409b"
      },
      "execution_count": 24,
      "outputs": [
        {
          "output_type": "stream",
          "name": "stdout",
          "text": [
            "Shapes únicos para la emoción 'angry':\n",
            "(48, 48, 3)\n",
            "Shapes únicos para la emoción 'fear':\n",
            "(48, 48, 3)\n",
            "Shapes únicos para la emoción 'happy':\n",
            "(48, 48, 3)\n",
            "Shapes únicos para la emoción 'neutral':\n",
            "(48, 48, 3)\n",
            "Shapes únicos para la emoción 'sad':\n",
            "(48, 48, 3)\n",
            "Shapes únicos para la emoción 'surprise':\n",
            "(48, 48, 3)\n"
          ]
        }
      ]
    },
    {
      "cell_type": "markdown",
      "source": [
        "## Loader para el Modelo"
      ],
      "metadata": {
        "id": "xvQrlBeFa4dT"
      }
    },
    {
      "cell_type": "code",
      "source": [
        "import torch\n",
        "from torchvision import datasets, transforms\n",
        "\n",
        "batch_size = 128\n",
        "base_path = \"./images/\"\n",
        "\n",
        "# Definir transformaciones para el conjunto de entrenamiento y validación\n",
        "train_transform = transforms.Compose([\n",
        "    transforms.Resize((56, 56)),\n",
        "    transforms.Grayscale(num_output_channels=1),\n",
        "    transforms.RandomHorizontalFlip(),\n",
        "    transforms.RandomRotation(20),\n",
        "    transforms.ColorJitter(brightness=0.2, contrast=0.2, saturation=0.2, hue=0.2),\n",
        "    transforms.ToTensor(),\n",
        "    transforms.Normalize(mean=[0.5], std=[0.5])  # Normalizar imágenes\n",
        "])\n",
        "\n",
        "validation_transform = transforms.Compose([\n",
        "    transforms.Resize((56, 56)),\n",
        "    transforms.Grayscale(num_output_channels=1),\n",
        "    transforms.ToTensor(),\n",
        "    transforms.Normalize(mean=[0.5], std=[0.5])  # Normalizar imágenes\n",
        "])\n",
        "\n",
        "# Crear conjuntos de datos\n",
        "train_dataset = datasets.ImageFolder(base_path + \"train\", transform=train_transform)\n",
        "validation_dataset = datasets.ImageFolder(base_path + \"validation\", transform=validation_transform)\n",
        "\n",
        "# Crear generadores de lotes (DataLoaders)\n",
        "train_loader = torch.utils.data.DataLoader(train_dataset, batch_size=batch_size, shuffle=True)\n",
        "validation_loader = torch.utils.data.DataLoader(validation_dataset, batch_size=batch_size, shuffle=False)\n",
        "for i, data in enumerate(train_loader, 0):\n",
        "  print(np.array(data[0]).shape)\n",
        "  break"
      ],
      "metadata": {
        "id": "XVgcJVpGL4vT",
        "colab": {
          "base_uri": "https://localhost:8080/"
        },
        "outputId": "ec4b7dfb-f181-4120-f949-37cae56300ac"
      },
      "execution_count": 25,
      "outputs": [
        {
          "output_type": "stream",
          "name": "stdout",
          "text": [
            "(128, 1, 56, 56)\n"
          ]
        }
      ]
    },
    {
      "cell_type": "code",
      "source": [
        "import torch\n",
        "import torch.nn as nn\n",
        "import torch.optim as optim\n",
        "import torchvision\n",
        "import torchvision.transforms as transforms\n",
        "from torch.nn.modules import activation\n",
        "\n",
        "device = torch.device(\"cuda:0\" if torch.cuda.is_available() else \"cpu\")\n",
        "print(device)\n",
        "\n",
        "class Sentiment(nn.Module):\n",
        "    def __init__(self, num_classes=10):\n",
        "        super(Sentiment, self).__init__()\n",
        "\n",
        "        self.convolucionales = nn.Sequential(\n",
        "            # Capa convolucional 1\n",
        "            # - 64 kernels de 3x3\n",
        "            # - activacion ReLU\n",
        "            # - MaxPooling con kernel de 2x2\n",
        "            # - Dropout de 0.25\n",
        "            nn.Conv2d(in_channels=1, out_channels=64, kernel_size=3, padding=1),\n",
        "            nn.BatchNorm2d(64),\n",
        "            nn.ReLU(),\n",
        "            nn.MaxPool2d(kernel_size=2),\n",
        "            nn.Dropout(0.25),\n",
        "\n",
        "            # Capa convolucional 2\n",
        "            # - 128 kernels de 5x5\n",
        "            # - activacion ReLU\n",
        "            # - MaxPooling con kernel de 2x2\n",
        "            # - Dropout de 0.25\n",
        "            nn.Conv2d(in_channels=64, out_channels=128, kernel_size=5, padding=1),\n",
        "            nn.BatchNorm2d(128),\n",
        "            nn.ReLU(),\n",
        "            nn.MaxPool2d(kernel_size=2),\n",
        "            nn.Dropout(0.25),\n",
        "\n",
        "            # Capa convolucional 3\n",
        "            # - 512 kernels de 3x3\n",
        "            # - activacion ReLU\n",
        "            # - MaxPooling con kernel de 2x2\n",
        "            # - Dropout de 0.25\n",
        "            nn.Conv2d(in_channels=128, out_channels=512, kernel_size=3, padding=1),\n",
        "            nn.BatchNorm2d(512),\n",
        "            nn.ReLU(),\n",
        "            nn.MaxPool2d(kernel_size=2),\n",
        "            nn.Dropout(0.25),\n",
        "\n",
        "            # Capa convolucional 4 (igual a la 3)\n",
        "            # - 512 kernels de 3x3\n",
        "            # - activacion ReLU\n",
        "            # - MaxPooling con kernel de 2x2\n",
        "            # - Dropout de 0.25\n",
        "            nn.Conv2d(in_channels=512, out_channels=512, kernel_size=3, padding=1),\n",
        "            nn.BatchNorm2d(512),\n",
        "            nn.ReLU(),\n",
        "            nn.MaxPool2d(kernel_size=2),\n",
        "            nn.Dropout(0.25),\n",
        "\n",
        "            # nn.Conv2d(in_channels=512, out_channels=512, kernel_size=3, padding=1),\n",
        "            # nn.BatchNorm2d(512),\n",
        "            # nn.ReLU(),\n",
        "            # nn.MaxPool2d(kernel_size=2),\n",
        "            # nn.Dropout(0.25),\n",
        "\n",
        "            # nn.Conv2d(in_channels=128, out_channels=512, kernel_size=3, padding=1),\n",
        "            # nn.BatchNorm2d(512),\n",
        "            # nn.ReLU(),\n",
        "            # nn.MaxPool2d(kernel_size=2),\n",
        "            # nn.Dropout(0.25),\n",
        "        )\n",
        "\n",
        "        # Fully Connected\n",
        "        self.classifier = nn.Sequential(\n",
        "          # Se aplanan las salidas convolucionales\n",
        "          nn.Flatten(),\n",
        "\n",
        "          # Fully Connected 1\n",
        "          # - activacion ReLU\n",
        "          # - Dropout de 0.25\n",
        "          # nn.Linear(64 * 28 * 28, 256),\n",
        "          nn.Linear(4608, 256),\n",
        "          nn.BatchNorm1d(256),\n",
        "          nn.ReLU(),\n",
        "          nn.Dropout(0.25),\n",
        "\n",
        "          # Fully Connected 2\n",
        "          # - activacion ReLU\n",
        "          # - Dropout de 0.25\n",
        "          nn.Linear(256, 512),\n",
        "          nn.BatchNorm1d(512),\n",
        "          nn.ReLU(),\n",
        "          nn.Dropout(0.25),\n",
        "\n",
        "          # Fully Connected 3 (salida)\n",
        "          # - activacion spftmax\n",
        "          nn.Linear(512, num_classes),\n",
        "          nn.Softmax(dim=1),\n",
        "        )\n",
        "\n",
        "    def forward(self, x):\n",
        "        x = self.convolucionales(x)\n",
        "        x = self.classifier(x)\n",
        "        return x\n",
        "\n",
        "modelo = Sentiment(len(emotions))\n",
        "print(len(emotions))\n",
        "print(modelo)"
      ],
      "metadata": {
        "id": "9KlhKJDPLzMV",
        "colab": {
          "base_uri": "https://localhost:8080/"
        },
        "outputId": "4c0cb166-eee0-4378-c9c8-68beeccaf76e"
      },
      "execution_count": 26,
      "outputs": [
        {
          "output_type": "stream",
          "name": "stdout",
          "text": [
            "cuda:0\n",
            "6\n",
            "Sentiment(\n",
            "  (convolucionales): Sequential(\n",
            "    (0): Conv2d(1, 64, kernel_size=(3, 3), stride=(1, 1), padding=(1, 1))\n",
            "    (1): BatchNorm2d(64, eps=1e-05, momentum=0.1, affine=True, track_running_stats=True)\n",
            "    (2): ReLU()\n",
            "    (3): MaxPool2d(kernel_size=2, stride=2, padding=0, dilation=1, ceil_mode=False)\n",
            "    (4): Dropout(p=0.25, inplace=False)\n",
            "    (5): Conv2d(64, 128, kernel_size=(5, 5), stride=(1, 1), padding=(1, 1))\n",
            "    (6): BatchNorm2d(128, eps=1e-05, momentum=0.1, affine=True, track_running_stats=True)\n",
            "    (7): ReLU()\n",
            "    (8): MaxPool2d(kernel_size=2, stride=2, padding=0, dilation=1, ceil_mode=False)\n",
            "    (9): Dropout(p=0.25, inplace=False)\n",
            "    (10): Conv2d(128, 512, kernel_size=(3, 3), stride=(1, 1), padding=(1, 1))\n",
            "    (11): BatchNorm2d(512, eps=1e-05, momentum=0.1, affine=True, track_running_stats=True)\n",
            "    (12): ReLU()\n",
            "    (13): MaxPool2d(kernel_size=2, stride=2, padding=0, dilation=1, ceil_mode=False)\n",
            "    (14): Dropout(p=0.25, inplace=False)\n",
            "    (15): Conv2d(512, 512, kernel_size=(3, 3), stride=(1, 1), padding=(1, 1))\n",
            "    (16): BatchNorm2d(512, eps=1e-05, momentum=0.1, affine=True, track_running_stats=True)\n",
            "    (17): ReLU()\n",
            "    (18): MaxPool2d(kernel_size=2, stride=2, padding=0, dilation=1, ceil_mode=False)\n",
            "    (19): Dropout(p=0.25, inplace=False)\n",
            "  )\n",
            "  (classifier): Sequential(\n",
            "    (0): Flatten(start_dim=1, end_dim=-1)\n",
            "    (1): Linear(in_features=4608, out_features=256, bias=True)\n",
            "    (2): BatchNorm1d(256, eps=1e-05, momentum=0.1, affine=True, track_running_stats=True)\n",
            "    (3): ReLU()\n",
            "    (4): Dropout(p=0.25, inplace=False)\n",
            "    (5): Linear(in_features=256, out_features=512, bias=True)\n",
            "    (6): BatchNorm1d(512, eps=1e-05, momentum=0.1, affine=True, track_running_stats=True)\n",
            "    (7): ReLU()\n",
            "    (8): Dropout(p=0.25, inplace=False)\n",
            "    (9): Linear(in_features=512, out_features=6, bias=True)\n",
            "    (10): Softmax(dim=1)\n",
            "  )\n",
            ")\n"
          ]
        }
      ]
    },
    {
      "cell_type": "markdown",
      "source": [
        "## Se preparan los datos para CUDA"
      ],
      "metadata": {
        "id": "S1PXnUjREYzE"
      }
    },
    {
      "cell_type": "code",
      "source": [
        "device = ('cuda' if torch.cuda.is_available() else 'cpu')\n",
        "print(f\"Computation device: {device}\\n\")\n",
        "modelo = modelo.to(device)\n",
        "\n",
        "device_in_model = 'cpu' if False in [i.is_cuda for i in modelo.parameters()] else 'cuda'\n",
        "print('model using', device_in_model)"
      ],
      "metadata": {
        "id": "zp6r4JOySyey",
        "colab": {
          "base_uri": "https://localhost:8080/"
        },
        "outputId": "80642ec8-44d4-4ab2-ea39-b0a0666668f3"
      },
      "execution_count": 27,
      "outputs": [
        {
          "output_type": "stream",
          "name": "stdout",
          "text": [
            "Computation device: cuda\n",
            "\n",
            "model using cuda\n"
          ]
        }
      ]
    },
    {
      "cell_type": "markdown",
      "source": [
        "## Entreno del Modelo"
      ],
      "metadata": {
        "id": "aBGw_p2tcf6z"
      }
    },
    {
      "cell_type": "code",
      "source": [
        "%%time\n",
        "import torch.optim as optim\n",
        "import tensorflow as tf\n",
        "from torch.optim.lr_scheduler import StepLR\n",
        "\n",
        "\n",
        "\n",
        "# Función de pérdida y optimizador\n",
        "# criterion = nn.CrossEntropyLoss()\n",
        "criterion = nn.CrossEntropyLoss()\n",
        "# criterion = tf.keras.metrics.categorical_crossentropy()\n",
        "\n",
        "# optimizer = optim.SGD(modelo.parameters(), lr=0.001, momentum=0.9)\n",
        "# optimizer = optim.Adam(modelo.parameters(), lr=0.0001)\n",
        "optimizer = optim.Adam(modelo.parameters(), lr=0.0001, weight_decay=1e-5)\n",
        "\n",
        "# Define el scheduler\n",
        "scheduler = StepLR(optimizer, step_size=5, gamma=0.1)\n",
        "\n",
        "epochs = 5\n",
        "\n",
        "# Entrenamiento\n",
        "for epoch in range(epochs):\n",
        "    running_loss = 0.0\n",
        "    for i, data in enumerate(train_loader, 0):\n",
        "        inputs, labels = data\n",
        "        inputs = inputs.to(device)\n",
        "        labels = labels.to(device)\n",
        "\n",
        "        optimizer.zero_grad()\n",
        "        outputs = modelo(inputs)\n",
        "        loss = criterion(outputs, labels)\n",
        "        loss.backward()\n",
        "        optimizer.step()\n",
        "        running_loss += loss.item()\n",
        "        print(f'\\rEpoch {epoch+1} | step: {i}/{len(train_loader)-1}', end='')\n",
        "\n",
        "    scheduler.step()\n",
        "    # Evaluación en el conjunto de prueba\n",
        "    with torch.no_grad():\n",
        "        correct = 0\n",
        "        total = 0\n",
        "        predictions = []\n",
        "        ground_truth = []\n",
        "\n",
        "        for data in train_loader:\n",
        "            inputs, labels = data\n",
        "            inputs = inputs.to(device)\n",
        "            labels = labels.to(device)\n",
        "\n",
        "            outputs = modelo(inputs)\n",
        "            _, predicted = torch.max(outputs.data, 1)\n",
        "            total += labels.size(0)\n",
        "            correct += (predicted == labels).sum().item()\n",
        "\n",
        "        print(f'\\n> Training Loss: {running_loss / len(train_loader)} | Training Accuracy: {round(100 * correct / total, 2)}%')\n",
        "        correct = 0\n",
        "        total = 0\n",
        "\n",
        "        for data in validation_loader:\n",
        "            inputs, labels = data\n",
        "            inputs = inputs.to(device)\n",
        "            labels = labels.to(device)\n",
        "\n",
        "            outputs = modelo(inputs)\n",
        "            _, predicted = torch.max(outputs.data, 1)\n",
        "            total += labels.size(0)\n",
        "            correct += (predicted == labels).sum().item()\n",
        "\n",
        "            predictions.extend(predicted.cpu().numpy())\n",
        "            ground_truth.extend(labels.cpu().numpy())\n",
        "\n",
        "        print(f'> Validation Loss: {running_loss / len(train_loader)} | Validation Accuracy: {round(100 * correct / total, 2)}%')\n",
        "\n",
        "print('Finished Training')"
      ],
      "metadata": {
        "id": "-YQ_U29VL6fV",
        "colab": {
          "base_uri": "https://localhost:8080/"
        },
        "outputId": "07df7ea5-5ae4-406d-dbea-e4fd83f5c5f6"
      },
      "execution_count": 45,
      "outputs": [
        {
          "output_type": "stream",
          "name": "stdout",
          "text": [
            "Epoch 1 | step: 198/198\n",
            "> Training Loss: 1.4673225070962954 | Training Accuracy: 57.44%\n",
            "> Validation Loss: 1.4673225070962954 | Validation Accuracy: 21.52%\n",
            "Epoch 2 | step: 198/198\n",
            "> Training Loss: 1.4650502228856686 | Training Accuracy: 57.53%\n",
            "> Validation Loss: 1.4650502228856686 | Validation Accuracy: 21.06%\n",
            "Epoch 3 | step: 198/198\n",
            "> Training Loss: 1.463600418675485 | Training Accuracy: 57.39%\n",
            "> Validation Loss: 1.463600418675485 | Validation Accuracy: 21.14%\n",
            "Epoch 4 | step: 198/198\n",
            "> Training Loss: 1.4621556284439623 | Training Accuracy: 57.59%\n",
            "> Validation Loss: 1.4621556284439623 | Validation Accuracy: 21.45%\n",
            "Epoch 5 | step: 198/198\n",
            "> Training Loss: 1.4608959462774458 | Training Accuracy: 57.8%\n",
            "> Validation Loss: 1.4608959462774458 | Validation Accuracy: 21.15%\n",
            "Epoch 6 | step: 198/198\n",
            "> Training Loss: 1.4589293074967273 | Training Accuracy: 58.28%\n",
            "> Validation Loss: 1.4589293074967273 | Validation Accuracy: 20.73%\n",
            "Epoch 7 | step: 198/198\n",
            "> Training Loss: 1.4590940169952622 | Training Accuracy: 57.84%\n",
            "> Validation Loss: 1.4590940169952622 | Validation Accuracy: 21.22%\n",
            "Epoch 8 | step: 198/198\n",
            "> Training Loss: 1.457646826403824 | Training Accuracy: 58.14%\n",
            "> Validation Loss: 1.457646826403824 | Validation Accuracy: 21.01%\n",
            "Epoch 9 | step: 198/198\n",
            "> Training Loss: 1.4569537939138748 | Training Accuracy: 58.16%\n",
            "> Validation Loss: 1.4569537939138748 | Validation Accuracy: 21.47%\n",
            "Epoch 10 | step: 198/198\n",
            "> Training Loss: 1.4584103199704808 | Training Accuracy: 58.02%\n",
            "> Validation Loss: 1.4584103199704808 | Validation Accuracy: 21.15%\n",
            "Epoch 11 | step: 198/198\n",
            "> Training Loss: 1.4578406091910512 | Training Accuracy: 58.15%\n",
            "> Validation Loss: 1.4578406091910512 | Validation Accuracy: 21.25%\n",
            "Epoch 12 | step: 198/198\n",
            "> Training Loss: 1.4596424360371114 | Training Accuracy: 58.02%\n",
            "> Validation Loss: 1.4596424360371114 | Validation Accuracy: 21.25%\n",
            "Epoch 13 | step: 198/198\n",
            "> Training Loss: 1.4576098104218143 | Training Accuracy: 57.83%\n",
            "> Validation Loss: 1.4576098104218143 | Validation Accuracy: 21.39%\n",
            "Epoch 14 | step: 198/198\n",
            "> Training Loss: 1.4588557931046988 | Training Accuracy: 57.83%\n",
            "> Validation Loss: 1.4588557931046988 | Validation Accuracy: 20.78%\n",
            "Epoch 15 | step: 198/198\n",
            "> Training Loss: 1.4570244005577049 | Training Accuracy: 57.8%\n",
            "> Validation Loss: 1.4570244005577049 | Validation Accuracy: 21.42%\n",
            "Epoch 16 | step: 198/198\n",
            "> Training Loss: 1.456674487147499 | Training Accuracy: 57.83%\n",
            "> Validation Loss: 1.456674487147499 | Validation Accuracy: 21.44%\n",
            "Epoch 17 | step: 198/198\n",
            "> Training Loss: 1.4560699181341046 | Training Accuracy: 57.93%\n",
            "> Validation Loss: 1.4560699181341046 | Validation Accuracy: 21.68%\n",
            "Epoch 18 | step: 198/198\n",
            "> Training Loss: 1.4574563317562468 | Training Accuracy: 58.04%\n",
            "> Validation Loss: 1.4574563317562468 | Validation Accuracy: 21.16%\n",
            "Epoch 19 | step: 198/198\n",
            "> Training Loss: 1.4566200863775896 | Training Accuracy: 58.16%\n",
            "> Validation Loss: 1.4566200863775896 | Validation Accuracy: 21.02%\n",
            "Epoch 20 | step: 198/198\n",
            "> Training Loss: 1.4570016273901092 | Training Accuracy: 58.3%\n",
            "> Validation Loss: 1.4570016273901092 | Validation Accuracy: 21.14%\n",
            "Epoch 21 | step: 198/198\n",
            "> Training Loss: 1.4597973565959452 | Training Accuracy: 57.79%\n",
            "> Validation Loss: 1.4597973565959452 | Validation Accuracy: 21.28%\n",
            "Epoch 22 | step: 198/198\n",
            "> Training Loss: 1.460654861962975 | Training Accuracy: 58.23%\n",
            "> Validation Loss: 1.460654861962975 | Validation Accuracy: 21.02%\n",
            "Epoch 23 | step: 198/198\n",
            "> Training Loss: 1.4601407404521003 | Training Accuracy: 58.35%\n",
            "> Validation Loss: 1.4601407404521003 | Validation Accuracy: 21.34%\n",
            "Epoch 24 | step: 198/198\n",
            "> Training Loss: 1.4574235575882035 | Training Accuracy: 57.8%\n",
            "> Validation Loss: 1.4574235575882035 | Validation Accuracy: 21.29%\n",
            "Epoch 25 | step: 198/198\n",
            "> Training Loss: 1.4575121133171733 | Training Accuracy: 58.09%\n",
            "> Validation Loss: 1.4575121133171733 | Validation Accuracy: 21.29%\n",
            "Epoch 26 | step: 198/198\n",
            "> Training Loss: 1.4570087458021077 | Training Accuracy: 57.76%\n",
            "> Validation Loss: 1.4570087458021077 | Validation Accuracy: 21.35%\n",
            "Epoch 27 | step: 198/198\n",
            "> Training Loss: 1.45431575164124 | Training Accuracy: 58.16%\n",
            "> Validation Loss: 1.45431575164124 | Validation Accuracy: 21.12%\n",
            "Epoch 28 | step: 198/198\n",
            "> Training Loss: 1.456272182153098 | Training Accuracy: 58.09%\n",
            "> Validation Loss: 1.456272182153098 | Validation Accuracy: 21.19%\n",
            "Epoch 29 | step: 198/198\n",
            "> Training Loss: 1.458228562345457 | Training Accuracy: 58.12%\n",
            "> Validation Loss: 1.458228562345457 | Validation Accuracy: 21.21%\n",
            "Epoch 30 | step: 198/198\n",
            "> Training Loss: 1.4544623071823888 | Training Accuracy: 57.87%\n",
            "> Validation Loss: 1.4544623071823888 | Validation Accuracy: 21.52%\n",
            "Epoch 31 | step: 198/198\n",
            "> Training Loss: 1.4574684539631984 | Training Accuracy: 57.69%\n",
            "> Validation Loss: 1.4574684539631984 | Validation Accuracy: 21.75%\n",
            "Epoch 32 | step: 198/198\n",
            "> Training Loss: 1.4563792201142813 | Training Accuracy: 58.12%\n",
            "> Validation Loss: 1.4563792201142813 | Validation Accuracy: 21.12%\n",
            "Epoch 33 | step: 198/198\n",
            "> Training Loss: 1.4561428826058929 | Training Accuracy: 58.31%\n",
            "> Validation Loss: 1.4561428826058929 | Validation Accuracy: 21.34%\n",
            "Epoch 34 | step: 198/198\n",
            "> Training Loss: 1.4576692635090507 | Training Accuracy: 58.02%\n",
            "> Validation Loss: 1.4576692635090507 | Validation Accuracy: 20.98%\n",
            "Epoch 35 | step: 198/198\n",
            "> Training Loss: 1.4560737220486204 | Training Accuracy: 58.31%\n",
            "> Validation Loss: 1.4560737220486204 | Validation Accuracy: 20.95%\n",
            "Epoch 36 | step: 198/198\n",
            "> Training Loss: 1.4601397370573264 | Training Accuracy: 57.98%\n",
            "> Validation Loss: 1.4601397370573264 | Validation Accuracy: 20.98%\n",
            "Epoch 37 | step: 198/198\n",
            "> Training Loss: 1.4590496621539246 | Training Accuracy: 57.91%\n",
            "> Validation Loss: 1.4590496621539246 | Validation Accuracy: 21.11%\n",
            "Epoch 38 | step: 198/198\n",
            "> Training Loss: 1.4556362790678015 | Training Accuracy: 58.26%\n",
            "> Validation Loss: 1.4556362790678015 | Validation Accuracy: 21.42%\n",
            "Epoch 39 | step: 198/198\n",
            "> Training Loss: 1.4576298166160009 | Training Accuracy: 58.07%\n",
            "> Validation Loss: 1.4576298166160009 | Validation Accuracy: 21.48%\n",
            "Epoch 40 | step: 198/198\n",
            "> Training Loss: 1.4585902583059953 | Training Accuracy: 58.24%\n",
            "> Validation Loss: 1.4585902583059953 | Validation Accuracy: 21.41%\n",
            "Epoch 41 | step: 198/198\n",
            "> Training Loss: 1.455698166660328 | Training Accuracy: 57.92%\n",
            "> Validation Loss: 1.455698166660328 | Validation Accuracy: 21.21%\n",
            "Epoch 42 | step: 198/198\n",
            "> Training Loss: 1.458337081137614 | Training Accuracy: 57.95%\n",
            "> Validation Loss: 1.458337081137614 | Validation Accuracy: 21.62%\n",
            "Epoch 43 | step: 198/198\n",
            "> Training Loss: 1.4571613067358582 | Training Accuracy: 57.9%\n",
            "> Validation Loss: 1.4571613067358582 | Validation Accuracy: 21.38%\n",
            "Epoch 44 | step: 198/198\n",
            "> Training Loss: 1.4554710963263584 | Training Accuracy: 58.19%\n",
            "> Validation Loss: 1.4554710963263584 | Validation Accuracy: 20.99%\n",
            "Epoch 45 | step: 198/198\n",
            "> Training Loss: 1.4598749330894432 | Training Accuracy: 57.95%\n",
            "> Validation Loss: 1.4598749330894432 | Validation Accuracy: 21.28%\n",
            "Epoch 46 | step: 198/198\n",
            "> Training Loss: 1.4550612062665087 | Training Accuracy: 57.87%\n",
            "> Validation Loss: 1.4550612062665087 | Validation Accuracy: 21.41%\n",
            "Epoch 47 | step: 198/198\n",
            "> Training Loss: 1.457570486332304 | Training Accuracy: 58.33%\n",
            "> Validation Loss: 1.457570486332304 | Validation Accuracy: 21.11%\n",
            "Epoch 48 | step: 198/198\n",
            "> Training Loss: 1.4564337856206462 | Training Accuracy: 57.83%\n",
            "> Validation Loss: 1.4564337856206462 | Validation Accuracy: 21.29%\n",
            "Epoch 49 | step: 198/198\n",
            "> Training Loss: 1.456255104074526 | Training Accuracy: 57.78%\n",
            "> Validation Loss: 1.456255104074526 | Validation Accuracy: 21.74%\n",
            "Epoch 50 | step: 198/198\n",
            "> Training Loss: 1.4549682152331176 | Training Accuracy: 58.2%\n",
            "> Validation Loss: 1.4549682152331176 | Validation Accuracy: 21.16%\n",
            "Epoch 51 | step: 198/198\n",
            "> Training Loss: 1.455485727918807 | Training Accuracy: 57.75%\n",
            "> Validation Loss: 1.455485727918807 | Validation Accuracy: 21.15%\n",
            "Epoch 52 | step: 198/198\n",
            "> Training Loss: 1.453599189993125 | Training Accuracy: 57.99%\n",
            "> Validation Loss: 1.453599189993125 | Validation Accuracy: 21.32%\n",
            "Epoch 53 | step: 198/198\n",
            "> Training Loss: 1.4565016959779826 | Training Accuracy: 58.1%\n",
            "> Validation Loss: 1.4565016959779826 | Validation Accuracy: 21.12%\n",
            "Epoch 54 | step: 198/198\n",
            "> Training Loss: 1.456334171582706 | Training Accuracy: 58.4%\n",
            "> Validation Loss: 1.456334171582706 | Validation Accuracy: 21.5%\n",
            "Epoch 55 | step: 198/198\n",
            "> Training Loss: 1.4579404874063617 | Training Accuracy: 58.02%\n",
            "> Validation Loss: 1.4579404874063617 | Validation Accuracy: 21.31%\n",
            "Epoch 56 | step: 198/198\n",
            "> Training Loss: 1.4524717870070107 | Training Accuracy: 57.96%\n",
            "> Validation Loss: 1.4524717870070107 | Validation Accuracy: 20.96%\n",
            "Epoch 57 | step: 198/198\n",
            "> Training Loss: 1.4590889538951854 | Training Accuracy: 57.97%\n",
            "> Validation Loss: 1.4590889538951854 | Validation Accuracy: 20.72%\n",
            "Epoch 58 | step: 198/198\n",
            "> Training Loss: 1.454880740175295 | Training Accuracy: 58.03%\n",
            "> Validation Loss: 1.454880740175295 | Validation Accuracy: 21.21%\n",
            "Epoch 59 | step: 198/198\n",
            "> Training Loss: 1.4573566500265993 | Training Accuracy: 58.15%\n",
            "> Validation Loss: 1.4573566500265993 | Validation Accuracy: 21.06%\n",
            "Epoch 60 | step: 198/198\n",
            "> Training Loss: 1.4572131753566877 | Training Accuracy: 57.7%\n",
            "> Validation Loss: 1.4572131753566877 | Validation Accuracy: 21.47%\n",
            "Epoch 61 | step: 198/198\n",
            "> Training Loss: 1.4569650954337576 | Training Accuracy: 57.66%\n",
            "> Validation Loss: 1.4569650954337576 | Validation Accuracy: 21.55%\n",
            "Epoch 62 | step: 198/198\n",
            "> Training Loss: 1.4565262980197542 | Training Accuracy: 58.07%\n",
            "> Validation Loss: 1.4565262980197542 | Validation Accuracy: 21.25%\n",
            "Epoch 63 | step: 198/198\n",
            "> Training Loss: 1.4600123849945452 | Training Accuracy: 58.21%\n",
            "> Validation Loss: 1.4600123849945452 | Validation Accuracy: 21.12%\n",
            "Epoch 64 | step: 198/198\n",
            "> Training Loss: 1.457584745919884 | Training Accuracy: 57.96%\n",
            "> Validation Loss: 1.457584745919884 | Validation Accuracy: 21.01%\n",
            "Epoch 65 | step: 198/198\n",
            "> Training Loss: 1.4588608238565264 | Training Accuracy: 58.35%\n",
            "> Validation Loss: 1.4588608238565264 | Validation Accuracy: 21.01%\n",
            "Epoch 66 | step: 198/198\n",
            "> Training Loss: 1.455929804686925 | Training Accuracy: 57.83%\n",
            "> Validation Loss: 1.455929804686925 | Validation Accuracy: 21.31%\n",
            "Epoch 67 | step: 198/198\n",
            "> Training Loss: 1.4575000540095957 | Training Accuracy: 58.2%\n",
            "> Validation Loss: 1.4575000540095957 | Validation Accuracy: 21.11%\n",
            "Epoch 68 | step: 198/198\n",
            "> Training Loss: 1.4547988997032895 | Training Accuracy: 58.07%\n",
            "> Validation Loss: 1.4547988997032895 | Validation Accuracy: 21.16%\n",
            "Epoch 69 | step: 198/198\n",
            "> Training Loss: 1.4596756720662716 | Training Accuracy: 57.88%\n",
            "> Validation Loss: 1.4596756720662716 | Validation Accuracy: 21.21%\n",
            "Epoch 70 | step: 198/198\n",
            "> Training Loss: 1.4577009905522793 | Training Accuracy: 58.08%\n",
            "> Validation Loss: 1.4577009905522793 | Validation Accuracy: 21.02%\n",
            "Epoch 71 | step: 198/198\n",
            "> Training Loss: 1.4554552822256808 | Training Accuracy: 58.14%\n",
            "> Validation Loss: 1.4554552822256808 | Validation Accuracy: 20.62%\n",
            "Epoch 72 | step: 198/198\n",
            "> Training Loss: 1.454539115105442 | Training Accuracy: 58.3%\n",
            "> Validation Loss: 1.454539115105442 | Validation Accuracy: 21.18%\n",
            "Epoch 73 | step: 198/198\n",
            "> Training Loss: 1.46002179174567 | Training Accuracy: 57.88%\n",
            "> Validation Loss: 1.46002179174567 | Validation Accuracy: 21.22%\n",
            "Epoch 74 | step: 198/198\n",
            "> Training Loss: 1.4557810680351067 | Training Accuracy: 57.88%\n",
            "> Validation Loss: 1.4557810680351067 | Validation Accuracy: 21.11%\n",
            "Epoch 75 | step: 198/198\n",
            "> Training Loss: 1.4557938186367552 | Training Accuracy: 58.22%\n",
            "> Validation Loss: 1.4557938186367552 | Validation Accuracy: 21.25%\n",
            "Epoch 76 | step: 198/198\n",
            "> Training Loss: 1.4583026739820164 | Training Accuracy: 57.83%\n",
            "> Validation Loss: 1.4583026739820164 | Validation Accuracy: 21.39%\n",
            "Epoch 77 | step: 198/198\n",
            "> Training Loss: 1.4573208477029849 | Training Accuracy: 58.36%\n",
            "> Validation Loss: 1.4573208477029849 | Validation Accuracy: 21.02%\n",
            "Epoch 78 | step: 198/198\n",
            "> Training Loss: 1.4551496691440218 | Training Accuracy: 58.04%\n",
            "> Validation Loss: 1.4551496691440218 | Validation Accuracy: 21.42%\n",
            "Epoch 79 | step: 198/198\n",
            "> Training Loss: 1.4566508273982524 | Training Accuracy: 58.05%\n",
            "> Validation Loss: 1.4566508273982524 | Validation Accuracy: 20.75%\n",
            "Epoch 80 | step: 198/198\n",
            "> Training Loss: 1.4574252534751317 | Training Accuracy: 57.82%\n",
            "> Validation Loss: 1.4574252534751317 | Validation Accuracy: 21.62%\n",
            "Finished Training\n",
            "CPU times: user 1h 41min 53s, sys: 2min 26s, total: 1h 44min 19s\n",
            "Wall time: 1h 45min 33s\n"
          ]
        }
      ]
    },
    {
      "cell_type": "code",
      "source": [
        "!pip install scikit-learn"
      ],
      "metadata": {
        "id": "4eQiBBnMsvKA",
        "colab": {
          "base_uri": "https://localhost:8080/"
        },
        "outputId": "2ea25b9a-bc2a-43a4-e004-e4a210e2e406"
      },
      "execution_count": 46,
      "outputs": [
        {
          "output_type": "stream",
          "name": "stdout",
          "text": [
            "Requirement already satisfied: scikit-learn in /usr/local/lib/python3.10/dist-packages (1.2.2)\n",
            "Requirement already satisfied: numpy>=1.17.3 in /usr/local/lib/python3.10/dist-packages (from scikit-learn) (1.23.5)\n",
            "Requirement already satisfied: scipy>=1.3.2 in /usr/local/lib/python3.10/dist-packages (from scikit-learn) (1.11.3)\n",
            "Requirement already satisfied: joblib>=1.1.1 in /usr/local/lib/python3.10/dist-packages (from scikit-learn) (1.3.2)\n",
            "Requirement already satisfied: threadpoolctl>=2.0.0 in /usr/local/lib/python3.10/dist-packages (from scikit-learn) (3.2.0)\n"
          ]
        }
      ]
    },
    {
      "cell_type": "code",
      "source": [
        "from sklearn.metrics import confusion_matrix\n",
        "import seaborn as sns\n",
        "import matplotlib.pyplot as plt\n",
        "\n",
        "cm = confusion_matrix(ground_truth, predictions)\n",
        "plt.figure(figsize=(10, 8))\n",
        "sns.heatmap(cm, annot=True, fmt=\"d\", cmap=\"Blues\", xticklabels=emotions, yticklabels=emotions)\n",
        "plt.xlabel(\"Predicted\")\n",
        "plt.ylabel(\"True\")\n",
        "plt.title(\"Confusion Matrix\")\n",
        "plt.show()\n"
      ],
      "metadata": {
        "id": "Qi3-uR2psyn-",
        "colab": {
          "base_uri": "https://localhost:8080/",
          "height": 718
        },
        "outputId": "c2d8fdc2-7877-4cd0-e5ce-e44330c6ea4f"
      },
      "execution_count": 47,
      "outputs": [
        {
          "output_type": "display_data",
          "data": {
            "text/plain": [
              "<Figure size 1000x800 with 2 Axes>"
            ],
            "image/png": "[encoded data removed]"
          },
          "metadata": {}
        }
      ]
    },
    {
      "cell_type": "code",
      "source": [
        "import timm\n",
        "from torch import nn\n",
        "\n",
        "\n",
        "class FaceModel(nn.Module):\n",
        "    def __init__(self):\n",
        "        super(FaceModel,self).__init__()\n",
        "        self.eff_net = timm.create_model('resnet34',pretrained = True,num_classes = 7)\n",
        "    def forward(self,images,labels = None):\n",
        "        logits = self.eff_net(images)\n",
        "        if labels != None:\n",
        "            loss = nn.CrossEntropyLoss()(logits,labels)\n",
        "            return logits,loss\n",
        "        return logits\n",
        "\n",
        "modelo = FaceModel()"
      ],
      "metadata": {
        "id": "UJKEZKlSMUHs"
      },
      "execution_count": null,
      "outputs": []
    },
    {
      "cell_type": "code",
      "source": [
        "%%time\n",
        "import torch.optim as optim\n",
        "import tensorflow as tf\n",
        "from torch.optim.lr_scheduler import StepLR\n",
        "\n",
        "\n",
        "\n",
        "# Función de pérdida y optimizador\n",
        "criterion = nn.CrossEntropyLoss()\n",
        "optimizer = optim.Adam(modelo.parameters(), lr=0.0001, weight_decay=1e-5)\n",
        "\n",
        "# Define el scheduler\n",
        "scheduler = StepLR(optimizer, step_size=5, gamma=0.1)\n",
        "\n",
        "epochs = 80\n",
        "\n",
        "# Entrenamiento\n",
        "for epoch in range(epochs):\n",
        "    running_loss = 0.0\n",
        "    for i, data in enumerate(train_loader, 0):\n",
        "        inputs, labels = data\n",
        "        inputs = inputs.to(device)\n",
        "        labels = labels.to(device)\n",
        "\n",
        "        optimizer.zero_grad()\n",
        "        outputs = modelo(inputs)\n",
        "        loss = criterion(outputs, labels)\n",
        "        loss.backward()\n",
        "        optimizer.step()\n",
        "        running_loss += loss.item()\n",
        "        print(f'\\rEpoch {epoch+1} | step: {i}/{len(train_loader)-1}', end='')\n",
        "\n",
        "    scheduler.step()\n",
        "    # Evaluación en el conjunto de prueba\n",
        "    with torch.no_grad():\n",
        "        correct = 0\n",
        "        total = 0\n",
        "        predictions = []\n",
        "        ground_truth = []\n",
        "\n",
        "        for data in train_loader:\n",
        "            inputs, labels = data\n",
        "            inputs = inputs.to(device)\n",
        "            labels = labels.to(device)\n",
        "\n",
        "            outputs = modelo(inputs)\n",
        "            _, predicted = torch.max(outputs.data, 1)\n",
        "            total += labels.size(0)\n",
        "            correct += (predicted == labels).sum().item()\n",
        "\n",
        "        print(f'\\n> Training Loss: {running_loss / len(train_loader)} | Training Accuracy: {round(100 * correct / total, 2)}%')\n",
        "        correct = 0\n",
        "        total = 0\n",
        "\n",
        "        for data in validation_loader:\n",
        "            inputs, labels = data\n",
        "            inputs = inputs.to(device)\n",
        "            labels = labels.to(device)\n",
        "\n",
        "            outputs = modelo(inputs)\n",
        "            _, predicted = torch.max(outputs.data, 1)\n",
        "            total += labels.size(0)\n",
        "            correct += (predicted == labels).sum().item()\n",
        "\n",
        "            predictions.extend(predicted.cpu().numpy())\n",
        "            ground_truth.extend(labels.cpu().numpy())\n",
        "\n",
        "        print(f'> Validation Loss: {running_loss / len(train_loader)} | Validation Accuracy: {round(100 * correct / total, 2)}%')\n",
        "\n",
        "print('Finished Training')"
      ],
      "metadata": {
        "id": "JSQzrH2GMWvz"
      },
      "execution_count": null,
      "outputs": []
    },
    {
      "cell_type": "code",
      "source": [
        "import pickle\n",
        "\n",
        "model_filename = \"model.pkl\"\n",
        "\n",
        "with open(model_filename, 'wb') as model_file:\n",
        "    pickle.dump(modelo, model_file)\n"
      ],
      "metadata": {
        "id": "hqoncgFQXC_d"
      },
      "execution_count": 48,
      "outputs": []
    },
    {
      "cell_type": "code",
      "source": [
        "import matplotlib.pyplot as plt\n",
        "\n",
        "def plot_results(history):\n",
        "    acc = history.history['accuracy']\n",
        "    val_acc = history.history['val_accuracy']\n",
        "    loss = history.history['loss']\n",
        "    val_loss = history.history['val_loss']\n",
        "\n",
        "    epochs = range(1, len(acc) + 1)\n",
        "\n",
        "    plt.figure(figsize = (24, 6))\n",
        "    plt.subplot(1,2,1)\n",
        "    plt.plot(epochs, acc, 'b', label = 'Training Accuracy')\n",
        "    plt.plot(epochs, val_acc, 'r', label = 'Validation Accuracy')\n",
        "    plt.grid(True)\n",
        "    plt.legend()\n",
        "    plt.xlabel('Epoch')\n",
        "\n",
        "\n",
        "\n",
        "    plt.subplot(1,2,2)\n",
        "    plt.plot(epochs, loss, 'b', label = 'Training Loss')\n",
        "    plt.plot(epochs, val_loss, 'r', label = 'Validation Loss')\n",
        "    plt.grid(True)\n",
        "    plt.legend()\n",
        "    plt.xlabel('Epoch')\n",
        "    plt.show()\n",
        "\n",
        "def get_best_epcoh(history):\n",
        "    valid_acc = history.history['val_accuracy']\n",
        "    best_epoch = valid_acc.index(max(valid_acc)) + 1\n",
        "    best_acc =  max(valid_acc)\n",
        "    print('Best Validation Accuracy Score {:0.5f}, is for epoch {}'.format( best_acc, best_epoch))\n",
        "    return best_epoch"
      ],
      "metadata": {
        "id": "FxgZJ2mcZd2f"
      },
      "execution_count": 49,
      "outputs": []
    },
    {
      "cell_type": "code",
      "source": [
        "plot_results(history)\n",
        "best_epoch =get_best_epcoh(history)"
      ],
      "metadata": {
        "id": "YK7Mo-uhZhSZ",
        "colab": {
          "base_uri": "https://localhost:8080/",
          "height": 194
        },
        "outputId": "76322478-0810-4204-806e-8618d343743f"
      },
      "execution_count": 50,
      "outputs": [
        {
          "output_type": "error",
          "ename": "NameError",
          "evalue": "ignored",
          "traceback": [
            "\u001b[0;31m---------------------------------------------------------------------------\u001b[0m",
            "\u001b[0;31mNameError\u001b[0m                                 Traceback (most recent call last)",
            "\u001b[0;32m<ipython-input-50-9cde630cf57a>\u001b[0m in \u001b[0;36m<cell line: 1>\u001b[0;34m()\u001b[0m\n\u001b[0;32m----> 1\u001b[0;31m \u001b[0mplot_results\u001b[0m\u001b[0;34m(\u001b[0m\u001b[0mhistory\u001b[0m\u001b[0;34m)\u001b[0m\u001b[0;34m\u001b[0m\u001b[0;34m\u001b[0m\u001b[0m\n\u001b[0m\u001b[1;32m      2\u001b[0m \u001b[0mbest_epoch\u001b[0m \u001b[0;34m=\u001b[0m\u001b[0mget_best_epcoh\u001b[0m\u001b[0;34m(\u001b[0m\u001b[0mhistory\u001b[0m\u001b[0;34m)\u001b[0m\u001b[0;34m\u001b[0m\u001b[0;34m\u001b[0m\u001b[0m\n",
            "\u001b[0;31mNameError\u001b[0m: name 'history' is not defined"
          ]
        }
      ]
    }
  ]
}
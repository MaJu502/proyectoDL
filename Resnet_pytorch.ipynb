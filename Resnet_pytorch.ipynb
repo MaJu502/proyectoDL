{
  "nbformat": 4,
  "nbformat_minor": 0,
  "metadata": {
    "colab": {
      "provenance": [],
      "gpuType": "T4",
      "include_colab_link": true
    },
    "kernelspec": {
      "name": "python3",
      "display_name": "Python 3"
    },
    "language_info": {
      "name": "python"
    },
    "accelerator": "GPU",
    "widgets": {
      "application/vnd.jupyter.widget-state+json": {
        "c7973b1759064aedb82cc83aeae2b8d4": {
          "model_module": "@jupyter-widgets/controls",
          "model_name": "HBoxModel",
          "model_module_version": "1.5.0",
          "state": {
            "_dom_classes": [],
            "_model_module": "@jupyter-widgets/controls",
            "_model_module_version": "1.5.0",
            "_model_name": "HBoxModel",
            "_view_count": null,
            "_view_module": "@jupyter-widgets/controls",
            "_view_module_version": "1.5.0",
            "_view_name": "HBoxView",
            "box_style": "",
            "children": [
              "IPY_MODEL_e922574c3de34917bd357fe6bcb9425d",
              "IPY_MODEL_40800478225f4944a734d388d6be116e",
              "IPY_MODEL_616e7e40c0a5474e88241f98cb612604"
            ],
            "layout": "IPY_MODEL_ffce4c542ea24cd7b1915b37c2e5bee3"
          }
        },
        "e922574c3de34917bd357fe6bcb9425d": {
          "model_module": "@jupyter-widgets/controls",
          "model_name": "HTMLModel",
          "model_module_version": "1.5.0",
          "state": {
            "_dom_classes": [],
            "_model_module": "@jupyter-widgets/controls",
            "_model_module_version": "1.5.0",
            "_model_name": "HTMLModel",
            "_view_count": null,
            "_view_module": "@jupyter-widgets/controls",
            "_view_module_version": "1.5.0",
            "_view_name": "HTMLView",
            "description": "",
            "description_tooltip": null,
            "layout": "IPY_MODEL_e8980c12070b4b378e8adeb57af4e1f9",
            "placeholder": "​",
            "style": "IPY_MODEL_5484dbfb620e46c6ae4666b7821e3656",
            "value": "model.safetensors: 100%"
          }
        },
        "40800478225f4944a734d388d6be116e": {
          "model_module": "@jupyter-widgets/controls",
          "model_name": "FloatProgressModel",
          "model_module_version": "1.5.0",
          "state": {
            "_dom_classes": [],
            "_model_module": "@jupyter-widgets/controls",
            "_model_module_version": "1.5.0",
            "_model_name": "FloatProgressModel",
            "_view_count": null,
            "_view_module": "@jupyter-widgets/controls",
            "_view_module_version": "1.5.0",
            "_view_name": "ProgressView",
            "bar_style": "success",
            "description": "",
            "description_tooltip": null,
            "layout": "IPY_MODEL_914d5e9a3a574c6197db189ac3b4c350",
            "max": 87278522,
            "min": 0,
            "orientation": "horizontal",
            "style": "IPY_MODEL_819c7eac29ce4b4c92643dbe2e5c4e3a",
            "value": 87278522
          }
        },
        "616e7e40c0a5474e88241f98cb612604": {
          "model_module": "@jupyter-widgets/controls",
          "model_name": "HTMLModel",
          "model_module_version": "1.5.0",
          "state": {
            "_dom_classes": [],
            "_model_module": "@jupyter-widgets/controls",
            "_model_module_version": "1.5.0",
            "_model_name": "HTMLModel",
            "_view_count": null,
            "_view_module": "@jupyter-widgets/controls",
            "_view_module_version": "1.5.0",
            "_view_name": "HTMLView",
            "description": "",
            "description_tooltip": null,
            "layout": "IPY_MODEL_fc819841cfaf4a7dbfb580187b84b1b9",
            "placeholder": "​",
            "style": "IPY_MODEL_4e9893f2cf044c7f9fba36b98dd733f7",
            "value": " 87.3M/87.3M [00:00&lt;00:00, 113MB/s]"
          }
        },
        "ffce4c542ea24cd7b1915b37c2e5bee3": {
          "model_module": "@jupyter-widgets/base",
          "model_name": "LayoutModel",
          "model_module_version": "1.2.0",
          "state": {
            "_model_module": "@jupyter-widgets/base",
            "_model_module_version": "1.2.0",
            "_model_name": "LayoutModel",
            "_view_count": null,
            "_view_module": "@jupyter-widgets/base",
            "_view_module_version": "1.2.0",
            "_view_name": "LayoutView",
            "align_content": null,
            "align_items": null,
            "align_self": null,
            "border": null,
            "bottom": null,
            "display": null,
            "flex": null,
            "flex_flow": null,
            "grid_area": null,
            "grid_auto_columns": null,
            "grid_auto_flow": null,
            "grid_auto_rows": null,
            "grid_column": null,
            "grid_gap": null,
            "grid_row": null,
            "grid_template_areas": null,
            "grid_template_columns": null,
            "grid_template_rows": null,
            "height": null,
            "justify_content": null,
            "justify_items": null,
            "left": null,
            "margin": null,
            "max_height": null,
            "max_width": null,
            "min_height": null,
            "min_width": null,
            "object_fit": null,
            "object_position": null,
            "order": null,
            "overflow": null,
            "overflow_x": null,
            "overflow_y": null,
            "padding": null,
            "right": null,
            "top": null,
            "visibility": null,
            "width": null
          }
        },
        "e8980c12070b4b378e8adeb57af4e1f9": {
          "model_module": "@jupyter-widgets/base",
          "model_name": "LayoutModel",
          "model_module_version": "1.2.0",
          "state": {
            "_model_module": "@jupyter-widgets/base",
            "_model_module_version": "1.2.0",
            "_model_name": "LayoutModel",
            "_view_count": null,
            "_view_module": "@jupyter-widgets/base",
            "_view_module_version": "1.2.0",
            "_view_name": "LayoutView",
            "align_content": null,
            "align_items": null,
            "align_self": null,
            "border": null,
            "bottom": null,
            "display": null,
            "flex": null,
            "flex_flow": null,
            "grid_area": null,
            "grid_auto_columns": null,
            "grid_auto_flow": null,
            "grid_auto_rows": null,
            "grid_column": null,
            "grid_gap": null,
            "grid_row": null,
            "grid_template_areas": null,
            "grid_template_columns": null,
            "grid_template_rows": null,
            "height": null,
            "justify_content": null,
            "justify_items": null,
            "left": null,
            "margin": null,
            "max_height": null,
            "max_width": null,
            "min_height": null,
            "min_width": null,
            "object_fit": null,
            "object_position": null,
            "order": null,
            "overflow": null,
            "overflow_x": null,
            "overflow_y": null,
            "padding": null,
            "right": null,
            "top": null,
            "visibility": null,
            "width": null
          }
        },
        "5484dbfb620e46c6ae4666b7821e3656": {
          "model_module": "@jupyter-widgets/controls",
          "model_name": "DescriptionStyleModel",
          "model_module_version": "1.5.0",
          "state": {
            "_model_module": "@jupyter-widgets/controls",
            "_model_module_version": "1.5.0",
            "_model_name": "DescriptionStyleModel",
            "_view_count": null,
            "_view_module": "@jupyter-widgets/base",
            "_view_module_version": "1.2.0",
            "_view_name": "StyleView",
            "description_width": ""
          }
        },
        "914d5e9a3a574c6197db189ac3b4c350": {
          "model_module": "@jupyter-widgets/base",
          "model_name": "LayoutModel",
          "model_module_version": "1.2.0",
          "state": {
            "_model_module": "@jupyter-widgets/base",
            "_model_module_version": "1.2.0",
            "_model_name": "LayoutModel",
            "_view_count": null,
            "_view_module": "@jupyter-widgets/base",
            "_view_module_version": "1.2.0",
            "_view_name": "LayoutView",
            "align_content": null,
            "align_items": null,
            "align_self": null,
            "border": null,
            "bottom": null,
            "display": null,
            "flex": null,
            "flex_flow": null,
            "grid_area": null,
            "grid_auto_columns": null,
            "grid_auto_flow": null,
            "grid_auto_rows": null,
            "grid_column": null,
            "grid_gap": null,
            "grid_row": null,
            "grid_template_areas": null,
            "grid_template_columns": null,
            "grid_template_rows": null,
            "height": null,
            "justify_content": null,
            "justify_items": null,
            "left": null,
            "margin": null,
            "max_height": null,
            "max_width": null,
            "min_height": null,
            "min_width": null,
            "object_fit": null,
            "object_position": null,
            "order": null,
            "overflow": null,
            "overflow_x": null,
            "overflow_y": null,
            "padding": null,
            "right": null,
            "top": null,
            "visibility": null,
            "width": null
          }
        },
        "819c7eac29ce4b4c92643dbe2e5c4e3a": {
          "model_module": "@jupyter-widgets/controls",
          "model_name": "ProgressStyleModel",
          "model_module_version": "1.5.0",
          "state": {
            "_model_module": "@jupyter-widgets/controls",
            "_model_module_version": "1.5.0",
            "_model_name": "ProgressStyleModel",
            "_view_count": null,
            "_view_module": "@jupyter-widgets/base",
            "_view_module_version": "1.2.0",
            "_view_name": "StyleView",
            "bar_color": null,
            "description_width": ""
          }
        },
        "fc819841cfaf4a7dbfb580187b84b1b9": {
          "model_module": "@jupyter-widgets/base",
          "model_name": "LayoutModel",
          "model_module_version": "1.2.0",
          "state": {
            "_model_module": "@jupyter-widgets/base",
            "_model_module_version": "1.2.0",
            "_model_name": "LayoutModel",
            "_view_count": null,
            "_view_module": "@jupyter-widgets/base",
            "_view_module_version": "1.2.0",
            "_view_name": "LayoutView",
            "align_content": null,
            "align_items": null,
            "align_self": null,
            "border": null,
            "bottom": null,
            "display": null,
            "flex": null,
            "flex_flow": null,
            "grid_area": null,
            "grid_auto_columns": null,
            "grid_auto_flow": null,
            "grid_auto_rows": null,
            "grid_column": null,
            "grid_gap": null,
            "grid_row": null,
            "grid_template_areas": null,
            "grid_template_columns": null,
            "grid_template_rows": null,
            "height": null,
            "justify_content": null,
            "justify_items": null,
            "left": null,
            "margin": null,
            "max_height": null,
            "max_width": null,
            "min_height": null,
            "min_width": null,
            "object_fit": null,
            "object_position": null,
            "order": null,
            "overflow": null,
            "overflow_x": null,
            "overflow_y": null,
            "padding": null,
            "right": null,
            "top": null,
            "visibility": null,
            "width": null
          }
        },
        "4e9893f2cf044c7f9fba36b98dd733f7": {
          "model_module": "@jupyter-widgets/controls",
          "model_name": "DescriptionStyleModel",
          "model_module_version": "1.5.0",
          "state": {
            "_model_module": "@jupyter-widgets/controls",
            "_model_module_version": "1.5.0",
            "_model_name": "DescriptionStyleModel",
            "_view_count": null,
            "_view_module": "@jupyter-widgets/base",
            "_view_module_version": "1.2.0",
            "_view_name": "StyleView",
            "description_width": ""
          }
        }
      }
    }
  },
  "cells": [
    {
      "cell_type": "markdown",
      "metadata": {
        "id": "view-in-github",
        "colab_type": "text"
      },
      "source": [
        "<a href=\"https://colab.research.google.com/github/MaJu502/proyectoDL/blob/main/Resnet_pytorch.ipynb\" target=\"_parent\"><img src=\"https://colab.research.google.com/assets/colab-badge.svg\" alt=\"Open In Colab\"/></a>"
      ]
    },
    {
      "cell_type": "markdown",
      "source": [
        "#Proyecto Deep Learning\n",
        "- Diego Cordova 20212\n",
        "- Marco Jurado 20308\n",
        "- Cristian Aguirre 20231\n",
        "- Paola Contreras 20213\n",
        "- Paola de Leon 20361"
      ],
      "metadata": {
        "id": "dgU-QqmJU3ZV"
      }
    },
    {
      "cell_type": "markdown",
      "source": [
        "## Carga de Dataset"
      ],
      "metadata": {
        "id": "f-bUhYK_LJ5o"
      }
    },
    {
      "cell_type": "code",
      "source": [
        "!gdown 1BoNWFSXxtN74PgLcBxfGWyeKUOfevQEP"
      ],
      "metadata": {
        "id": "Lod5bJutyRzl",
        "outputId": "dbf9ca42-b929-40d9-8539-86cffa066047",
        "colab": {
          "base_uri": "https://localhost:8080/"
        }
      },
      "execution_count": 1,
      "outputs": [
        {
          "output_type": "stream",
          "name": "stdout",
          "text": [
            "Downloading...\n",
            "From: https://drive.google.com/uc?id=1BoNWFSXxtN74PgLcBxfGWyeKUOfevQEP\n",
            "To: /content/kaggle.json\n",
            "\r  0% 0.00/64.0 [00:00<?, ?B/s]\r100% 64.0/64.0 [00:00<00:00, 355kB/s]\n"
          ]
        }
      ]
    },
    {
      "cell_type": "code",
      "execution_count": 2,
      "metadata": {
        "id": "gT95QfnIUwXF",
        "outputId": "134bf22f-c774-45a1-ae83-ed6db25ab036",
        "colab": {
          "base_uri": "https://localhost:8080/"
        }
      },
      "outputs": [
        {
          "output_type": "stream",
          "name": "stdout",
          "text": [
            "Requirement already satisfied: kaggle in /usr/local/lib/python3.10/dist-packages (1.5.16)\n",
            "Requirement already satisfied: six>=1.10 in /usr/local/lib/python3.10/dist-packages (from kaggle) (1.16.0)\n",
            "Requirement already satisfied: certifi in /usr/local/lib/python3.10/dist-packages (from kaggle) (2023.7.22)\n",
            "Requirement already satisfied: python-dateutil in /usr/local/lib/python3.10/dist-packages (from kaggle) (2.8.2)\n",
            "Requirement already satisfied: requests in /usr/local/lib/python3.10/dist-packages (from kaggle) (2.31.0)\n",
            "Requirement already satisfied: tqdm in /usr/local/lib/python3.10/dist-packages (from kaggle) (4.66.1)\n",
            "Requirement already satisfied: python-slugify in /usr/local/lib/python3.10/dist-packages (from kaggle) (8.0.1)\n",
            "Requirement already satisfied: urllib3 in /usr/local/lib/python3.10/dist-packages (from kaggle) (2.0.7)\n",
            "Requirement already satisfied: bleach in /usr/local/lib/python3.10/dist-packages (from kaggle) (6.1.0)\n",
            "Requirement already satisfied: webencodings in /usr/local/lib/python3.10/dist-packages (from bleach->kaggle) (0.5.1)\n",
            "Requirement already satisfied: text-unidecode>=1.3 in /usr/local/lib/python3.10/dist-packages (from python-slugify->kaggle) (1.3)\n",
            "Requirement already satisfied: charset-normalizer<4,>=2 in /usr/local/lib/python3.10/dist-packages (from requests->kaggle) (3.3.2)\n",
            "Requirement already satisfied: idna<4,>=2.5 in /usr/local/lib/python3.10/dist-packages (from requests->kaggle) (3.4)\n"
          ]
        }
      ],
      "source": [
        "! pip install kaggle"
      ]
    },
    {
      "cell_type": "code",
      "source": [
        "!ls -a /root/"
      ],
      "metadata": {
        "id": "DGDK03s94jb4",
        "outputId": "3dab8626-2dc6-4f95-e911-c035ffdcdc5f",
        "colab": {
          "base_uri": "https://localhost:8080/"
        }
      },
      "execution_count": 3,
      "outputs": [
        {
          "output_type": "stream",
          "name": "stdout",
          "text": [
            ".   .bashrc  .config   .jupyter  .launchpadlib\t.npm\t  .tmux.conf\n",
            "..  .cache   .ipython  .keras\t .local\t\t.profile  .wget-hsts\n"
          ]
        }
      ]
    },
    {
      "cell_type": "code",
      "source": [
        "!mkdir /root/.kaggle/"
      ],
      "metadata": {
        "id": "7vR3i-e72KwA"
      },
      "execution_count": 4,
      "outputs": []
    },
    {
      "cell_type": "code",
      "source": [
        "!mv /content/kaggle.json /root/.kaggle/\n"
      ],
      "metadata": {
        "id": "maN5xtpp2aXZ"
      },
      "execution_count": 5,
      "outputs": []
    },
    {
      "cell_type": "code",
      "source": [
        "ls /root/.kaggle/\n"
      ],
      "metadata": {
        "id": "hGjouUlh2R15",
        "outputId": "d62ecb74-d020-44fb-e19f-9afad04e402a",
        "colab": {
          "base_uri": "https://localhost:8080/"
        }
      },
      "execution_count": 6,
      "outputs": [
        {
          "output_type": "stream",
          "name": "stdout",
          "text": [
            "kaggle.json\n"
          ]
        }
      ]
    },
    {
      "cell_type": "code",
      "source": [
        "!chmod 600 /root/.kaggle/kaggle.json"
      ],
      "metadata": {
        "id": "c7fOtUl25da6"
      },
      "execution_count": 7,
      "outputs": []
    },
    {
      "cell_type": "code",
      "source": [
        "!kaggle datasets download -d jonathanoheix/face-expression-recognition-dataset"
      ],
      "metadata": {
        "id": "zNYGBDhq5Rpb",
        "outputId": "11756384-c27e-47b2-c839-1e3b9035692c",
        "colab": {
          "base_uri": "https://localhost:8080/"
        }
      },
      "execution_count": 8,
      "outputs": [
        {
          "output_type": "stream",
          "name": "stdout",
          "text": [
            "Downloading face-expression-recognition-dataset.zip to /content\n",
            " 88% 106M/121M [00:00<00:00, 304MB/s] \n",
            "100% 121M/121M [00:00<00:00, 270MB/s]\n"
          ]
        }
      ]
    },
    {
      "cell_type": "code",
      "source": [
        "%cd /content\n",
        "!unzip -q face-expression-recognition-dataset.zip"
      ],
      "metadata": {
        "id": "E_hBnXDQANGJ",
        "outputId": "38b4236e-ec00-4019-9159-436276697f92",
        "colab": {
          "base_uri": "https://localhost:8080/"
        }
      },
      "execution_count": 9,
      "outputs": [
        {
          "output_type": "stream",
          "name": "stdout",
          "text": [
            "/content\n"
          ]
        }
      ]
    },
    {
      "cell_type": "markdown",
      "source": [
        "# Modelo"
      ],
      "metadata": {
        "id": "3RjamWOoxPnL"
      }
    },
    {
      "cell_type": "code",
      "source": [
        "import os\n",
        "import shutil\n",
        "\n",
        "# Ruta de la carpeta que deseas eliminar\n",
        "folder_path = './images/train/disgust'\n",
        "\n",
        "# Elimina todas las imágenes en la carpeta\n",
        "for file_name in os.listdir(folder_path):\n",
        "    file_path = os.path.join(folder_path, file_name)\n",
        "    try:\n",
        "        if os.path.isfile(file_path) or os.path.islink(file_path):\n",
        "            os.unlink(file_path)\n",
        "        elif os.path.isdir(file_path):\n",
        "            shutil.rmtree(file_path)\n",
        "    except Exception as e:\n",
        "        print(f'Error al eliminar {file_path}: {e}')\n",
        "\n",
        "# Elimina la carpeta misma\n",
        "try:\n",
        "    os.rmdir(folder_path)\n",
        "except Exception as e:\n",
        "    print(f'Error al eliminar la carpeta {folder_path}: {e}')\n"
      ],
      "metadata": {
        "id": "q0d4_grHk-m-"
      },
      "execution_count": 10,
      "outputs": []
    },
    {
      "cell_type": "code",
      "source": [
        "# Ruta de la carpeta que deseas eliminar\n",
        "folder_path = './images/validation/disgust'\n",
        "\n",
        "# Elimina todas las imágenes en la carpeta\n",
        "for file_name in os.listdir(folder_path):\n",
        "    file_path = os.path.join(folder_path, file_name)\n",
        "    try:\n",
        "        if os.path.isfile(file_path) or os.path.islink(file_path):\n",
        "            os.unlink(file_path)\n",
        "        elif os.path.isdir(file_path):\n",
        "            shutil.rmtree(file_path)\n",
        "    except Exception as e:\n",
        "        print(f'Error al eliminar {file_path}: {e}')\n",
        "\n",
        "# Elimina la carpeta misma\n",
        "try:\n",
        "    os.rmdir(folder_path)\n",
        "except Exception as e:\n",
        "    print(f'Error al eliminar la carpeta {folder_path}: {e}')"
      ],
      "metadata": {
        "id": "YRak5SVjsVOf"
      },
      "execution_count": 11,
      "outputs": []
    },
    {
      "cell_type": "code",
      "source": [
        "import os\n",
        "import random\n",
        "import shutil\n",
        "\n",
        "# Ruta de la carpeta que deseas modificar\n",
        "folder_path = './images/train/happy'\n",
        "\n",
        "# Lista de archivos en la carpeta\n",
        "file_list = os.listdir(folder_path)\n",
        "\n",
        "# Número de imágenes que deseas eliminar\n",
        "num_images_to_delete = 3000\n",
        "\n",
        "# Verifica si hay suficientes imágenes para eliminar\n",
        "if len(file_list) < num_images_to_delete:\n",
        "    print(f'No hay suficientes imágenes en {folder_path} para eliminar.')\n",
        "else:\n",
        "    # Selecciona aleatoriamente las imágenes que se eliminarán\n",
        "    images_to_delete = random.sample(file_list, num_images_to_delete)\n",
        "\n",
        "    # Elimina las imágenes seleccionadas\n",
        "    for file_name in images_to_delete:\n",
        "        file_path = os.path.join(folder_path, file_name)\n",
        "        try:\n",
        "            if os.path.isfile(file_path):\n",
        "                os.unlink(file_path)\n",
        "            elif os.path.isdir(file_path):\n",
        "                shutil.rmtree(file_path)\n",
        "        except Exception as e:\n",
        "            print(f'Error al eliminar {file_path}: {e}')\n",
        "\n",
        "    print(f'Se han eliminado {num_images_to_delete} imágenes de {folder_path}.')\n"
      ],
      "metadata": {
        "colab": {
          "base_uri": "https://localhost:8080/"
        },
        "id": "OeuMTV5av9QL",
        "outputId": "1ff64055-904a-4e7c-f158-d5f516530320"
      },
      "execution_count": 12,
      "outputs": [
        {
          "output_type": "stream",
          "name": "stdout",
          "text": [
            "Se han eliminado 3000 imágenes de ./images/train/happy.\n"
          ]
        }
      ]
    },
    {
      "cell_type": "code",
      "source": [
        "import cv2\n",
        "import os\n",
        "import numpy as np\n",
        "\n",
        "# Directorio raíz que contiene subdirectorios para cada emoción\n",
        "root_dir = './images/train/'\n",
        "\n",
        "# Lista de emociones\n",
        "emotions = ['angry', 'fear', 'happy', 'neutral', 'sad', 'surprise']\n",
        "\n",
        "# Inicializa un diccionario para almacenar shapes únicos por emoción\n",
        "unique_shapes_by_emotion = {emotion: [] for emotion in emotions}\n",
        "\n",
        "# Itera a través de las carpetas de emociones\n",
        "for emotion in emotions:\n",
        "    emotion_dir = os.path.join(root_dir, emotion)\n",
        "    image_files = os.listdir(emotion_dir)\n",
        "\n",
        "    # Itera a través de los archivos de imágenes en cada carpeta de emoción\n",
        "    for image_file in image_files:\n",
        "        image_path = os.path.join(emotion_dir, image_file)\n",
        "        image = cv2.imread(image_path)\n",
        "        shape = image.shape\n",
        "        if shape not in unique_shapes_by_emotion[emotion]:\n",
        "            unique_shapes_by_emotion[emotion].append(shape)\n",
        "\n",
        "# Imprime los shapes únicos por emoción\n",
        "for emotion, shapes in unique_shapes_by_emotion.items():\n",
        "    print(f\"Shapes únicos para la emoción '{emotion}':\")\n",
        "    for shape in shapes:\n",
        "        print(shape)\n"
      ],
      "metadata": {
        "id": "M-eAUshpzJ4c",
        "colab": {
          "base_uri": "https://localhost:8080/"
        },
        "outputId": "d14cadeb-c294-4d5f-c66c-c36766380cb4"
      },
      "execution_count": 13,
      "outputs": [
        {
          "output_type": "stream",
          "name": "stdout",
          "text": [
            "Shapes únicos para la emoción 'angry':\n",
            "(48, 48, 3)\n",
            "Shapes únicos para la emoción 'fear':\n",
            "(48, 48, 3)\n",
            "Shapes únicos para la emoción 'happy':\n",
            "(48, 48, 3)\n",
            "Shapes únicos para la emoción 'neutral':\n",
            "(48, 48, 3)\n",
            "Shapes únicos para la emoción 'sad':\n",
            "(48, 48, 3)\n",
            "Shapes únicos para la emoción 'surprise':\n",
            "(48, 48, 3)\n"
          ]
        }
      ]
    },
    {
      "cell_type": "markdown",
      "source": [
        "## Loader para el Modelo"
      ],
      "metadata": {
        "id": "xvQrlBeFa4dT"
      }
    },
    {
      "cell_type": "code",
      "source": [
        "import torch\n",
        "from torchvision import datasets, transforms\n",
        "from torchvision.datasets import ImageFolder\n",
        "from torchvision import transforms as T\n",
        "\n",
        "batch_size = 128\n",
        "base_path = \"./images/\"\n",
        "\n",
        "train_augs = T.Compose([T.RandomHorizontalFlip(p = 0.5),T.RandomRotation(degrees = (-20,+20)),T.ToTensor()])\n",
        "#To tensor in pytorch converts image from numpy or PIL into pytorch tensors also it will convert (h,w,c)->(c,h,w)\n",
        "valid_augs = T.Compose([T.ToTensor()])\n",
        "\n",
        "\n",
        "# Crear conjuntos de datos\n",
        "train_dataset = ImageFolder(base_path + \"train\", transform =train_augs)\n",
        "validation_dataset = ImageFolder(base_path + \"validation\", transform =valid_augs)\n",
        "\n",
        "# Crear generadores de lotes (DataLoaders)\n",
        "trainloader = torch.utils.data.DataLoader(train_dataset,batch_size=batch_size,shuffle = True)\n",
        "validloader = torch.utils.data.DataLoader(validation_dataset,batch_size=batch_size)"
      ],
      "metadata": {
        "id": "XVgcJVpGL4vT"
      },
      "execution_count": 14,
      "outputs": []
    },
    {
      "cell_type": "markdown",
      "source": [
        "## Se preparan los datos para CUDA"
      ],
      "metadata": {
        "id": "S1PXnUjREYzE"
      }
    },
    {
      "cell_type": "markdown",
      "source": [
        "## Entreno del Modelo"
      ],
      "metadata": {
        "id": "aBGw_p2tcf6z"
      }
    },
    {
      "cell_type": "code",
      "source": [
        "!pip install scikit-learn"
      ],
      "metadata": {
        "id": "4eQiBBnMsvKA",
        "colab": {
          "base_uri": "https://localhost:8080/"
        },
        "outputId": "7ebb022f-ff24-487f-dc38-ea2b40beed57"
      },
      "execution_count": 15,
      "outputs": [
        {
          "output_type": "stream",
          "name": "stdout",
          "text": [
            "Requirement already satisfied: scikit-learn in /usr/local/lib/python3.10/dist-packages (1.2.2)\n",
            "Requirement already satisfied: numpy>=1.17.3 in /usr/local/lib/python3.10/dist-packages (from scikit-learn) (1.23.5)\n",
            "Requirement already satisfied: scipy>=1.3.2 in /usr/local/lib/python3.10/dist-packages (from scikit-learn) (1.11.3)\n",
            "Requirement already satisfied: joblib>=1.1.1 in /usr/local/lib/python3.10/dist-packages (from scikit-learn) (1.3.2)\n",
            "Requirement already satisfied: threadpoolctl>=2.0.0 in /usr/local/lib/python3.10/dist-packages (from scikit-learn) (3.2.0)\n"
          ]
        }
      ]
    },
    {
      "cell_type": "code",
      "source": [
        "!pip install timm"
      ],
      "metadata": {
        "colab": {
          "base_uri": "https://localhost:8080/"
        },
        "id": "8TmJK4FQRuf2",
        "outputId": "a46c75e4-8e96-4200-b84b-af60170e4f1b"
      },
      "execution_count": 16,
      "outputs": [
        {
          "output_type": "stream",
          "name": "stdout",
          "text": [
            "Collecting timm\n",
            "  Downloading timm-0.9.10-py3-none-any.whl (2.2 MB)\n",
            "\u001b[2K     \u001b[90m━━━━━━━━━━━━━━━━━━━━━━━━━━━━━━━━━━━━━━━━\u001b[0m \u001b[32m2.2/2.2 MB\u001b[0m \u001b[31m11.8 MB/s\u001b[0m eta \u001b[36m0:00:00\u001b[0m\n",
            "\u001b[?25hRequirement already satisfied: torch>=1.7 in /usr/local/lib/python3.10/dist-packages (from timm) (2.1.0+cu118)\n",
            "Requirement already satisfied: torchvision in /usr/local/lib/python3.10/dist-packages (from timm) (0.16.0+cu118)\n",
            "Requirement already satisfied: pyyaml in /usr/local/lib/python3.10/dist-packages (from timm) (6.0.1)\n",
            "Collecting huggingface-hub (from timm)\n",
            "  Downloading huggingface_hub-0.19.0-py3-none-any.whl (311 kB)\n",
            "\u001b[2K     \u001b[90m━━━━━━━━━━━━━━━━━━━━━━━━━━━━━━━━━━━━━━━━\u001b[0m \u001b[32m311.2/311.2 kB\u001b[0m \u001b[31m20.7 MB/s\u001b[0m eta \u001b[36m0:00:00\u001b[0m\n",
            "\u001b[?25hCollecting safetensors (from timm)\n",
            "  Downloading safetensors-0.4.0-cp310-cp310-manylinux_2_17_x86_64.manylinux2014_x86_64.whl (1.3 MB)\n",
            "\u001b[2K     \u001b[90m━━━━━━━━━━━━━━━━━━━━━━━━━━━━━━━━━━━━━━━━\u001b[0m \u001b[32m1.3/1.3 MB\u001b[0m \u001b[31m25.5 MB/s\u001b[0m eta \u001b[36m0:00:00\u001b[0m\n",
            "\u001b[?25hRequirement already satisfied: filelock in /usr/local/lib/python3.10/dist-packages (from torch>=1.7->timm) (3.13.1)\n",
            "Requirement already satisfied: typing-extensions in /usr/local/lib/python3.10/dist-packages (from torch>=1.7->timm) (4.5.0)\n",
            "Requirement already satisfied: sympy in /usr/local/lib/python3.10/dist-packages (from torch>=1.7->timm) (1.12)\n",
            "Requirement already satisfied: networkx in /usr/local/lib/python3.10/dist-packages (from torch>=1.7->timm) (3.2.1)\n",
            "Requirement already satisfied: jinja2 in /usr/local/lib/python3.10/dist-packages (from torch>=1.7->timm) (3.1.2)\n",
            "Requirement already satisfied: fsspec in /usr/local/lib/python3.10/dist-packages (from torch>=1.7->timm) (2023.6.0)\n",
            "Requirement already satisfied: triton==2.1.0 in /usr/local/lib/python3.10/dist-packages (from torch>=1.7->timm) (2.1.0)\n",
            "Requirement already satisfied: requests in /usr/local/lib/python3.10/dist-packages (from huggingface-hub->timm) (2.31.0)\n",
            "Requirement already satisfied: tqdm>=4.42.1 in /usr/local/lib/python3.10/dist-packages (from huggingface-hub->timm) (4.66.1)\n",
            "Requirement already satisfied: packaging>=20.9 in /usr/local/lib/python3.10/dist-packages (from huggingface-hub->timm) (23.2)\n",
            "Requirement already satisfied: numpy in /usr/local/lib/python3.10/dist-packages (from torchvision->timm) (1.23.5)\n",
            "Requirement already satisfied: pillow!=8.3.*,>=5.3.0 in /usr/local/lib/python3.10/dist-packages (from torchvision->timm) (9.4.0)\n",
            "Requirement already satisfied: MarkupSafe>=2.0 in /usr/local/lib/python3.10/dist-packages (from jinja2->torch>=1.7->timm) (2.1.3)\n",
            "Requirement already satisfied: charset-normalizer<4,>=2 in /usr/local/lib/python3.10/dist-packages (from requests->huggingface-hub->timm) (3.3.2)\n",
            "Requirement already satisfied: idna<4,>=2.5 in /usr/local/lib/python3.10/dist-packages (from requests->huggingface-hub->timm) (3.4)\n",
            "Requirement already satisfied: urllib3<3,>=1.21.1 in /usr/local/lib/python3.10/dist-packages (from requests->huggingface-hub->timm) (2.0.7)\n",
            "Requirement already satisfied: certifi>=2017.4.17 in /usr/local/lib/python3.10/dist-packages (from requests->huggingface-hub->timm) (2023.7.22)\n",
            "Requirement already satisfied: mpmath>=0.19 in /usr/local/lib/python3.10/dist-packages (from sympy->torch>=1.7->timm) (1.3.0)\n",
            "Installing collected packages: safetensors, huggingface-hub, timm\n",
            "Successfully installed huggingface-hub-0.19.0 safetensors-0.4.0 timm-0.9.10\n"
          ]
        }
      ]
    },
    {
      "cell_type": "code",
      "source": [
        "import timm\n",
        "from torch import nn\n",
        "\n",
        "class FaceModel(nn.Module):\n",
        "    def __init__(self):\n",
        "        super(FaceModel,self).__init__()\n",
        "        self.eff_net = timm.create_model('resnet34',pretrained = True,num_classes = 7)\n",
        "    def forward(self,images,labels = None):\n",
        "        logits = self.eff_net(images)\n",
        "        if labels != None:\n",
        "            loss = nn.CrossEntropyLoss()(logits,labels)\n",
        "            return logits,loss\n",
        "        return logits\n",
        "\n",
        "modelo = FaceModel()"
      ],
      "metadata": {
        "id": "UJKEZKlSMUHs",
        "colab": {
          "base_uri": "https://localhost:8080/",
          "height": 49,
          "referenced_widgets": [
            "c7973b1759064aedb82cc83aeae2b8d4",
            "e922574c3de34917bd357fe6bcb9425d",
            "40800478225f4944a734d388d6be116e",
            "616e7e40c0a5474e88241f98cb612604",
            "ffce4c542ea24cd7b1915b37c2e5bee3",
            "e8980c12070b4b378e8adeb57af4e1f9",
            "5484dbfb620e46c6ae4666b7821e3656",
            "914d5e9a3a574c6197db189ac3b4c350",
            "819c7eac29ce4b4c92643dbe2e5c4e3a",
            "fc819841cfaf4a7dbfb580187b84b1b9",
            "4e9893f2cf044c7f9fba36b98dd733f7"
          ]
        },
        "outputId": "0166dee2-6a4a-448b-afbe-145c9e830133"
      },
      "execution_count": 17,
      "outputs": [
        {
          "output_type": "display_data",
          "data": {
            "text/plain": [
              "model.safetensors:   0%|          | 0.00/87.3M [00:00<?, ?B/s]"
            ],
            "application/vnd.jupyter.widget-view+json": {
              "version_major": 2,
              "version_minor": 0,
              "model_id": "c7973b1759064aedb82cc83aeae2b8d4"
            }
          },
          "metadata": {}
        }
      ]
    },
    {
      "cell_type": "code",
      "source": [
        "device = ('cuda' if torch.cuda.is_available() else 'cpu')\n",
        "print(f\"Computation device: {device}\\n\")\n",
        "modelo = modelo.to(device)\n",
        "\n",
        "device_in_model = 'cpu' if False in [i.is_cuda for i in modelo.parameters()] else 'cuda'\n",
        "print('model using', device_in_model)"
      ],
      "metadata": {
        "colab": {
          "base_uri": "https://localhost:8080/"
        },
        "id": "kLbCJsysRavi",
        "outputId": "770d39a9-49f9-4851-968d-812f9714fbc0"
      },
      "execution_count": 18,
      "outputs": [
        {
          "output_type": "stream",
          "name": "stdout",
          "text": [
            "Computation device: cuda\n",
            "\n",
            "model using cuda\n"
          ]
        }
      ]
    },
    {
      "cell_type": "code",
      "source": [
        "def multiclass_accuracy(y_pred,y_true):\n",
        "    top_p,top_class = y_pred.topk(1,dim = 1)\n",
        "    equals = top_class == y_true.view(*top_class.shape)\n",
        "    return torch.mean(equals.type(torch.FloatTensor))"
      ],
      "metadata": {
        "id": "JHT_7XOGVMLQ"
      },
      "execution_count": 19,
      "outputs": []
    },
    {
      "cell_type": "code",
      "source": [
        "from tqdm import tqdm"
      ],
      "metadata": {
        "id": "65aqImLaV51m"
      },
      "execution_count": 20,
      "outputs": []
    },
    {
      "cell_type": "code",
      "source": [
        "epoch = 60\n",
        "\n",
        "\n",
        "def train_fn(model,dataloader,optimizer,current_epo):\n",
        "    model.train()\n",
        "    total_loss = 0.0\n",
        "    total_acc = 0.0\n",
        "    tk = tqdm(dataloader,desc = \"EPOCHS\" + \"[TRAIN]\" + str(current_epo+1) + \"/\"+ str(epoch))\n",
        "    for t,data in enumerate(tk):\n",
        "        images,labels = data\n",
        "        images,labels = images.to(device),labels.to(device)\n",
        "\n",
        "        optimizer.zero_grad()\n",
        "        logits,loss = model(images,labels)\n",
        "        loss.backward()\n",
        "        optimizer.step()\n",
        "        total_loss += loss.item()\n",
        "        total_acc += multiclass_accuracy(logits,labels)\n",
        "        tk.set_postfix({'loss':'%6f' %float(total_loss/(t+1)),'acc':'%6f' %float(total_acc/(t+1))})\n",
        "    return total_loss/len(dataloader),total_acc/len(dataloader)\n",
        "\n"
      ],
      "metadata": {
        "id": "6mWaSSEYVzys"
      },
      "execution_count": 21,
      "outputs": []
    },
    {
      "cell_type": "code",
      "source": [
        "\n",
        "\n",
        "def eval_fn(model,dataloader,current_epo):\n",
        "    model.eval()\n",
        "    total_loss = 0.0\n",
        "    total_acc = 0.0\n",
        "    tk = tqdm(dataloader,desc = \"EPOCH\" + \"[VALID]\" + str(current_epo + 1) + \"/\"+ str(epoch))\n",
        "    for t,data in enumerate(tk):\n",
        "        images,labels = data\n",
        "        images,labels = images.to(device),labels.to(device)\n",
        "\n",
        "\n",
        "        logits,loss = model(images,labels)\n",
        "\n",
        "        total_loss += loss.item()\n",
        "        total_acc += multiclass_accuracy(logits,labels)\n",
        "        tk.set_postfix({'loss':'%6f' %float(total_loss/(t+1)),'acc':'%6f' %float(total_acc/(t+1))})\n",
        "    return total_loss/len(dataloader),total_acc/len(dataloader)\n",
        "\n"
      ],
      "metadata": {
        "id": "paOB5s84V1L5"
      },
      "execution_count": 22,
      "outputs": []
    },
    {
      "cell_type": "code",
      "source": [
        "optimizer = torch.optim.Adam(modelo.parameters(),lr = 0.0001)"
      ],
      "metadata": {
        "id": "49Il8IwdV8YD"
      },
      "execution_count": 23,
      "outputs": []
    },
    {
      "cell_type": "code",
      "source": [
        "best_valid_loss= np.inf\n",
        "for i in range(epoch):\n",
        "    train_loss,train_acc = train_fn(modelo,trainloader,optimizer,i)\n",
        "    eval_loss,eval_acc = eval_fn(modelo,validloader,i)\n",
        "    if eval_loss < best_valid_loss:\n",
        "        torch.save(modelo.state_dict(),'best-weights.pt')\n",
        "        print(\"Saved Best Valid Loss\")\n",
        "        best_valid_loss = eval_loss"
      ],
      "metadata": {
        "colab": {
          "base_uri": "https://localhost:8080/"
        },
        "id": "Tfa_iwXmWAaV",
        "outputId": "51016fc8-a480-4370-d8fa-dea3a4e084b5"
      },
      "execution_count": 24,
      "outputs": [
        {
          "output_type": "stream",
          "name": "stderr",
          "text": [
            "EPOCHS[TRAIN]1/60: 100%|██████████| 199/199 [00:35<00:00,  5.63it/s, loss=1.835660, acc=0.214161]\n",
            "EPOCH[VALID]1/60: 100%|██████████| 55/55 [00:03<00:00, 16.13it/s, loss=1.785974, acc=0.247126]\n"
          ]
        },
        {
          "output_type": "stream",
          "name": "stdout",
          "text": [
            "Saved Best Valid Loss\n"
          ]
        },
        {
          "output_type": "stream",
          "name": "stderr",
          "text": [
            "EPOCHS[TRAIN]2/60: 100%|██████████| 199/199 [00:24<00:00,  8.03it/s, loss=1.722786, acc=0.276219]\n",
            "EPOCH[VALID]2/60: 100%|██████████| 55/55 [00:03<00:00, 16.77it/s, loss=1.671375, acc=0.330603]\n"
          ]
        },
        {
          "output_type": "stream",
          "name": "stdout",
          "text": [
            "Saved Best Valid Loss\n"
          ]
        },
        {
          "output_type": "stream",
          "name": "stderr",
          "text": [
            "EPOCHS[TRAIN]3/60: 100%|██████████| 199/199 [00:26<00:00,  7.50it/s, loss=1.609468, acc=0.345358]\n",
            "EPOCH[VALID]3/60: 100%|██████████| 55/55 [00:03<00:00, 16.85it/s, loss=1.523079, acc=0.395663]\n"
          ]
        },
        {
          "output_type": "stream",
          "name": "stdout",
          "text": [
            "Saved Best Valid Loss\n"
          ]
        },
        {
          "output_type": "stream",
          "name": "stderr",
          "text": [
            "EPOCHS[TRAIN]4/60: 100%|██████████| 199/199 [00:24<00:00,  7.97it/s, loss=1.517101, acc=0.391600]\n",
            "EPOCH[VALID]4/60: 100%|██████████| 55/55 [00:03<00:00, 16.43it/s, loss=1.432198, acc=0.432717]\n"
          ]
        },
        {
          "output_type": "stream",
          "name": "stdout",
          "text": [
            "Saved Best Valid Loss\n"
          ]
        },
        {
          "output_type": "stream",
          "name": "stderr",
          "text": [
            "EPOCHS[TRAIN]5/60: 100%|██████████| 199/199 [00:25<00:00,  7.87it/s, loss=1.450695, acc=0.419670]\n",
            "EPOCH[VALID]5/60: 100%|██████████| 55/55 [00:03<00:00, 16.28it/s, loss=1.384038, acc=0.462137]\n"
          ]
        },
        {
          "output_type": "stream",
          "name": "stdout",
          "text": [
            "Saved Best Valid Loss\n"
          ]
        },
        {
          "output_type": "stream",
          "name": "stderr",
          "text": [
            "EPOCHS[TRAIN]6/60: 100%|██████████| 199/199 [00:25<00:00,  7.88it/s, loss=1.393337, acc=0.444681]\n",
            "EPOCH[VALID]6/60: 100%|██████████| 55/55 [00:03<00:00, 16.40it/s, loss=1.341138, acc=0.474911]\n"
          ]
        },
        {
          "output_type": "stream",
          "name": "stdout",
          "text": [
            "Saved Best Valid Loss\n"
          ]
        },
        {
          "output_type": "stream",
          "name": "stderr",
          "text": [
            "EPOCHS[TRAIN]7/60: 100%|██████████| 199/199 [00:25<00:00,  7.86it/s, loss=1.356702, acc=0.458447]\n",
            "EPOCH[VALID]7/60: 100%|██████████| 55/55 [00:03<00:00, 16.58it/s, loss=1.292969, acc=0.498200]\n"
          ]
        },
        {
          "output_type": "stream",
          "name": "stdout",
          "text": [
            "Saved Best Valid Loss\n"
          ]
        },
        {
          "output_type": "stream",
          "name": "stderr",
          "text": [
            "EPOCHS[TRAIN]8/60: 100%|██████████| 199/199 [00:25<00:00,  7.92it/s, loss=1.320353, acc=0.473920]\n",
            "EPOCH[VALID]8/60: 100%|██████████| 55/55 [00:03<00:00, 16.65it/s, loss=1.282963, acc=0.497057]\n"
          ]
        },
        {
          "output_type": "stream",
          "name": "stdout",
          "text": [
            "Saved Best Valid Loss\n"
          ]
        },
        {
          "output_type": "stream",
          "name": "stderr",
          "text": [
            "EPOCHS[TRAIN]9/60: 100%|██████████| 199/199 [00:25<00:00,  7.91it/s, loss=1.289966, acc=0.488824]\n",
            "EPOCH[VALID]9/60: 100%|██████████| 55/55 [00:03<00:00, 16.63it/s, loss=1.242592, acc=0.515665]\n"
          ]
        },
        {
          "output_type": "stream",
          "name": "stdout",
          "text": [
            "Saved Best Valid Loss\n"
          ]
        },
        {
          "output_type": "stream",
          "name": "stderr",
          "text": [
            "EPOCHS[TRAIN]10/60: 100%|██████████| 199/199 [00:25<00:00,  7.96it/s, loss=1.258404, acc=0.502471]\n",
            "EPOCH[VALID]10/60: 100%|██████████| 55/55 [00:03<00:00, 16.98it/s, loss=1.214144, acc=0.527312]\n"
          ]
        },
        {
          "output_type": "stream",
          "name": "stdout",
          "text": [
            "Saved Best Valid Loss\n"
          ]
        },
        {
          "output_type": "stream",
          "name": "stderr",
          "text": [
            "EPOCHS[TRAIN]11/60: 100%|██████████| 199/199 [00:25<00:00,  7.92it/s, loss=1.231465, acc=0.514480]\n",
            "EPOCH[VALID]11/60: 100%|██████████| 55/55 [00:03<00:00, 15.72it/s, loss=1.203359, acc=0.531154]\n"
          ]
        },
        {
          "output_type": "stream",
          "name": "stdout",
          "text": [
            "Saved Best Valid Loss\n"
          ]
        },
        {
          "output_type": "stream",
          "name": "stderr",
          "text": [
            "EPOCHS[TRAIN]12/60: 100%|██████████| 199/199 [00:25<00:00,  7.91it/s, loss=1.199517, acc=0.526164]\n",
            "EPOCH[VALID]12/60: 100%|██████████| 55/55 [00:03<00:00, 15.64it/s, loss=1.163874, acc=0.547764]\n"
          ]
        },
        {
          "output_type": "stream",
          "name": "stdout",
          "text": [
            "Saved Best Valid Loss\n"
          ]
        },
        {
          "output_type": "stream",
          "name": "stderr",
          "text": [
            "EPOCHS[TRAIN]13/60: 100%|██████████| 199/199 [00:25<00:00,  7.83it/s, loss=1.180114, acc=0.538094]\n",
            "EPOCH[VALID]13/60: 100%|██████████| 55/55 [00:03<00:00, 14.70it/s, loss=1.152352, acc=0.554595]\n"
          ]
        },
        {
          "output_type": "stream",
          "name": "stdout",
          "text": [
            "Saved Best Valid Loss\n"
          ]
        },
        {
          "output_type": "stream",
          "name": "stderr",
          "text": [
            "EPOCHS[TRAIN]14/60: 100%|██████████| 199/199 [00:24<00:00,  7.99it/s, loss=1.161446, acc=0.547256]\n",
            "EPOCH[VALID]14/60: 100%|██████████| 55/55 [00:03<00:00, 13.98it/s, loss=1.132035, acc=0.562107]\n"
          ]
        },
        {
          "output_type": "stream",
          "name": "stdout",
          "text": [
            "Saved Best Valid Loss\n"
          ]
        },
        {
          "output_type": "stream",
          "name": "stderr",
          "text": [
            "EPOCHS[TRAIN]15/60: 100%|██████████| 199/199 [00:24<00:00,  8.06it/s, loss=1.140625, acc=0.552339]\n",
            "EPOCH[VALID]15/60: 100%|██████████| 55/55 [00:03<00:00, 13.77it/s, loss=1.134299, acc=0.564241]\n",
            "EPOCHS[TRAIN]16/60: 100%|██████████| 199/199 [00:24<00:00,  8.08it/s, loss=1.111414, acc=0.569839]\n",
            "EPOCH[VALID]16/60: 100%|██████████| 55/55 [00:04<00:00, 13.69it/s, loss=1.138343, acc=0.563689]\n",
            "EPOCHS[TRAIN]17/60: 100%|██████████| 199/199 [00:24<00:00,  8.09it/s, loss=1.100743, acc=0.568449]\n",
            "EPOCH[VALID]17/60: 100%|██████████| 55/55 [00:04<00:00, 13.26it/s, loss=1.102204, acc=0.582007]\n"
          ]
        },
        {
          "output_type": "stream",
          "name": "stdout",
          "text": [
            "Saved Best Valid Loss\n"
          ]
        },
        {
          "output_type": "stream",
          "name": "stderr",
          "text": [
            "EPOCHS[TRAIN]18/60: 100%|██████████| 199/199 [00:24<00:00,  8.12it/s, loss=1.081149, acc=0.582695]\n",
            "EPOCH[VALID]18/60: 100%|██████████| 55/55 [00:04<00:00, 13.14it/s, loss=1.097305, acc=0.580579]\n"
          ]
        },
        {
          "output_type": "stream",
          "name": "stdout",
          "text": [
            "Saved Best Valid Loss\n"
          ]
        },
        {
          "output_type": "stream",
          "name": "stderr",
          "text": [
            "EPOCHS[TRAIN]19/60: 100%|██████████| 199/199 [00:24<00:00,  8.08it/s, loss=1.060175, acc=0.585911]\n",
            "EPOCH[VALID]19/60: 100%|██████████| 55/55 [00:04<00:00, 13.36it/s, loss=1.085468, acc=0.590526]\n"
          ]
        },
        {
          "output_type": "stream",
          "name": "stdout",
          "text": [
            "Saved Best Valid Loss\n"
          ]
        },
        {
          "output_type": "stream",
          "name": "stderr",
          "text": [
            "EPOCHS[TRAIN]20/60: 100%|██████████| 199/199 [00:24<00:00,  8.10it/s, loss=1.047422, acc=0.595019]\n",
            "EPOCH[VALID]20/60: 100%|██████████| 55/55 [00:03<00:00, 13.84it/s, loss=1.081662, acc=0.587536]\n"
          ]
        },
        {
          "output_type": "stream",
          "name": "stdout",
          "text": [
            "Saved Best Valid Loss\n"
          ]
        },
        {
          "output_type": "stream",
          "name": "stderr",
          "text": [
            "EPOCHS[TRAIN]21/60: 100%|██████████| 199/199 [00:24<00:00,  8.09it/s, loss=1.026910, acc=0.602266]\n",
            "EPOCH[VALID]21/60: 100%|██████████| 55/55 [00:03<00:00, 13.96it/s, loss=1.076846, acc=0.598183]\n"
          ]
        },
        {
          "output_type": "stream",
          "name": "stdout",
          "text": [
            "Saved Best Valid Loss\n"
          ]
        },
        {
          "output_type": "stream",
          "name": "stderr",
          "text": [
            "EPOCHS[TRAIN]22/60: 100%|██████████| 199/199 [00:24<00:00,  8.02it/s, loss=1.009630, acc=0.608876]\n",
            "EPOCH[VALID]22/60: 100%|██████████| 55/55 [00:03<00:00, 14.12it/s, loss=1.078140, acc=0.593499]\n",
            "EPOCHS[TRAIN]23/60: 100%|██████████| 199/199 [00:24<00:00,  8.04it/s, loss=0.994475, acc=0.616365]\n",
            "EPOCH[VALID]23/60: 100%|██████████| 55/55 [00:03<00:00, 14.52it/s, loss=1.073679, acc=0.592789]\n"
          ]
        },
        {
          "output_type": "stream",
          "name": "stdout",
          "text": [
            "Saved Best Valid Loss\n"
          ]
        },
        {
          "output_type": "stream",
          "name": "stderr",
          "text": [
            "EPOCHS[TRAIN]24/60: 100%|██████████| 199/199 [00:24<00:00,  8.00it/s, loss=0.976719, acc=0.621911]\n",
            "EPOCH[VALID]24/60: 100%|██████████| 55/55 [00:03<00:00, 14.50it/s, loss=1.071953, acc=0.598893]\n"
          ]
        },
        {
          "output_type": "stream",
          "name": "stdout",
          "text": [
            "Saved Best Valid Loss\n"
          ]
        },
        {
          "output_type": "stream",
          "name": "stderr",
          "text": [
            "EPOCHS[TRAIN]25/60: 100%|██████████| 199/199 [00:24<00:00,  8.00it/s, loss=0.958932, acc=0.629212]\n",
            "EPOCH[VALID]25/60: 100%|██████████| 55/55 [00:03<00:00, 15.23it/s, loss=1.074399, acc=0.600182]\n",
            "EPOCHS[TRAIN]26/60: 100%|██████████| 199/199 [00:25<00:00,  7.93it/s, loss=0.938507, acc=0.635214]\n",
            "EPOCH[VALID]26/60: 100%|██████████| 55/55 [00:03<00:00, 15.61it/s, loss=1.086114, acc=0.593212]\n",
            "EPOCHS[TRAIN]27/60: 100%|██████████| 199/199 [00:24<00:00,  8.01it/s, loss=0.924800, acc=0.640073]\n",
            "EPOCH[VALID]27/60: 100%|██████████| 55/55 [00:03<00:00, 16.06it/s, loss=1.084236, acc=0.599607]\n",
            "EPOCHS[TRAIN]28/60: 100%|██████████| 199/199 [00:24<00:00,  8.00it/s, loss=0.911387, acc=0.651393]\n",
            "EPOCH[VALID]28/60: 100%|██████████| 55/55 [00:03<00:00, 15.89it/s, loss=1.061795, acc=0.601467]\n"
          ]
        },
        {
          "output_type": "stream",
          "name": "stdout",
          "text": [
            "Saved Best Valid Loss\n"
          ]
        },
        {
          "output_type": "stream",
          "name": "stderr",
          "text": [
            "EPOCHS[TRAIN]29/60: 100%|██████████| 199/199 [00:24<00:00,  7.96it/s, loss=0.896082, acc=0.653538]\n",
            "EPOCH[VALID]29/60: 100%|██████████| 55/55 [00:03<00:00, 15.91it/s, loss=1.069675, acc=0.608410]\n",
            "EPOCHS[TRAIN]30/60: 100%|██████████| 199/199 [00:25<00:00,  7.94it/s, loss=0.880048, acc=0.664761]\n",
            "EPOCH[VALID]30/60: 100%|██████████| 55/55 [00:03<00:00, 16.20it/s, loss=1.081975, acc=0.602302]\n",
            "EPOCHS[TRAIN]31/60: 100%|██████████| 199/199 [00:25<00:00,  7.90it/s, loss=0.863630, acc=0.670512]\n",
            "EPOCH[VALID]31/60: 100%|██████████| 55/55 [00:03<00:00, 16.40it/s, loss=1.082610, acc=0.606712]\n",
            "EPOCHS[TRAIN]32/60: 100%|██████████| 199/199 [00:25<00:00,  7.90it/s, loss=0.841853, acc=0.678614]\n",
            "EPOCH[VALID]32/60: 100%|██████████| 55/55 [00:03<00:00, 16.56it/s, loss=1.074658, acc=0.607561]\n",
            "EPOCHS[TRAIN]33/60: 100%|██████████| 199/199 [00:25<00:00,  7.92it/s, loss=0.831920, acc=0.683532]\n",
            "EPOCH[VALID]33/60: 100%|██████████| 55/55 [00:03<00:00, 16.50it/s, loss=1.083309, acc=0.611816]\n",
            "EPOCHS[TRAIN]34/60: 100%|██████████| 199/199 [00:25<00:00,  7.86it/s, loss=0.809406, acc=0.691585]\n",
            "EPOCH[VALID]34/60: 100%|██████████| 55/55 [00:03<00:00, 16.54it/s, loss=1.093304, acc=0.609401]\n",
            "EPOCHS[TRAIN]35/60: 100%|██████████| 199/199 [00:25<00:00,  7.87it/s, loss=0.800582, acc=0.696403]\n",
            "EPOCH[VALID]35/60: 100%|██████████| 55/55 [00:03<00:00, 16.51it/s, loss=1.111194, acc=0.602306]\n",
            "EPOCHS[TRAIN]36/60: 100%|██████████| 199/199 [00:25<00:00,  7.94it/s, loss=0.778895, acc=0.706002]\n",
            "EPOCH[VALID]36/60: 100%|██████████| 55/55 [00:03<00:00, 16.56it/s, loss=1.094047, acc=0.617921]\n",
            "EPOCHS[TRAIN]37/60: 100%|██████████| 199/199 [00:25<00:00,  7.95it/s, loss=0.767304, acc=0.705987]\n",
            "EPOCH[VALID]37/60: 100%|██████████| 55/55 [00:03<00:00, 16.97it/s, loss=1.127084, acc=0.608556]\n",
            "EPOCHS[TRAIN]38/60: 100%|██████████| 199/199 [00:25<00:00,  7.94it/s, loss=0.752724, acc=0.712563]\n",
            "EPOCH[VALID]38/60: 100%|██████████| 55/55 [00:03<00:00, 16.85it/s, loss=1.127565, acc=0.612384]\n",
            "EPOCHS[TRAIN]39/60: 100%|██████████| 199/199 [00:25<00:00,  7.95it/s, loss=0.737252, acc=0.724513]\n",
            "EPOCH[VALID]39/60: 100%|██████████| 55/55 [00:03<00:00, 16.98it/s, loss=1.118316, acc=0.616365]\n",
            "EPOCHS[TRAIN]40/60: 100%|██████████| 199/199 [00:25<00:00,  7.94it/s, loss=0.727509, acc=0.722835]\n",
            "EPOCH[VALID]40/60: 100%|██████████| 55/55 [00:03<00:00, 16.73it/s, loss=1.123643, acc=0.618208]\n",
            "EPOCHS[TRAIN]41/60: 100%|██████████| 199/199 [00:25<00:00,  7.93it/s, loss=0.701672, acc=0.732512]\n",
            "EPOCH[VALID]41/60: 100%|██████████| 55/55 [00:03<00:00, 16.82it/s, loss=1.141489, acc=0.609973]\n",
            "EPOCHS[TRAIN]42/60: 100%|██████████| 199/199 [00:25<00:00,  7.91it/s, loss=0.684620, acc=0.743225]\n",
            "EPOCH[VALID]42/60: 100%|██████████| 55/55 [00:03<00:00, 16.89it/s, loss=1.139474, acc=0.614657]\n",
            "EPOCHS[TRAIN]43/60: 100%|██████████| 199/199 [00:25<00:00,  7.91it/s, loss=0.675320, acc=0.747661]\n",
            "EPOCH[VALID]43/60: 100%|██████████| 55/55 [00:03<00:00, 17.05it/s, loss=1.156723, acc=0.610402]\n",
            "EPOCHS[TRAIN]44/60: 100%|██████████| 199/199 [00:24<00:00,  7.98it/s, loss=0.664286, acc=0.749997]\n",
            "EPOCH[VALID]44/60: 100%|██████████| 55/55 [00:03<00:00, 16.70it/s, loss=1.156257, acc=0.619916]\n",
            "EPOCHS[TRAIN]45/60: 100%|██████████| 199/199 [00:25<00:00,  7.94it/s, loss=0.642813, acc=0.759635]\n",
            "EPOCH[VALID]45/60: 100%|██████████| 55/55 [00:03<00:00, 16.08it/s, loss=1.267305, acc=0.592511]\n",
            "EPOCHS[TRAIN]46/60: 100%|██████████| 199/199 [00:25<00:00,  7.92it/s, loss=0.635311, acc=0.762422]\n",
            "EPOCH[VALID]46/60: 100%|██████████| 55/55 [00:03<00:00, 16.53it/s, loss=1.180293, acc=0.618780]\n",
            "EPOCHS[TRAIN]47/60: 100%|██████████| 199/199 [00:25<00:00,  7.88it/s, loss=0.617393, acc=0.768380]\n",
            "EPOCH[VALID]47/60: 100%|██████████| 55/55 [00:03<00:00, 16.83it/s, loss=1.186450, acc=0.620768]\n",
            "EPOCHS[TRAIN]48/60: 100%|██████████| 199/199 [00:24<00:00,  8.00it/s, loss=0.602199, acc=0.774495]\n",
            "EPOCH[VALID]48/60: 100%|██████████| 55/55 [00:03<00:00, 16.68it/s, loss=1.219713, acc=0.624174]\n",
            "EPOCHS[TRAIN]49/60: 100%|██████████| 199/199 [00:24<00:00,  7.97it/s, loss=0.581079, acc=0.785550]\n",
            "EPOCH[VALID]49/60: 100%|██████████| 55/55 [00:03<00:00, 16.71it/s, loss=1.197097, acc=0.622331]\n",
            "EPOCHS[TRAIN]50/60: 100%|██████████| 199/199 [00:25<00:00,  7.90it/s, loss=0.580690, acc=0.783941]\n",
            "EPOCH[VALID]50/60: 100%|██████████| 55/55 [00:03<00:00, 16.79it/s, loss=1.226246, acc=0.618922]\n",
            "EPOCHS[TRAIN]51/60: 100%|██████████| 199/199 [00:25<00:00,  7.91it/s, loss=0.564101, acc=0.791249]\n",
            "EPOCH[VALID]51/60: 100%|██████████| 55/55 [00:03<00:00, 16.47it/s, loss=1.232991, acc=0.624310]\n",
            "EPOCHS[TRAIN]52/60: 100%|██████████| 199/199 [00:25<00:00,  7.93it/s, loss=0.546491, acc=0.796891]\n",
            "EPOCH[VALID]52/60: 100%|██████████| 55/55 [00:03<00:00, 16.85it/s, loss=1.269028, acc=0.613798]\n",
            "EPOCHS[TRAIN]53/60: 100%|██████████| 199/199 [00:25<00:00,  7.93it/s, loss=0.534419, acc=0.802402]\n",
            "EPOCH[VALID]53/60: 100%|██████████| 55/55 [00:03<00:00, 16.82it/s, loss=1.280063, acc=0.617927]\n",
            "EPOCHS[TRAIN]54/60: 100%|██████████| 199/199 [00:25<00:00,  7.92it/s, loss=0.520647, acc=0.804983]\n",
            "EPOCH[VALID]54/60: 100%|██████████| 55/55 [00:03<00:00, 16.75it/s, loss=1.280926, acc=0.618063]\n",
            "EPOCHS[TRAIN]55/60: 100%|██████████| 199/199 [00:25<00:00,  7.91it/s, loss=0.505241, acc=0.812707]\n",
            "EPOCH[VALID]55/60: 100%|██████████| 55/55 [00:03<00:00, 16.83it/s, loss=1.287479, acc=0.621185]\n",
            "EPOCHS[TRAIN]56/60: 100%|██████████| 199/199 [00:25<00:00,  7.91it/s, loss=0.492796, acc=0.816913]\n",
            "EPOCH[VALID]56/60: 100%|██████████| 55/55 [00:03<00:00, 16.27it/s, loss=1.265046, acc=0.626444]\n",
            "EPOCHS[TRAIN]57/60: 100%|██████████| 199/199 [00:25<00:00,  7.93it/s, loss=0.490256, acc=0.816549]\n",
            "EPOCH[VALID]57/60: 100%|██████████| 55/55 [00:03<00:00, 16.35it/s, loss=1.305165, acc=0.618063]\n",
            "EPOCHS[TRAIN]58/60: 100%|██████████| 199/199 [00:25<00:00,  7.93it/s, loss=0.465533, acc=0.828023]\n",
            "EPOCH[VALID]58/60: 100%|██████████| 55/55 [00:03<00:00, 16.39it/s, loss=1.343963, acc=0.617782]\n",
            "EPOCHS[TRAIN]59/60: 100%|██████████| 199/199 [00:25<00:00,  7.86it/s, loss=0.459131, acc=0.831218]\n",
            "EPOCH[VALID]59/60: 100%|██████████| 55/55 [00:03<00:00, 16.45it/s, loss=1.350870, acc=0.615374]\n",
            "EPOCHS[TRAIN]60/60: 100%|██████████| 199/199 [00:25<00:00,  7.88it/s, loss=0.448185, acc=0.836964]\n",
            "EPOCH[VALID]60/60: 100%|██████████| 55/55 [00:03<00:00, 16.45it/s, loss=1.358705, acc=0.618350]\n"
          ]
        }
      ]
    },
    {
      "cell_type": "code",
      "source": [
        "import joblib\n",
        "\n",
        "joblib.dump(modelo, 'modelo.pkl')"
      ],
      "metadata": {
        "id": "hqoncgFQXC_d",
        "colab": {
          "base_uri": "https://localhost:8080/"
        },
        "outputId": "6f77069e-b3a3-45b2-ae0f-b478a52c011a"
      },
      "execution_count": 29,
      "outputs": [
        {
          "output_type": "execute_result",
          "data": {
            "text/plain": [
              "['modelo.pkl']"
            ]
          },
          "metadata": {},
          "execution_count": 29
        }
      ]
    },
    {
      "cell_type": "code",
      "source": [
        "modelo_cargado = joblib.load('modelo.pkl')"
      ],
      "metadata": {
        "id": "7xM0pL5w7ddg"
      },
      "execution_count": 31,
      "outputs": []
    },
    {
      "cell_type": "code",
      "source": [
        "import torch\n",
        "from torchvision import transforms\n",
        "from PIL import Image\n",
        "\n",
        "# Paso 1: Cargar y preprocesar la imagen\n",
        "image_path = \"./images/validation/sad/10004.jpg\"\n",
        "image = Image.open(image_path).convert(\"RGB\")\n",
        "\n",
        "# Añadir transformaciones necesarias, incluyendo normalización\n",
        "transform = transforms.Compose([\n",
        "    transforms.ToTensor(),\n",
        "    # transforms.Normalize(mean=[0.485, 0.456, 0.406], std=[0.229, 0.224, 0.225]),\n",
        "])\n",
        "\n",
        "image = transform(image)\n",
        "\n",
        "# Ajusta la dimensión del lote (batch dimension) si es necesario\n",
        "image = image.unsqueeze(0)\n",
        "\n",
        "# Paso 2: Realizar la predicción\n",
        "output = modelo(image)\n",
        "\n",
        "# Para obtener las probabilidades de clase en un problema de clasificación\n",
        "probabilities = torch.nn.functional.softmax(output[0], dim=0)\n",
        "\n",
        "# Paso 3: Interpretar los resultados\n",
        "# Puedes obtener la clase predicha como el índice con mayor probabilidad\n",
        "predicted_class = torch.argmax(probabilities).item()\n",
        "print(f\"La imagen probablemente pertenece a la clase: {predicted_class}\")\n"
      ],
      "metadata": {
        "colab": {
          "base_uri": "https://localhost:8080/",
          "height": 409
        },
        "id": "3GB__CF5Dibm",
        "outputId": "78025ae2-2a74-4896-953e-30d1454aeaaa"
      },
      "execution_count": 53,
      "outputs": [
        {
          "output_type": "error",
          "ename": "RuntimeError",
          "evalue": "ignored",
          "traceback": [
            "\u001b[0;31m---------------------------------------------------------------------------\u001b[0m",
            "\u001b[0;31mRuntimeError\u001b[0m                              Traceback (most recent call last)",
            "\u001b[0;32m<ipython-input-53-994c00f730ee>\u001b[0m in \u001b[0;36m<cell line: 21>\u001b[0;34m()\u001b[0m\n\u001b[1;32m     19\u001b[0m \u001b[0;34m\u001b[0m\u001b[0m\n\u001b[1;32m     20\u001b[0m \u001b[0;31m# Paso 2: Realizar la predicción\u001b[0m\u001b[0;34m\u001b[0m\u001b[0;34m\u001b[0m\u001b[0m\n\u001b[0;32m---> 21\u001b[0;31m \u001b[0moutput\u001b[0m \u001b[0;34m=\u001b[0m \u001b[0mmodelo\u001b[0m\u001b[0;34m(\u001b[0m\u001b[0mimage\u001b[0m\u001b[0;34m)\u001b[0m\u001b[0;34m\u001b[0m\u001b[0;34m\u001b[0m\u001b[0m\n\u001b[0m\u001b[1;32m     22\u001b[0m \u001b[0;34m\u001b[0m\u001b[0m\n\u001b[1;32m     23\u001b[0m \u001b[0;31m# Para obtener las probabilidades de clase en un problema de clasificación\u001b[0m\u001b[0;34m\u001b[0m\u001b[0;34m\u001b[0m\u001b[0m\n",
            "\u001b[0;32m/usr/local/lib/python3.10/dist-packages/torch/nn/modules/module.py\u001b[0m in \u001b[0;36m_wrapped_call_impl\u001b[0;34m(self, *args, **kwargs)\u001b[0m\n\u001b[1;32m   1516\u001b[0m             \u001b[0;32mreturn\u001b[0m \u001b[0mself\u001b[0m\u001b[0;34m.\u001b[0m\u001b[0m_compiled_call_impl\u001b[0m\u001b[0;34m(\u001b[0m\u001b[0;34m*\u001b[0m\u001b[0margs\u001b[0m\u001b[0;34m,\u001b[0m \u001b[0;34m**\u001b[0m\u001b[0mkwargs\u001b[0m\u001b[0;34m)\u001b[0m  \u001b[0;31m# type: ignore[misc]\u001b[0m\u001b[0;34m\u001b[0m\u001b[0;34m\u001b[0m\u001b[0m\n\u001b[1;32m   1517\u001b[0m         \u001b[0;32melse\u001b[0m\u001b[0;34m:\u001b[0m\u001b[0;34m\u001b[0m\u001b[0;34m\u001b[0m\u001b[0m\n\u001b[0;32m-> 1518\u001b[0;31m             \u001b[0;32mreturn\u001b[0m \u001b[0mself\u001b[0m\u001b[0;34m.\u001b[0m\u001b[0m_call_impl\u001b[0m\u001b[0;34m(\u001b[0m\u001b[0;34m*\u001b[0m\u001b[0margs\u001b[0m\u001b[0;34m,\u001b[0m \u001b[0;34m**\u001b[0m\u001b[0mkwargs\u001b[0m\u001b[0;34m)\u001b[0m\u001b[0;34m\u001b[0m\u001b[0;34m\u001b[0m\u001b[0m\n\u001b[0m\u001b[1;32m   1519\u001b[0m \u001b[0;34m\u001b[0m\u001b[0m\n\u001b[1;32m   1520\u001b[0m     \u001b[0;32mdef\u001b[0m \u001b[0m_call_impl\u001b[0m\u001b[0;34m(\u001b[0m\u001b[0mself\u001b[0m\u001b[0;34m,\u001b[0m \u001b[0;34m*\u001b[0m\u001b[0margs\u001b[0m\u001b[0;34m,\u001b[0m \u001b[0;34m**\u001b[0m\u001b[0mkwargs\u001b[0m\u001b[0;34m)\u001b[0m\u001b[0;34m:\u001b[0m\u001b[0;34m\u001b[0m\u001b[0;34m\u001b[0m\u001b[0m\n",
            "\u001b[0;32m/usr/local/lib/python3.10/dist-packages/torch/nn/modules/module.py\u001b[0m in \u001b[0;36m_call_impl\u001b[0;34m(self, *args, **kwargs)\u001b[0m\n\u001b[1;32m   1525\u001b[0m                 \u001b[0;32mor\u001b[0m \u001b[0m_global_backward_pre_hooks\u001b[0m \u001b[0;32mor\u001b[0m \u001b[0m_global_backward_hooks\u001b[0m\u001b[0;34m\u001b[0m\u001b[0;34m\u001b[0m\u001b[0m\n\u001b[1;32m   1526\u001b[0m                 or _global_forward_hooks or _global_forward_pre_hooks):\n\u001b[0;32m-> 1527\u001b[0;31m             \u001b[0;32mreturn\u001b[0m \u001b[0mforward_call\u001b[0m\u001b[0;34m(\u001b[0m\u001b[0;34m*\u001b[0m\u001b[0margs\u001b[0m\u001b[0;34m,\u001b[0m \u001b[0;34m**\u001b[0m\u001b[0mkwargs\u001b[0m\u001b[0;34m)\u001b[0m\u001b[0;34m\u001b[0m\u001b[0;34m\u001b[0m\u001b[0m\n\u001b[0m\u001b[1;32m   1528\u001b[0m \u001b[0;34m\u001b[0m\u001b[0m\n\u001b[1;32m   1529\u001b[0m         \u001b[0;32mtry\u001b[0m\u001b[0;34m:\u001b[0m\u001b[0;34m\u001b[0m\u001b[0;34m\u001b[0m\u001b[0m\n",
            "\u001b[0;32m<ipython-input-17-a881b8c1b5bb>\u001b[0m in \u001b[0;36mforward\u001b[0;34m(self, images, labels)\u001b[0m\n\u001b[1;32m      7\u001b[0m         \u001b[0mself\u001b[0m\u001b[0;34m.\u001b[0m\u001b[0meff_net\u001b[0m \u001b[0;34m=\u001b[0m \u001b[0mtimm\u001b[0m\u001b[0;34m.\u001b[0m\u001b[0mcreate_model\u001b[0m\u001b[0;34m(\u001b[0m\u001b[0;34m'resnet34'\u001b[0m\u001b[0;34m,\u001b[0m\u001b[0mpretrained\u001b[0m \u001b[0;34m=\u001b[0m \u001b[0;32mTrue\u001b[0m\u001b[0;34m,\u001b[0m\u001b[0mnum_classes\u001b[0m \u001b[0;34m=\u001b[0m \u001b[0;36m7\u001b[0m\u001b[0;34m)\u001b[0m\u001b[0;34m\u001b[0m\u001b[0;34m\u001b[0m\u001b[0m\n\u001b[1;32m      8\u001b[0m     \u001b[0;32mdef\u001b[0m \u001b[0mforward\u001b[0m\u001b[0;34m(\u001b[0m\u001b[0mself\u001b[0m\u001b[0;34m,\u001b[0m\u001b[0mimages\u001b[0m\u001b[0;34m,\u001b[0m\u001b[0mlabels\u001b[0m \u001b[0;34m=\u001b[0m \u001b[0;32mNone\u001b[0m\u001b[0;34m)\u001b[0m\u001b[0;34m:\u001b[0m\u001b[0;34m\u001b[0m\u001b[0;34m\u001b[0m\u001b[0m\n\u001b[0;32m----> 9\u001b[0;31m         \u001b[0mlogits\u001b[0m \u001b[0;34m=\u001b[0m \u001b[0mself\u001b[0m\u001b[0;34m.\u001b[0m\u001b[0meff_net\u001b[0m\u001b[0;34m(\u001b[0m\u001b[0mimages\u001b[0m\u001b[0;34m)\u001b[0m\u001b[0;34m\u001b[0m\u001b[0;34m\u001b[0m\u001b[0m\n\u001b[0m\u001b[1;32m     10\u001b[0m         \u001b[0;32mif\u001b[0m \u001b[0mlabels\u001b[0m \u001b[0;34m!=\u001b[0m \u001b[0;32mNone\u001b[0m\u001b[0;34m:\u001b[0m\u001b[0;34m\u001b[0m\u001b[0;34m\u001b[0m\u001b[0m\n\u001b[1;32m     11\u001b[0m             \u001b[0mloss\u001b[0m \u001b[0;34m=\u001b[0m \u001b[0mnn\u001b[0m\u001b[0;34m.\u001b[0m\u001b[0mCrossEntropyLoss\u001b[0m\u001b[0;34m(\u001b[0m\u001b[0;34m)\u001b[0m\u001b[0;34m(\u001b[0m\u001b[0mlogits\u001b[0m\u001b[0;34m,\u001b[0m\u001b[0mlabels\u001b[0m\u001b[0;34m)\u001b[0m\u001b[0;34m\u001b[0m\u001b[0;34m\u001b[0m\u001b[0m\n",
            "\u001b[0;32m/usr/local/lib/python3.10/dist-packages/torch/nn/modules/module.py\u001b[0m in \u001b[0;36m_wrapped_call_impl\u001b[0;34m(self, *args, **kwargs)\u001b[0m\n\u001b[1;32m   1516\u001b[0m             \u001b[0;32mreturn\u001b[0m \u001b[0mself\u001b[0m\u001b[0;34m.\u001b[0m\u001b[0m_compiled_call_impl\u001b[0m\u001b[0;34m(\u001b[0m\u001b[0;34m*\u001b[0m\u001b[0margs\u001b[0m\u001b[0;34m,\u001b[0m \u001b[0;34m**\u001b[0m\u001b[0mkwargs\u001b[0m\u001b[0;34m)\u001b[0m  \u001b[0;31m# type: ignore[misc]\u001b[0m\u001b[0;34m\u001b[0m\u001b[0;34m\u001b[0m\u001b[0m\n\u001b[1;32m   1517\u001b[0m         \u001b[0;32melse\u001b[0m\u001b[0;34m:\u001b[0m\u001b[0;34m\u001b[0m\u001b[0;34m\u001b[0m\u001b[0m\n\u001b[0;32m-> 1518\u001b[0;31m             \u001b[0;32mreturn\u001b[0m \u001b[0mself\u001b[0m\u001b[0;34m.\u001b[0m\u001b[0m_call_impl\u001b[0m\u001b[0;34m(\u001b[0m\u001b[0;34m*\u001b[0m\u001b[0margs\u001b[0m\u001b[0;34m,\u001b[0m \u001b[0;34m**\u001b[0m\u001b[0mkwargs\u001b[0m\u001b[0;34m)\u001b[0m\u001b[0;34m\u001b[0m\u001b[0;34m\u001b[0m\u001b[0m\n\u001b[0m\u001b[1;32m   1519\u001b[0m \u001b[0;34m\u001b[0m\u001b[0m\n\u001b[1;32m   1520\u001b[0m     \u001b[0;32mdef\u001b[0m \u001b[0m_call_impl\u001b[0m\u001b[0;34m(\u001b[0m\u001b[0mself\u001b[0m\u001b[0;34m,\u001b[0m \u001b[0;34m*\u001b[0m\u001b[0margs\u001b[0m\u001b[0;34m,\u001b[0m \u001b[0;34m**\u001b[0m\u001b[0mkwargs\u001b[0m\u001b[0;34m)\u001b[0m\u001b[0;34m:\u001b[0m\u001b[0;34m\u001b[0m\u001b[0;34m\u001b[0m\u001b[0m\n",
            "\u001b[0;32m/usr/local/lib/python3.10/dist-packages/torch/nn/modules/module.py\u001b[0m in \u001b[0;36m_call_impl\u001b[0;34m(self, *args, **kwargs)\u001b[0m\n\u001b[1;32m   1525\u001b[0m                 \u001b[0;32mor\u001b[0m \u001b[0m_global_backward_pre_hooks\u001b[0m \u001b[0;32mor\u001b[0m \u001b[0m_global_backward_hooks\u001b[0m\u001b[0;34m\u001b[0m\u001b[0;34m\u001b[0m\u001b[0m\n\u001b[1;32m   1526\u001b[0m                 or _global_forward_hooks or _global_forward_pre_hooks):\n\u001b[0;32m-> 1527\u001b[0;31m             \u001b[0;32mreturn\u001b[0m \u001b[0mforward_call\u001b[0m\u001b[0;34m(\u001b[0m\u001b[0;34m*\u001b[0m\u001b[0margs\u001b[0m\u001b[0;34m,\u001b[0m \u001b[0;34m**\u001b[0m\u001b[0mkwargs\u001b[0m\u001b[0;34m)\u001b[0m\u001b[0;34m\u001b[0m\u001b[0;34m\u001b[0m\u001b[0m\n\u001b[0m\u001b[1;32m   1528\u001b[0m \u001b[0;34m\u001b[0m\u001b[0m\n\u001b[1;32m   1529\u001b[0m         \u001b[0;32mtry\u001b[0m\u001b[0;34m:\u001b[0m\u001b[0;34m\u001b[0m\u001b[0;34m\u001b[0m\u001b[0m\n",
            "\u001b[0;32m/usr/local/lib/python3.10/dist-packages/timm/models/resnet.py\u001b[0m in \u001b[0;36mforward\u001b[0;34m(self, x)\u001b[0m\n\u001b[1;32m    576\u001b[0m \u001b[0;34m\u001b[0m\u001b[0m\n\u001b[1;32m    577\u001b[0m     \u001b[0;32mdef\u001b[0m \u001b[0mforward\u001b[0m\u001b[0;34m(\u001b[0m\u001b[0mself\u001b[0m\u001b[0;34m,\u001b[0m \u001b[0mx\u001b[0m\u001b[0;34m:\u001b[0m \u001b[0mtorch\u001b[0m\u001b[0;34m.\u001b[0m\u001b[0mTensor\u001b[0m\u001b[0;34m)\u001b[0m \u001b[0;34m->\u001b[0m \u001b[0mtorch\u001b[0m\u001b[0;34m.\u001b[0m\u001b[0mTensor\u001b[0m\u001b[0;34m:\u001b[0m\u001b[0;34m\u001b[0m\u001b[0;34m\u001b[0m\u001b[0m\n\u001b[0;32m--> 578\u001b[0;31m         \u001b[0mx\u001b[0m \u001b[0;34m=\u001b[0m \u001b[0mself\u001b[0m\u001b[0;34m.\u001b[0m\u001b[0mforward_features\u001b[0m\u001b[0;34m(\u001b[0m\u001b[0mx\u001b[0m\u001b[0;34m)\u001b[0m\u001b[0;34m\u001b[0m\u001b[0;34m\u001b[0m\u001b[0m\n\u001b[0m\u001b[1;32m    579\u001b[0m         \u001b[0mx\u001b[0m \u001b[0;34m=\u001b[0m \u001b[0mself\u001b[0m\u001b[0;34m.\u001b[0m\u001b[0mforward_head\u001b[0m\u001b[0;34m(\u001b[0m\u001b[0mx\u001b[0m\u001b[0;34m)\u001b[0m\u001b[0;34m\u001b[0m\u001b[0;34m\u001b[0m\u001b[0m\n\u001b[1;32m    580\u001b[0m         \u001b[0;32mreturn\u001b[0m \u001b[0mx\u001b[0m\u001b[0;34m\u001b[0m\u001b[0;34m\u001b[0m\u001b[0m\n",
            "\u001b[0;32m/usr/local/lib/python3.10/dist-packages/timm/models/resnet.py\u001b[0m in \u001b[0;36mforward_features\u001b[0;34m(self, x)\u001b[0m\n\u001b[1;32m    555\u001b[0m \u001b[0;34m\u001b[0m\u001b[0m\n\u001b[1;32m    556\u001b[0m     \u001b[0;32mdef\u001b[0m \u001b[0mforward_features\u001b[0m\u001b[0;34m(\u001b[0m\u001b[0mself\u001b[0m\u001b[0;34m,\u001b[0m \u001b[0mx\u001b[0m\u001b[0;34m:\u001b[0m \u001b[0mtorch\u001b[0m\u001b[0;34m.\u001b[0m\u001b[0mTensor\u001b[0m\u001b[0;34m)\u001b[0m \u001b[0;34m->\u001b[0m \u001b[0mtorch\u001b[0m\u001b[0;34m.\u001b[0m\u001b[0mTensor\u001b[0m\u001b[0;34m:\u001b[0m\u001b[0;34m\u001b[0m\u001b[0;34m\u001b[0m\u001b[0m\n\u001b[0;32m--> 557\u001b[0;31m         \u001b[0mx\u001b[0m \u001b[0;34m=\u001b[0m \u001b[0mself\u001b[0m\u001b[0;34m.\u001b[0m\u001b[0mconv1\u001b[0m\u001b[0;34m(\u001b[0m\u001b[0mx\u001b[0m\u001b[0;34m)\u001b[0m\u001b[0;34m\u001b[0m\u001b[0;34m\u001b[0m\u001b[0m\n\u001b[0m\u001b[1;32m    558\u001b[0m         \u001b[0mx\u001b[0m \u001b[0;34m=\u001b[0m \u001b[0mself\u001b[0m\u001b[0;34m.\u001b[0m\u001b[0mbn1\u001b[0m\u001b[0;34m(\u001b[0m\u001b[0mx\u001b[0m\u001b[0;34m)\u001b[0m\u001b[0;34m\u001b[0m\u001b[0;34m\u001b[0m\u001b[0m\n\u001b[1;32m    559\u001b[0m         \u001b[0mx\u001b[0m \u001b[0;34m=\u001b[0m \u001b[0mself\u001b[0m\u001b[0;34m.\u001b[0m\u001b[0mact1\u001b[0m\u001b[0;34m(\u001b[0m\u001b[0mx\u001b[0m\u001b[0;34m)\u001b[0m\u001b[0;34m\u001b[0m\u001b[0;34m\u001b[0m\u001b[0m\n",
            "\u001b[0;32m/usr/local/lib/python3.10/dist-packages/torch/nn/modules/module.py\u001b[0m in \u001b[0;36m_wrapped_call_impl\u001b[0;34m(self, *args, **kwargs)\u001b[0m\n\u001b[1;32m   1516\u001b[0m             \u001b[0;32mreturn\u001b[0m \u001b[0mself\u001b[0m\u001b[0;34m.\u001b[0m\u001b[0m_compiled_call_impl\u001b[0m\u001b[0;34m(\u001b[0m\u001b[0;34m*\u001b[0m\u001b[0margs\u001b[0m\u001b[0;34m,\u001b[0m \u001b[0;34m**\u001b[0m\u001b[0mkwargs\u001b[0m\u001b[0;34m)\u001b[0m  \u001b[0;31m# type: ignore[misc]\u001b[0m\u001b[0;34m\u001b[0m\u001b[0;34m\u001b[0m\u001b[0m\n\u001b[1;32m   1517\u001b[0m         \u001b[0;32melse\u001b[0m\u001b[0;34m:\u001b[0m\u001b[0;34m\u001b[0m\u001b[0;34m\u001b[0m\u001b[0m\n\u001b[0;32m-> 1518\u001b[0;31m             \u001b[0;32mreturn\u001b[0m \u001b[0mself\u001b[0m\u001b[0;34m.\u001b[0m\u001b[0m_call_impl\u001b[0m\u001b[0;34m(\u001b[0m\u001b[0;34m*\u001b[0m\u001b[0margs\u001b[0m\u001b[0;34m,\u001b[0m \u001b[0;34m**\u001b[0m\u001b[0mkwargs\u001b[0m\u001b[0;34m)\u001b[0m\u001b[0;34m\u001b[0m\u001b[0;34m\u001b[0m\u001b[0m\n\u001b[0m\u001b[1;32m   1519\u001b[0m \u001b[0;34m\u001b[0m\u001b[0m\n\u001b[1;32m   1520\u001b[0m     \u001b[0;32mdef\u001b[0m \u001b[0m_call_impl\u001b[0m\u001b[0;34m(\u001b[0m\u001b[0mself\u001b[0m\u001b[0;34m,\u001b[0m \u001b[0;34m*\u001b[0m\u001b[0margs\u001b[0m\u001b[0;34m,\u001b[0m \u001b[0;34m**\u001b[0m\u001b[0mkwargs\u001b[0m\u001b[0;34m)\u001b[0m\u001b[0;34m:\u001b[0m\u001b[0;34m\u001b[0m\u001b[0;34m\u001b[0m\u001b[0m\n",
            "\u001b[0;32m/usr/local/lib/python3.10/dist-packages/torch/nn/modules/module.py\u001b[0m in \u001b[0;36m_call_impl\u001b[0;34m(self, *args, **kwargs)\u001b[0m\n\u001b[1;32m   1525\u001b[0m                 \u001b[0;32mor\u001b[0m \u001b[0m_global_backward_pre_hooks\u001b[0m \u001b[0;32mor\u001b[0m \u001b[0m_global_backward_hooks\u001b[0m\u001b[0;34m\u001b[0m\u001b[0;34m\u001b[0m\u001b[0m\n\u001b[1;32m   1526\u001b[0m                 or _global_forward_hooks or _global_forward_pre_hooks):\n\u001b[0;32m-> 1527\u001b[0;31m             \u001b[0;32mreturn\u001b[0m \u001b[0mforward_call\u001b[0m\u001b[0;34m(\u001b[0m\u001b[0;34m*\u001b[0m\u001b[0margs\u001b[0m\u001b[0;34m,\u001b[0m \u001b[0;34m**\u001b[0m\u001b[0mkwargs\u001b[0m\u001b[0;34m)\u001b[0m\u001b[0;34m\u001b[0m\u001b[0;34m\u001b[0m\u001b[0m\n\u001b[0m\u001b[1;32m   1528\u001b[0m \u001b[0;34m\u001b[0m\u001b[0m\n\u001b[1;32m   1529\u001b[0m         \u001b[0;32mtry\u001b[0m\u001b[0;34m:\u001b[0m\u001b[0;34m\u001b[0m\u001b[0;34m\u001b[0m\u001b[0m\n",
            "\u001b[0;32m/usr/local/lib/python3.10/dist-packages/torch/nn/modules/conv.py\u001b[0m in \u001b[0;36mforward\u001b[0;34m(self, input)\u001b[0m\n\u001b[1;32m    458\u001b[0m \u001b[0;34m\u001b[0m\u001b[0m\n\u001b[1;32m    459\u001b[0m     \u001b[0;32mdef\u001b[0m \u001b[0mforward\u001b[0m\u001b[0;34m(\u001b[0m\u001b[0mself\u001b[0m\u001b[0;34m,\u001b[0m \u001b[0minput\u001b[0m\u001b[0;34m:\u001b[0m \u001b[0mTensor\u001b[0m\u001b[0;34m)\u001b[0m \u001b[0;34m->\u001b[0m \u001b[0mTensor\u001b[0m\u001b[0;34m:\u001b[0m\u001b[0;34m\u001b[0m\u001b[0;34m\u001b[0m\u001b[0m\n\u001b[0;32m--> 460\u001b[0;31m         \u001b[0;32mreturn\u001b[0m \u001b[0mself\u001b[0m\u001b[0;34m.\u001b[0m\u001b[0m_conv_forward\u001b[0m\u001b[0;34m(\u001b[0m\u001b[0minput\u001b[0m\u001b[0;34m,\u001b[0m \u001b[0mself\u001b[0m\u001b[0;34m.\u001b[0m\u001b[0mweight\u001b[0m\u001b[0;34m,\u001b[0m \u001b[0mself\u001b[0m\u001b[0;34m.\u001b[0m\u001b[0mbias\u001b[0m\u001b[0;34m)\u001b[0m\u001b[0;34m\u001b[0m\u001b[0;34m\u001b[0m\u001b[0m\n\u001b[0m\u001b[1;32m    461\u001b[0m \u001b[0;34m\u001b[0m\u001b[0m\n\u001b[1;32m    462\u001b[0m \u001b[0;32mclass\u001b[0m \u001b[0mConv3d\u001b[0m\u001b[0;34m(\u001b[0m\u001b[0m_ConvNd\u001b[0m\u001b[0;34m)\u001b[0m\u001b[0;34m:\u001b[0m\u001b[0;34m\u001b[0m\u001b[0;34m\u001b[0m\u001b[0m\n",
            "\u001b[0;32m/usr/local/lib/python3.10/dist-packages/torch/nn/modules/conv.py\u001b[0m in \u001b[0;36m_conv_forward\u001b[0;34m(self, input, weight, bias)\u001b[0m\n\u001b[1;32m    454\u001b[0m                             \u001b[0mweight\u001b[0m\u001b[0;34m,\u001b[0m \u001b[0mbias\u001b[0m\u001b[0;34m,\u001b[0m \u001b[0mself\u001b[0m\u001b[0;34m.\u001b[0m\u001b[0mstride\u001b[0m\u001b[0;34m,\u001b[0m\u001b[0;34m\u001b[0m\u001b[0;34m\u001b[0m\u001b[0m\n\u001b[1;32m    455\u001b[0m                             _pair(0), self.dilation, self.groups)\n\u001b[0;32m--> 456\u001b[0;31m         return F.conv2d(input, weight, bias, self.stride,\n\u001b[0m\u001b[1;32m    457\u001b[0m                         self.padding, self.dilation, self.groups)\n\u001b[1;32m    458\u001b[0m \u001b[0;34m\u001b[0m\u001b[0m\n",
            "\u001b[0;31mRuntimeError\u001b[0m: Input type (torch.FloatTensor) and weight type (torch.cuda.FloatTensor) should be the same or input should be a MKLDNN tensor and weight is a dense tensor"
          ]
        }
      ]
    },
    {
      "cell_type": "code",
      "source": [
        "modelo"
      ],
      "metadata": {
        "id": "vZL6ytYBJXUa"
      },
      "execution_count": null,
      "outputs": []
    },
    {
      "cell_type": "code",
      "source": [
        "image = prepare_images('./images/validation/sad/')\n",
        "modelo.predict(images)"
      ],
      "metadata": {
        "colab": {
          "base_uri": "https://localhost:8080/",
          "height": 339
        },
        "id": "7U-8x1jG7FSJ",
        "outputId": "1e970788-7cca-493b-fae0-a6a91a887fdc"
      },
      "execution_count": 38,
      "outputs": [
        {
          "output_type": "error",
          "ename": "FileNotFoundError",
          "evalue": "ignored",
          "traceback": [
            "\u001b[0;31m---------------------------------------------------------------------------\u001b[0m",
            "\u001b[0;31mFileNotFoundError\u001b[0m                         Traceback (most recent call last)",
            "\u001b[0;32m<ipython-input-38-9d4034322692>\u001b[0m in \u001b[0;36m<cell line: 1>\u001b[0;34m()\u001b[0m\n\u001b[0;32m----> 1\u001b[0;31m \u001b[0mimage\u001b[0m \u001b[0;34m=\u001b[0m \u001b[0mprepare_images\u001b[0m\u001b[0;34m(\u001b[0m\u001b[0;34m'./images/validation/sad/'\u001b[0m\u001b[0;34m)\u001b[0m\u001b[0;34m\u001b[0m\u001b[0;34m\u001b[0m\u001b[0m\n\u001b[0m\u001b[1;32m      2\u001b[0m \u001b[0mmodelo\u001b[0m\u001b[0;34m.\u001b[0m\u001b[0mpredict\u001b[0m\u001b[0;34m(\u001b[0m\u001b[0mimages\u001b[0m\u001b[0;34m)\u001b[0m\u001b[0;34m\u001b[0m\u001b[0;34m\u001b[0m\u001b[0m\n",
            "\u001b[0;32m<ipython-input-36-cc910f0ad64f>\u001b[0m in \u001b[0;36mprepare_images\u001b[0;34m(path)\u001b[0m\n\u001b[1;32m      1\u001b[0m \u001b[0;32mdef\u001b[0m \u001b[0mprepare_images\u001b[0m\u001b[0;34m(\u001b[0m\u001b[0mpath\u001b[0m\u001b[0;34m)\u001b[0m\u001b[0;34m:\u001b[0m\u001b[0;34m\u001b[0m\u001b[0;34m\u001b[0m\u001b[0m\n\u001b[1;32m      2\u001b[0m     \u001b[0mvalid_augs\u001b[0m \u001b[0;34m=\u001b[0m \u001b[0mT\u001b[0m\u001b[0;34m.\u001b[0m\u001b[0mCompose\u001b[0m\u001b[0;34m(\u001b[0m\u001b[0;34m[\u001b[0m\u001b[0mT\u001b[0m\u001b[0;34m.\u001b[0m\u001b[0mToTensor\u001b[0m\u001b[0;34m(\u001b[0m\u001b[0;34m)\u001b[0m\u001b[0;34m]\u001b[0m\u001b[0;34m)\u001b[0m\u001b[0;34m\u001b[0m\u001b[0;34m\u001b[0m\u001b[0m\n\u001b[0;32m----> 3\u001b[0;31m     \u001b[0mdata\u001b[0m \u001b[0;34m=\u001b[0m \u001b[0mImageFolder\u001b[0m\u001b[0;34m(\u001b[0m\u001b[0mpath\u001b[0m\u001b[0;34m,\u001b[0m \u001b[0mtransform\u001b[0m \u001b[0;34m=\u001b[0m\u001b[0mvalid_augs\u001b[0m\u001b[0;34m)\u001b[0m\u001b[0;34m\u001b[0m\u001b[0;34m\u001b[0m\u001b[0m\n\u001b[0m\u001b[1;32m      4\u001b[0m \u001b[0;34m\u001b[0m\u001b[0m\n\u001b[1;32m      5\u001b[0m     \u001b[0;31m# Crear generadores de lotes (DataLoaders)\u001b[0m\u001b[0;34m\u001b[0m\u001b[0;34m\u001b[0m\u001b[0m\n",
            "\u001b[0;32m/usr/local/lib/python3.10/dist-packages/torchvision/datasets/folder.py\u001b[0m in \u001b[0;36m__init__\u001b[0;34m(self, root, transform, target_transform, loader, is_valid_file)\u001b[0m\n\u001b[1;32m    307\u001b[0m         \u001b[0mis_valid_file\u001b[0m\u001b[0;34m:\u001b[0m \u001b[0mOptional\u001b[0m\u001b[0;34m[\u001b[0m\u001b[0mCallable\u001b[0m\u001b[0;34m[\u001b[0m\u001b[0;34m[\u001b[0m\u001b[0mstr\u001b[0m\u001b[0;34m]\u001b[0m\u001b[0;34m,\u001b[0m \u001b[0mbool\u001b[0m\u001b[0;34m]\u001b[0m\u001b[0;34m]\u001b[0m \u001b[0;34m=\u001b[0m \u001b[0;32mNone\u001b[0m\u001b[0;34m,\u001b[0m\u001b[0;34m\u001b[0m\u001b[0;34m\u001b[0m\u001b[0m\n\u001b[1;32m    308\u001b[0m     ):\n\u001b[0;32m--> 309\u001b[0;31m         super().__init__(\n\u001b[0m\u001b[1;32m    310\u001b[0m             \u001b[0mroot\u001b[0m\u001b[0;34m,\u001b[0m\u001b[0;34m\u001b[0m\u001b[0;34m\u001b[0m\u001b[0m\n\u001b[1;32m    311\u001b[0m             \u001b[0mloader\u001b[0m\u001b[0;34m,\u001b[0m\u001b[0;34m\u001b[0m\u001b[0;34m\u001b[0m\u001b[0m\n",
            "\u001b[0;32m/usr/local/lib/python3.10/dist-packages/torchvision/datasets/folder.py\u001b[0m in \u001b[0;36m__init__\u001b[0;34m(self, root, loader, extensions, transform, target_transform, is_valid_file)\u001b[0m\n\u001b[1;32m    142\u001b[0m     ) -> None:\n\u001b[1;32m    143\u001b[0m         \u001b[0msuper\u001b[0m\u001b[0;34m(\u001b[0m\u001b[0;34m)\u001b[0m\u001b[0;34m.\u001b[0m\u001b[0m__init__\u001b[0m\u001b[0;34m(\u001b[0m\u001b[0mroot\u001b[0m\u001b[0;34m,\u001b[0m \u001b[0mtransform\u001b[0m\u001b[0;34m=\u001b[0m\u001b[0mtransform\u001b[0m\u001b[0;34m,\u001b[0m \u001b[0mtarget_transform\u001b[0m\u001b[0;34m=\u001b[0m\u001b[0mtarget_transform\u001b[0m\u001b[0;34m)\u001b[0m\u001b[0;34m\u001b[0m\u001b[0;34m\u001b[0m\u001b[0m\n\u001b[0;32m--> 144\u001b[0;31m         \u001b[0mclasses\u001b[0m\u001b[0;34m,\u001b[0m \u001b[0mclass_to_idx\u001b[0m \u001b[0;34m=\u001b[0m \u001b[0mself\u001b[0m\u001b[0;34m.\u001b[0m\u001b[0mfind_classes\u001b[0m\u001b[0;34m(\u001b[0m\u001b[0mself\u001b[0m\u001b[0;34m.\u001b[0m\u001b[0mroot\u001b[0m\u001b[0;34m)\u001b[0m\u001b[0;34m\u001b[0m\u001b[0;34m\u001b[0m\u001b[0m\n\u001b[0m\u001b[1;32m    145\u001b[0m         \u001b[0msamples\u001b[0m \u001b[0;34m=\u001b[0m \u001b[0mself\u001b[0m\u001b[0;34m.\u001b[0m\u001b[0mmake_dataset\u001b[0m\u001b[0;34m(\u001b[0m\u001b[0mself\u001b[0m\u001b[0;34m.\u001b[0m\u001b[0mroot\u001b[0m\u001b[0;34m,\u001b[0m \u001b[0mclass_to_idx\u001b[0m\u001b[0;34m,\u001b[0m \u001b[0mextensions\u001b[0m\u001b[0;34m,\u001b[0m \u001b[0mis_valid_file\u001b[0m\u001b[0;34m)\u001b[0m\u001b[0;34m\u001b[0m\u001b[0;34m\u001b[0m\u001b[0m\n\u001b[1;32m    146\u001b[0m \u001b[0;34m\u001b[0m\u001b[0m\n",
            "\u001b[0;32m/usr/local/lib/python3.10/dist-packages/torchvision/datasets/folder.py\u001b[0m in \u001b[0;36mfind_classes\u001b[0;34m(self, directory)\u001b[0m\n\u001b[1;32m    216\u001b[0m             \u001b[0;34m(\u001b[0m\u001b[0mTuple\u001b[0m\u001b[0;34m[\u001b[0m\u001b[0mList\u001b[0m\u001b[0;34m[\u001b[0m\u001b[0mstr\u001b[0m\u001b[0;34m]\u001b[0m\u001b[0;34m,\u001b[0m \u001b[0mDict\u001b[0m\u001b[0;34m[\u001b[0m\u001b[0mstr\u001b[0m\u001b[0;34m,\u001b[0m \u001b[0mint\u001b[0m\u001b[0;34m]\u001b[0m\u001b[0;34m]\u001b[0m\u001b[0;34m)\u001b[0m\u001b[0;34m:\u001b[0m \u001b[0mList\u001b[0m \u001b[0mof\u001b[0m \u001b[0mall\u001b[0m \u001b[0mclasses\u001b[0m \u001b[0;32mand\u001b[0m \u001b[0mdictionary\u001b[0m \u001b[0mmapping\u001b[0m \u001b[0meach\u001b[0m \u001b[0;32mclass\u001b[0m \u001b[0mto\u001b[0m \u001b[0man\u001b[0m \u001b[0mindex\u001b[0m\u001b[0;34m.\u001b[0m\u001b[0;34m\u001b[0m\u001b[0;34m\u001b[0m\u001b[0m\n\u001b[1;32m    217\u001b[0m         \"\"\"\n\u001b[0;32m--> 218\u001b[0;31m         \u001b[0;32mreturn\u001b[0m \u001b[0mfind_classes\u001b[0m\u001b[0;34m(\u001b[0m\u001b[0mdirectory\u001b[0m\u001b[0;34m)\u001b[0m\u001b[0;34m\u001b[0m\u001b[0;34m\u001b[0m\u001b[0m\n\u001b[0m\u001b[1;32m    219\u001b[0m \u001b[0;34m\u001b[0m\u001b[0m\n\u001b[1;32m    220\u001b[0m     \u001b[0;32mdef\u001b[0m \u001b[0m__getitem__\u001b[0m\u001b[0;34m(\u001b[0m\u001b[0mself\u001b[0m\u001b[0;34m,\u001b[0m \u001b[0mindex\u001b[0m\u001b[0;34m:\u001b[0m \u001b[0mint\u001b[0m\u001b[0;34m)\u001b[0m \u001b[0;34m->\u001b[0m \u001b[0mTuple\u001b[0m\u001b[0;34m[\u001b[0m\u001b[0mAny\u001b[0m\u001b[0;34m,\u001b[0m \u001b[0mAny\u001b[0m\u001b[0;34m]\u001b[0m\u001b[0;34m:\u001b[0m\u001b[0;34m\u001b[0m\u001b[0;34m\u001b[0m\u001b[0m\n",
            "\u001b[0;32m/usr/local/lib/python3.10/dist-packages/torchvision/datasets/folder.py\u001b[0m in \u001b[0;36mfind_classes\u001b[0;34m(directory)\u001b[0m\n\u001b[1;32m     40\u001b[0m     \u001b[0mclasses\u001b[0m \u001b[0;34m=\u001b[0m \u001b[0msorted\u001b[0m\u001b[0;34m(\u001b[0m\u001b[0mentry\u001b[0m\u001b[0;34m.\u001b[0m\u001b[0mname\u001b[0m \u001b[0;32mfor\u001b[0m \u001b[0mentry\u001b[0m \u001b[0;32min\u001b[0m \u001b[0mos\u001b[0m\u001b[0;34m.\u001b[0m\u001b[0mscandir\u001b[0m\u001b[0;34m(\u001b[0m\u001b[0mdirectory\u001b[0m\u001b[0;34m)\u001b[0m \u001b[0;32mif\u001b[0m \u001b[0mentry\u001b[0m\u001b[0;34m.\u001b[0m\u001b[0mis_dir\u001b[0m\u001b[0;34m(\u001b[0m\u001b[0;34m)\u001b[0m\u001b[0;34m)\u001b[0m\u001b[0;34m\u001b[0m\u001b[0;34m\u001b[0m\u001b[0m\n\u001b[1;32m     41\u001b[0m     \u001b[0;32mif\u001b[0m \u001b[0;32mnot\u001b[0m \u001b[0mclasses\u001b[0m\u001b[0;34m:\u001b[0m\u001b[0;34m\u001b[0m\u001b[0;34m\u001b[0m\u001b[0m\n\u001b[0;32m---> 42\u001b[0;31m         \u001b[0;32mraise\u001b[0m \u001b[0mFileNotFoundError\u001b[0m\u001b[0;34m(\u001b[0m\u001b[0;34mf\"Couldn't find any class folder in {directory}.\"\u001b[0m\u001b[0;34m)\u001b[0m\u001b[0;34m\u001b[0m\u001b[0;34m\u001b[0m\u001b[0m\n\u001b[0m\u001b[1;32m     43\u001b[0m \u001b[0;34m\u001b[0m\u001b[0m\n\u001b[1;32m     44\u001b[0m     \u001b[0mclass_to_idx\u001b[0m \u001b[0;34m=\u001b[0m \u001b[0;34m{\u001b[0m\u001b[0mcls_name\u001b[0m\u001b[0;34m:\u001b[0m \u001b[0mi\u001b[0m \u001b[0;32mfor\u001b[0m \u001b[0mi\u001b[0m\u001b[0;34m,\u001b[0m \u001b[0mcls_name\u001b[0m \u001b[0;32min\u001b[0m \u001b[0menumerate\u001b[0m\u001b[0;34m(\u001b[0m\u001b[0mclasses\u001b[0m\u001b[0;34m)\u001b[0m\u001b[0;34m}\u001b[0m\u001b[0;34m\u001b[0m\u001b[0;34m\u001b[0m\u001b[0m\n",
            "\u001b[0;31mFileNotFoundError\u001b[0m: Couldn't find any class folder in ./images/validation/sad/."
          ]
        }
      ]
    },
    {
      "cell_type": "code",
      "source": [
        "import matplotlib.pyplot as plt\n",
        "\n",
        "def plot_results(history):\n",
        "    acc = history.history['accuracy']\n",
        "    val_acc = history.history['val_accuracy']\n",
        "    loss = history.history['loss']\n",
        "    val_loss = history.history['val_loss']\n",
        "\n",
        "    epochs = range(1, len(acc) + 1)\n",
        "\n",
        "    plt.figure(figsize = (24, 6))\n",
        "    plt.subplot(1,2,1)\n",
        "    plt.plot(epochs, acc, 'b', label = 'Training Accuracy')\n",
        "    plt.plot(epochs, val_acc, 'r', label = 'Validation Accuracy')\n",
        "    plt.grid(True)\n",
        "    plt.legend()\n",
        "    plt.xlabel('Epoch')\n",
        "\n",
        "\n",
        "\n",
        "    plt.subplot(1,2,2)\n",
        "    plt.plot(epochs, loss, 'b', label = 'Training Loss')\n",
        "    plt.plot(epochs, val_loss, 'r', label = 'Validation Loss')\n",
        "    plt.grid(True)\n",
        "    plt.legend()\n",
        "    plt.xlabel('Epoch')\n",
        "    plt.show()\n",
        "\n",
        "def get_best_epcoh(history):\n",
        "    valid_acc = history.history['val_accuracy']\n",
        "    best_epoch = valid_acc.index(max(valid_acc)) + 1\n",
        "    best_acc =  max(valid_acc)\n",
        "    print('Best Validation Accuracy Score {:0.5f}, is for epoch {}'.format( best_acc, best_epoch))\n",
        "    return best_epoch"
      ],
      "metadata": {
        "id": "FxgZJ2mcZd2f"
      },
      "execution_count": 26,
      "outputs": []
    }
  ]
}